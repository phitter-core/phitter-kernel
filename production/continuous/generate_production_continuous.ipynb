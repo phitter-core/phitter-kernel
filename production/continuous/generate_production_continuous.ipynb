{
 "cells": [
  {
   "cell_type": "code",
   "execution_count": 1,
   "metadata": {},
   "outputs": [],
   "source": [
    "import os\n",
    "import re"
   ]
  },
  {
   "cell_type": "code",
   "execution_count": 2,
   "metadata": {},
   "outputs": [],
   "source": [
    "def process_py_file(file_path):\n",
    "    with open(file_path, \"r\", encoding=\"utf8\") as f:\n",
    "        file_content = f.read()\n",
    "\n",
    "    # Remove import statements\n",
    "    file_content = re.sub(r\"^import.*$|^from .* import.*$\", \"\", file_content, flags=re.MULTILINE)\n",
    "\n",
    "    file_content = re.sub(r\"^sys.path.append.*\\n\", \"\", file_content, flags=re.MULTILINE)\n",
    "\n",
    "    # Remove comments\n",
    "    file_content = re.sub(r\"#.*\", \"\", file_content)\n",
    "\n",
    "    # # Remove function descriptions and docstrings\n",
    "    patron_docstrings_triple_comillas = r\"(\\\"\\\"\\\")(.*?)(\\\"\\\"\\\")\"\n",
    "    patron_docstrings_comillas_simples = r\"(\\'\\'\\')(.*?)(\\'\\'\\')\"\n",
    "    patron_total = f\"{patron_docstrings_triple_comillas}|{patron_docstrings_comillas_simples}\"\n",
    "\n",
    "    file_content = re.sub(patron_total, \"\", file_content, flags=re.DOTALL)\n",
    "\n",
    "    # Remove the code inside if __name__ == \"__main__\": block\n",
    "    file_content = re.sub(r'if __name__ == \"__main__\":[\\s\\S]*', \"\", file_content)\n",
    "\n",
    "    # Remove any empty lines and extra whitespaces\n",
    "    file_content = re.sub(r\"^\\s*\\n\", \"\", file_content, flags=re.MULTILINE)\n",
    "    file_content = re.sub(r\"\\n\\s*\\n\", \"\\n\", file_content)\n",
    "    file_content = file_content.strip()\n",
    "\n",
    "    return file_content"
   ]
  },
  {
   "cell_type": "code",
   "execution_count": 3,
   "metadata": {},
   "outputs": [],
   "source": [
    "def get_import_lines(file_path):\n",
    "    with open(file_path, \"r\", encoding=\"utf8\") as f:\n",
    "        file_content = f.read()\n",
    "\n",
    "    # Find all import lines using regular expression\n",
    "    import_lines = re.findall(r\"^import.*$|^from .* import.*$\", file_content, re.MULTILINE)\n",
    "\n",
    "    return import_lines"
   ]
  },
  {
   "cell_type": "code",
   "execution_count": 4,
   "metadata": {},
   "outputs": [
    {
     "name": "stdout",
     "output_type": "stream",
     "text": [
      "class FATIGUE_LIFE:\n",
      "    def __init__(self, measurements):\n",
      "        self.parameters = self.get_parameters(measurements)\n",
      "        self.gamma = self.parameters[\"gamma\"]\n",
      "        self.loc = self.parameters[\"loc\"]\n",
      "        self.scale = self.parameters[\"scale\"]\n",
      "    def cdf(self, x: float) -> float:\n",
      "        z = lambda t: numpy.sqrt((t - self.loc) / self.scale)\n",
      "        result = scipy.stats.norm.cdf((z(x) - 1 / z(x)) / (self.gamma))\n",
      "        return result\n",
      "    def pdf(self, x: float) -> float:\n",
      "        z = lambda t: numpy.sqrt((t - self.loc) / self.scale)\n",
      "        result = (z(x) + 1 / z(x)) / (2 * self.gamma * (x - self.loc)) * scipy.stats.norm.pdf((z(x) - 1 / z(x)) / (self.gamma))\n",
      "        return result\n",
      "    def get_num_parameters(self) -> int:\n",
      "        return len(self.parameters)\n",
      "    def parameter_restrictions(self) -> bool:\n",
      "        v1 = self.scale > 0\n",
      "        v2 = self.gamma > 0\n",
      "        return v1 and v2\n",
      "    def get_parameters(self, measurements) -> dict[str, float | int]:\n",
      "        scipy_params = scipy.stats.fatiguelife.fit(measurements.data)\n",
      "        parameters = {\"gamma\": scipy_params[0], \"loc\": scipy_params[1], \"scale\": scipy_params[2]}\n",
      "        return parameters\n"
     ]
    }
   ],
   "source": [
    "input_file_path = \"../../continuous/distributions/fatigue_life.py\"\n",
    "processed_content = process_py_file(input_file_path)\n",
    "print(processed_content)"
   ]
  },
  {
   "cell_type": "code",
   "execution_count": 5,
   "metadata": {},
   "outputs": [],
   "source": [
    "input_file_path = \"../../continuous/distributions/fatigue_life.py\"\n",
    "import_lines = get_import_lines(input_file_path)"
   ]
  },
  {
   "cell_type": "code",
   "execution_count": 6,
   "metadata": {},
   "outputs": [],
   "source": [
    "IMPORTS = []\n",
    "for file in os.listdir(\"../../continuous/distributions\"):\n",
    "    if \".py\" in file:\n",
    "        import_lines = get_import_lines(f\"../../continuous/distributions/{file}\")\n",
    "        IMPORTS.extend(import_lines)\n",
    "\n",
    "input_file_path = \"../../continuous/measurements/measurements_continuous.py\"\n",
    "import_lines = get_import_lines(input_file_path)\n",
    "IMPORTS.extend(import_lines)"
   ]
  },
  {
   "cell_type": "code",
   "execution_count": 7,
   "metadata": {},
   "outputs": [],
   "source": [
    "IMPORTS.append(\"import joblib\")"
   ]
  },
  {
   "cell_type": "code",
   "execution_count": 8,
   "metadata": {},
   "outputs": [],
   "source": [
    "CODE = \"\\n\".join(sorted(list(set(IMPORTS)))) + \"\\n\\n\"\n",
    "for file in os.listdir(\"../../continuous/distributions\"):\n",
    "    if \".py\" in file:\n",
    "        processed_content = process_py_file(f\"../../continuous/distributions/{file}\")\n",
    "        CODE += processed_content + \"\\n\\n\""
   ]
  },
  {
   "cell_type": "code",
   "execution_count": 9,
   "metadata": {},
   "outputs": [],
   "source": [
    "input_file_path = \"../../continuous/measurements/measurements_continuous.py\"\n",
    "measuerements_code = process_py_file(input_file_path)\n",
    "CODE += measuerements_code + \"\\n\\n\"\n",
    "\n",
    "input_file_path = \"../../continuous/test_chi_square_continuous.py\"\n",
    "test_chi_square_continuous_code = process_py_file(input_file_path)\n",
    "CODE += test_chi_square_continuous_code + \"\\n\\n\"\n",
    "\n",
    "input_file_path = \"../../continuous/test_kolmogorov_smirnov_continuous.py\"\n",
    "test_kolmogorov_smirnov_continuous_code = process_py_file(input_file_path)\n",
    "CODE += test_kolmogorov_smirnov_continuous_code + \"\\n\\n\"\n",
    "\n",
    "input_file_path = \"../../utilities/ad_marsaglia.py\"\n",
    "anderson_darling_code = process_py_file(input_file_path)\n",
    "CODE += anderson_darling_code + \"\\n\\n\"\n",
    "\n",
    "input_file_path = \"../../continuous/test_anderson_darling_continuous.py\"\n",
    "test_anderson_darling_continuous_code = process_py_file(input_file_path)\n",
    "test_anderson_darling_continuous_code = test_anderson_darling_continuous_code.replace(\"ad.\", \"\")\n",
    "CODE += test_anderson_darling_continuous_code + \"\\n\\n\""
   ]
  },
  {
   "cell_type": "code",
   "execution_count": 10,
   "metadata": {},
   "outputs": [],
   "source": [
    "class_phitter_continuous_code = process_py_file(\"../../phitter/continuous/phitter_continuous.py\")\n",
    "CODE += class_phitter_continuous_code + \"\\n\\n\""
   ]
  },
  {
   "cell_type": "code",
   "execution_count": 11,
   "metadata": {},
   "outputs": [],
   "source": [
    "code_file = open(\"./production_continuous.py\", \"+w\", encoding=\"utf8\")\n",
    "code_file.write(CODE)\n",
    "code_file.close()"
   ]
  },
  {
   "cell_type": "code",
   "execution_count": 12,
   "metadata": {},
   "outputs": [],
   "source": [
    "if_name_code = \"\"\"\n",
    "if __name__ == \"__main__\":\n",
    "    path = \"../../continuous/data/data_beta.txt\"\n",
    "    sample_distribution_file = open(path, \"r\")\n",
    "    data = [float(x.replace(\",\", \".\")) for x in sample_distribution_file.read().splitlines()]\n",
    "\n",
    "    phitter_continuous = PHITTER_CONTINUOUS(data)\n",
    "    sorted_results_sse, not_rejected_results = phitter_continuous.fit()\n",
    "\n",
    "    for distribution, results in not_rejected_results.items():\n",
    "        print(f\"Distribution: {distribution}, SSE: {results['sse']}, Aprobados: {results['n_test_passed']}\")\n",
    "\"\"\""
   ]
  },
  {
   "cell_type": "code",
   "execution_count": 13,
   "metadata": {},
   "outputs": [],
   "source": [
    "CODE += if_name_code"
   ]
  },
  {
   "cell_type": "code",
   "execution_count": 14,
   "metadata": {},
   "outputs": [],
   "source": [
    "code_file = open(\"./test_production_continuous.py\", \"+w\", encoding=\"utf8\")\n",
    "code_file.write(CODE)\n",
    "code_file.close()"
   ]
  }
 ],
 "metadata": {
  "kernelspec": {
   "display_name": "Python 3",
   "language": "python",
   "name": "python3"
  },
  "language_info": {
   "codemirror_mode": {
    "name": "ipython",
    "version": 3
   },
   "file_extension": ".py",
   "mimetype": "text/x-python",
   "name": "python",
   "nbconvert_exporter": "python",
   "pygments_lexer": "ipython3",
   "version": "3.10.10"
  },
  "orig_nbformat": 4
 },
 "nbformat": 4,
 "nbformat_minor": 2
}

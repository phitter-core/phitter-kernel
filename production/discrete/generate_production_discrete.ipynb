{
 "cells": [
  {
   "cell_type": "code",
   "execution_count": 1,
   "metadata": {},
   "outputs": [],
   "source": [
    "import os\n",
    "import re\n",
    "import os\n",
    "import re\n",
    "import Crypto.Cipher.AES\n",
    "import Crypto.Util.Padding\n",
    "import base64\n",
    "import json"
   ]
  },
  {
   "cell_type": "code",
   "execution_count": 2,
   "metadata": {},
   "outputs": [],
   "source": [
    "def process_py_file(file_path):\n",
    "    with open(file_path, \"r\", encoding=\"utf8\") as f:\n",
    "        file_content = f.read()\n",
    "\n",
    "    # Remove import statements\n",
    "    file_content = re.sub(r\"^import.*$|^from .* import.*$\", \"\", file_content, flags=re.MULTILINE)\n",
    "\n",
    "    file_content = re.sub(r\"^sys.path.append.*\\n\", \"\", file_content, flags=re.MULTILINE)\n",
    "\n",
    "    # Remove comments\n",
    "    file_content = re.sub(r\"#.*\", \"\", file_content)\n",
    "\n",
    "    # # Remove function descriptions and docstrings\n",
    "    patron_docstrings_triple_comillas = r'(\\\"\\\"\\\")(.*?)(\\\"\\\"\\\")'\n",
    "    patron_docstrings_comillas_simples = r'(\\'\\'\\')(.*?)(\\'\\'\\')'\n",
    "    patron_total = f\"{patron_docstrings_triple_comillas}|{patron_docstrings_comillas_simples}\"\n",
    "\n",
    "    file_content = re.sub(patron_total, '', file_content, flags=re.DOTALL)\n",
    "\n",
    "    # Remove the code inside if __name__ == \"__main__\": block\n",
    "    file_content = re.sub(r'if __name__ == \"__main__\":[\\s\\S]*', \"\", file_content)\n",
    "\n",
    "    # Remove any empty lines and extra whitespaces\n",
    "    file_content = re.sub(r\"^\\s*\\n\", \"\", file_content, flags=re.MULTILINE)\n",
    "    file_content = re.sub(r\"\\n\\s*\\n\", \"\\n\", file_content)\n",
    "    file_content = file_content.strip()\n",
    "\n",
    "    return file_content\n"
   ]
  },
  {
   "cell_type": "code",
   "execution_count": 3,
   "metadata": {},
   "outputs": [],
   "source": [
    "def get_import_lines(file_path):\n",
    "    with open(file_path, \"r\", encoding=\"utf8\") as f:\n",
    "        file_content = f.read()\n",
    "\n",
    "    # Find all import lines using regular expression\n",
    "    import_lines = re.findall(r\"^import.*$|^from .* import.*$\", file_content, re.MULTILINE)\n",
    "\n",
    "    return import_lines\n",
    "\n"
   ]
  },
  {
   "cell_type": "code",
   "execution_count": 4,
   "metadata": {},
   "outputs": [
    {
     "name": "stdout",
     "output_type": "stream",
     "text": [
      "class BERNOULLI:\n",
      "    def __init__(self, measurements):\n",
      "        self.parameters = self.get_parameters(measurements)\n",
      "        self.p = self.parameters[\"p\"]\n",
      "    def cdf(self, x: float) -> float:\n",
      "        result = scipy.stats.bernoulli.cdf(x, self.p)\n",
      "        return result\n",
      "    def pmf(self, x: int) -> float:\n",
      "        result = (self.p**x) * (1 - self.p) ** (1 - x)\n",
      "        return result\n",
      "    def get_num_parameters(self) -> int:\n",
      "        return len(self.parameters)\n",
      "    def parameter_restrictions(self) -> bool:\n",
      "        v1 = self.p > 0 and self.p < 1\n",
      "        return v1\n",
      "    def get_parameters(self, measurements) -> dict[str, float | int]:\n",
      "        p = measurements.mean\n",
      "        parameters = {\"p\": p}\n",
      "        return parameters\n"
     ]
    }
   ],
   "source": [
    "input_file_path = \"../../discrete/distributions/bernoulli.py\"\n",
    "processed_content = process_py_file(input_file_path)\n",
    "print(processed_content)"
   ]
  },
  {
   "cell_type": "code",
   "execution_count": 5,
   "metadata": {},
   "outputs": [],
   "source": [
    "input_file_path = \"../../discrete/distributions/bernoulli.py\"\n",
    "import_lines = get_import_lines(input_file_path)"
   ]
  },
  {
   "cell_type": "code",
   "execution_count": 6,
   "metadata": {},
   "outputs": [],
   "source": [
    "IMPORTS = []\n",
    "for file in os.listdir(\"../../discrete/distributions\"):\n",
    "    if \".py\" in file:\n",
    "        import_lines = get_import_lines(f\"../../discrete/distributions/{file}\")\n",
    "        IMPORTS.extend(import_lines)\n",
    "\n",
    "input_file_path = \"../../discrete/measurements/measurements_discrete.py\"\n",
    "import_lines = get_import_lines(input_file_path)\n",
    "IMPORTS.extend(import_lines)"
   ]
  },
  {
   "cell_type": "code",
   "execution_count": 7,
   "metadata": {},
   "outputs": [],
   "source": [
    "CODE = \"\\n\".join(sorted(list(set(IMPORTS)))) + \"\\n\\n\"\n",
    "for file in os.listdir(\"../../discrete/distributions\"):\n",
    "    if \".py\" in file:\n",
    "        processed_content = process_py_file(f\"../../discrete/distributions/{file}\")\n",
    "        CODE += processed_content + \"\\n\\n\""
   ]
  },
  {
   "cell_type": "code",
   "execution_count": 8,
   "metadata": {},
   "outputs": [],
   "source": [
    "input_file_path = \"../../discrete/measurements/measurements_discrete.py\"\n",
    "measuerements_code = process_py_file(input_file_path)\n",
    "CODE += measuerements_code + \"\\n\\n\"\n",
    "\n",
    "input_file_path = \"../../discrete/test_chi_square_discrete.py\"\n",
    "test_chi_square_discrete_code = process_py_file(input_file_path)\n",
    "CODE += test_chi_square_discrete_code + \"\\n\\n\"\n",
    "\n",
    "input_file_path = \"../../discrete/test_kolmogorov_smirnov_discrete.py\"\n",
    "test_kolmogorov_smirnov_discrete_code = process_py_file(input_file_path)\n",
    "CODE += test_kolmogorov_smirnov_discrete_code + \"\\n\\n\""
   ]
  },
  {
   "cell_type": "code",
   "execution_count": 9,
   "metadata": {},
   "outputs": [],
   "source": [
    "class_phitter_discrete_code = process_py_file(\"../../phitter/discrete/phitter_discrete.py\")\n",
    "CODE += class_phitter_discrete_code + \"\\n\\n\""
   ]
  },
  {
   "cell_type": "code",
   "execution_count": 10,
   "metadata": {},
   "outputs": [],
   "source": [
    "def encrypt_aes(texto: str, clave: str) -> str:\n",
    "    data = texto.encode()\n",
    "    key = clave.encode()\n",
    "\n",
    "    cipher = Crypto.Cipher.AES.new(key, Crypto.Cipher.AES.MODE_CBC)\n",
    "    ct_bytes = cipher.encrypt(Crypto.Util.Padding.pad(data, Crypto.Cipher.AES.block_size))\n",
    "    iv = base64.b64encode(cipher.iv).decode(\"utf-8\")\n",
    "    ct = base64.b64encode(ct_bytes).decode(\"utf-8\")\n",
    "\n",
    "    result = json.dumps({\"iv\": iv, \"ciphertext\": ct})\n",
    "    return result"
   ]
  },
  {
   "cell_type": "code",
   "execution_count": 11,
   "metadata": {},
   "outputs": [],
   "source": [
    "clave = \"X7g!2#4vKmQpR3sT5uW8yZbDfHjL9nV1\" "
   ]
  },
  {
   "cell_type": "code",
   "execution_count": 12,
   "metadata": {},
   "outputs": [],
   "source": [
    "code_file = open(\"./production_discrete.py\", \"+w\", encoding=\"utf8\")\n",
    "code_file.write(encrypt_aes(CODE, clave))\n",
    "code_file.close()"
   ]
  },
  {
   "cell_type": "code",
   "execution_count": 13,
   "metadata": {},
   "outputs": [],
   "source": [
    "if_name_code = \"\"\"\n",
    "if __name__ == \"__main__\":\n",
    "    path = \"../../discrete/data/data_binomial.txt\"\n",
    "    sample_distribution_file = open(path, \"r\", encoding=\"utf-8-sig\")\n",
    "    data = [float(x.replace(\",\", \".\")) for x in sample_distribution_file.read().splitlines()]\n",
    "\n",
    "    phitter_discrete = PHITTER_DISCRETE(data, confidence_level=0.95, minimum_sse=100)\n",
    "    sorted_results_sse, not_rejected_results = phitter_discrete.fit()\n",
    "\n",
    "    for distribution, results in not_rejected_results.items():\n",
    "        print(f\"Distribution: {distribution}, SSE: {results['sse']}, Aprobados: {results['n_test_passed']}\")\n",
    "\"\"\"\n"
   ]
  },
  {
   "cell_type": "code",
   "execution_count": 14,
   "metadata": {},
   "outputs": [],
   "source": [
    "CODE += if_name_code"
   ]
  },
  {
   "cell_type": "code",
   "execution_count": 15,
   "metadata": {},
   "outputs": [],
   "source": [
    "code_file = open(\"./test_production_discrete.py\", \"+w\", encoding=\"utf8\")\n",
    "code_file.write(CODE)\n",
    "code_file.close()"
   ]
  }
 ],
 "metadata": {
  "kernelspec": {
   "display_name": "Python 3",
   "language": "python",
   "name": "python3"
  },
  "language_info": {
   "codemirror_mode": {
    "name": "ipython",
    "version": 3
   },
   "file_extension": ".py",
   "mimetype": "text/x-python",
   "name": "python",
   "nbconvert_exporter": "python",
   "pygments_lexer": "ipython3",
   "version": "3.10.10"
  },
  "orig_nbformat": 4
 },
 "nbformat": 4,
 "nbformat_minor": 2
}

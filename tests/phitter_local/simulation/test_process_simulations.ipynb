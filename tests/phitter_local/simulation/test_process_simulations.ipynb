{
 "cells": [
  {
   "cell_type": "code",
   "execution_count": 1,
   "metadata": {},
   "outputs": [],
   "source": [
    "import sys\n",
    "sys.path.insert(0,\"../../../\")\n",
    "import phitter"
   ]
  },
  {
   "cell_type": "code",
   "execution_count": 2,
   "metadata": {},
   "outputs": [],
   "source": [
    "simulation = phitter.simulation.ProcessSimulation()\n",
    "simulation.add_process(\"normal\", {\"mu\": 5, \"sigma\": 2}, \"first\", new_branch=True, number_of_products=10)\n",
    "simulation.add_process(\"exponential\", {\"lambda\": 4}, \"second\", previous_ids=[\"first\"])\n",
    "simulation.add_process(\"exponential\", {\"lambda\": 4}, \"ni_idea\", previous_ids=[\"first\"])\n",
    "simulation.add_process(\"exponential\", {\"lambda\": 4}, \"ni_idea_2\", previous_ids=[\"first\"])\n",
    "\n",
    "simulation.add_process(\"gamma\", {\"alpha\": 15, \"beta\": 3}, \"third\", new_branch=True)\n",
    "# simulation.add_process(\"exponential\", {\"lambda\": 4.3}, \"nn\", previous_ids=[\"third\"])\n",
    "simulation.add_process(\"beta\", {\"alpha\": 1, \"beta\": 1, \"A\": 2, \"B\": 3}, \"fourth\", previous_ids=[\"second\", \"third\"], number_of_products=2)\n",
    "simulation.add_process(\"exponential\", {\"lambda\": 4.3}, \"nn\", previous_ids=[\"third\"])\n",
    "\n",
    "\n",
    "simulation.add_process(\"exponential\", {\"lambda\": 4.3}, \"fifth\", new_branch=True)\n",
    "simulation.add_process(\"exponential\", {\"lambda\": 4.3}, \"sixth\", previous_ids=[\"fourth\", \"ni_idea\", \"nn\"])\n",
    "simulation.add_process(\"beta\", {\"alpha\": 1, \"beta\": 1, \"A\": 2, \"B\": 3}, \"seventh\", previous_ids=[\"fifth\", \"sixth\", \"ni_idea_2\"])"
   ]
  },
  {
   "cell_type": "code",
   "execution_count": 3,
   "metadata": {},
   "outputs": [
    {
     "data": {
      "text/plain": [
       "[60.910389060638735,\n",
       " 71.7036413860762,\n",
       " 63.180822548765725,\n",
       " 61.67380804299192,\n",
       " 57.95645127570466,\n",
       " 58.428061132122146,\n",
       " 63.30357172070581,\n",
       " 70.73770263716327,\n",
       " 60.48492019029255,\n",
       " 59.26121489392577]"
      ]
     },
     "execution_count": 3,
     "metadata": {},
     "output_type": "execute_result"
    }
   ],
   "source": [
    "simulation.run(10)"
   ]
  },
  {
   "cell_type": "code",
   "execution_count": 4,
   "metadata": {},
   "outputs": [
    {
     "data": {
      "text/plain": [
       "(60.88028267603926, 61.12153218365918, 61.362781691279096, 0.6741848235617004)"
      ]
     },
     "execution_count": 4,
     "metadata": {},
     "output_type": "execute_result"
    }
   ],
   "source": [
    "simulation.run_confidence_interval(number_of_simulations=100)"
   ]
  }
 ],
 "metadata": {
  "kernelspec": {
   "display_name": "Python 3",
   "language": "python",
   "name": "python3"
  },
  "language_info": {
   "codemirror_mode": {
    "name": "ipython",
    "version": 3
   },
   "file_extension": ".py",
   "mimetype": "text/x-python",
   "name": "python",
   "nbconvert_exporter": "python",
   "pygments_lexer": "ipython3",
   "version": "3.11.2"
  }
 },
 "nbformat": 4,
 "nbformat_minor": 2
}

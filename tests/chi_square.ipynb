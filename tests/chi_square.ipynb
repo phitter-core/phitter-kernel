{
 "cells": [
  {
   "cell_type": "code",
   "execution_count": 1,
   "metadata": {},
   "outputs": [],
   "source": [
    "import numpy\n",
    "import pandas as pd\n",
    "import scipy.stats as st\n",
    "import matplotlib as mpl\n",
    "import matplotlib.pyplot as plt\n",
    "import math\n",
    "import random\n",
    "import sys\n",
    "import numpy\n",
    "import os\n",
    "import scipy.stats"
   ]
  },
  {
   "cell_type": "code",
   "execution_count": 2,
   "metadata": {},
   "outputs": [],
   "source": [
    "sys.path.append(\"../continuous\")\n",
    "sys.path.append(\"../continuous/measurements\")\n",
    "from measurements import MEASUREMENTS"
   ]
  },
  {
   "cell_type": "code",
   "execution_count": 3,
   "metadata": {},
   "outputs": [],
   "source": [
    "mpl.style.use(\"ggplot\")"
   ]
  },
  {
   "cell_type": "code",
   "execution_count": 4,
   "metadata": {},
   "outputs": [],
   "source": [
    "from distributions.alpha import ALPHA\n",
    "from distributions.arcsine import ARCSINE\n",
    "from distributions.argus import ARGUS\n",
    "from distributions.beta import BETA\n",
    "from distributions.beta_prime import BETA_PRIME\n",
    "from distributions.beta_prime_4p import BETA_PRIME_4P\n",
    "from distributions.bradford import BRADFORD\n",
    "from distributions.burr import BURR\n",
    "from distributions.burr_4p import BURR_4P\n",
    "from distributions.cauchy import CAUCHY\n",
    "from distributions.chi_square import CHI_SQUARE\n",
    "from distributions.chi_square_3p import CHI_SQUARE_3P\n",
    "from distributions.dagum import DAGUM\n",
    "from distributions.dagum_4p import DAGUM_4P\n",
    "from distributions.erlang import ERLANG\n",
    "from distributions.erlang_3p import ERLANG_3P\n",
    "from distributions.error_function import ERROR_FUNCTION\n",
    "from distributions.exponential import EXPONENTIAL\n",
    "from distributions.exponential_2p import EXPONENTIAL_2P\n",
    "from distributions.f import F\n",
    "from distributions.fatigue_life import FATIGUE_LIFE\n",
    "from distributions.folded_normal import FOLDED_NORMAL\n",
    "from distributions.frechet import FRECHET\n",
    "from distributions.f_4p import F_4P\n",
    "from distributions.gamma import GAMMA\n",
    "from distributions.gamma_3p import GAMMA_3P\n",
    "from distributions.generalized_extreme_value import GENERALIZED_EXTREME_VALUE\n",
    "from distributions.generalized_gamma import GENERALIZED_GAMMA\n",
    "from distributions.generalized_gamma_4p import GENERALIZED_GAMMA_4P\n",
    "from distributions.generalized_logistic import GENERALIZED_LOGISTIC\n",
    "from distributions.generalized_normal import GENERALIZED_NORMAL\n",
    "from distributions.generalized_pareto import GENERALIZED_PARETO\n",
    "from distributions.gibrat import GIBRAT\n",
    "from distributions.gumbel_left import GUMBEL_LEFT\n",
    "from distributions.gumbel_right import GUMBEL_RIGHT\n",
    "from distributions.half_normal import HALF_NORMAL\n",
    "from distributions.hyperbolic_secant import HYPERBOLIC_SECANT\n",
    "from distributions.inverse_gamma import INVERSE_GAMMA\n",
    "from distributions.inverse_gamma_3p import INVERSE_GAMMA_3P\n",
    "from distributions.inverse_gaussian import INVERSE_GAUSSIAN\n",
    "from distributions.inverse_gaussian_3p import INVERSE_GAUSSIAN_3P\n",
    "from distributions.johnson_sb import JOHNSON_SB\n",
    "from distributions.johnson_su import JOHNSON_SU\n",
    "from distributions.kumaraswamy import KUMARASWAMY\n",
    "from distributions.laplace import LAPLACE\n",
    "from distributions.levy import LEVY\n",
    "from distributions.loggamma import LOGGAMMA\n",
    "from distributions.logistic import LOGISTIC\n",
    "from distributions.loglogistic import LOGLOGISTIC\n",
    "from distributions.loglogistic_3p import LOGLOGISTIC_3P\n",
    "from distributions.lognormal import LOGNORMAL\n",
    "from distributions.maxwell import MAXWELL\n",
    "from distributions.moyal import MOYAL\n",
    "from distributions.nakagami import NAKAGAMI\n",
    "from distributions.nc_chi_square import NC_CHI_SQUARE\n",
    "from distributions.nc_f import NC_F\n",
    "from distributions.nc_t_student import NC_T_STUDENT\n",
    "from distributions.normal import NORMAL\n",
    "from distributions.pareto_first_kind import PARETO_FIRST_KIND\n",
    "from distributions.pareto_second_kind import PARETO_SECOND_KIND\n",
    "from distributions.pert import PERT\n",
    "from distributions.power_function import POWER_FUNCTION\n",
    "from distributions.rayleigh import RAYLEIGH\n",
    "from distributions.reciprocal import RECIPROCAL\n",
    "from distributions.rice import RICE\n",
    "from distributions.semicircular import SEMICIRCULAR\n",
    "from distributions.trapezoidal import TRAPEZOIDAL\n",
    "from distributions.triangular import TRIANGULAR\n",
    "from distributions.t_student import T_STUDENT\n",
    "from distributions.t_student_3p import T_STUDENT_3P\n",
    "from distributions.uniform import UNIFORM\n",
    "from distributions.weibull import WEIBULL\n",
    "from distributions.weibull_3p import WEIBULL_3P\n"
   ]
  },
  {
   "cell_type": "code",
   "execution_count": 5,
   "metadata": {},
   "outputs": [],
   "source": [
    "_all_distributions = [\n",
    "    ALPHA,\n",
    "    ARCSINE,\n",
    "    ARGUS,\n",
    "    BETA,\n",
    "    BETA_PRIME,\n",
    "    BETA_PRIME_4P,\n",
    "    BRADFORD,\n",
    "    BURR,\n",
    "    BURR_4P,\n",
    "    CAUCHY,\n",
    "    CHI_SQUARE,\n",
    "    CHI_SQUARE_3P,\n",
    "    DAGUM,\n",
    "    DAGUM_4P,\n",
    "    ERLANG,\n",
    "    ERLANG_3P,\n",
    "    ERROR_FUNCTION,\n",
    "    EXPONENTIAL,\n",
    "    EXPONENTIAL_2P,\n",
    "    F,\n",
    "    FATIGUE_LIFE,\n",
    "    FOLDED_NORMAL,\n",
    "    FRECHET,\n",
    "    F_4P,\n",
    "    GAMMA,\n",
    "    GAMMA_3P,\n",
    "    GENERALIZED_EXTREME_VALUE,\n",
    "    GENERALIZED_GAMMA,\n",
    "    GENERALIZED_GAMMA_4P,\n",
    "    GENERALIZED_LOGISTIC,\n",
    "    GENERALIZED_NORMAL,\n",
    "    GENERALIZED_PARETO,\n",
    "    GIBRAT,\n",
    "    GUMBEL_LEFT,\n",
    "    GUMBEL_RIGHT,\n",
    "    HALF_NORMAL,\n",
    "    HYPERBOLIC_SECANT,\n",
    "    INVERSE_GAMMA,\n",
    "    INVERSE_GAMMA_3P,\n",
    "    INVERSE_GAUSSIAN,\n",
    "    INVERSE_GAUSSIAN_3P,\n",
    "    JOHNSON_SB,\n",
    "    JOHNSON_SU,\n",
    "    KUMARASWAMY,\n",
    "    LAPLACE,\n",
    "    LEVY,\n",
    "    LOGGAMMA,\n",
    "    LOGISTIC,\n",
    "    LOGLOGISTIC,\n",
    "    LOGLOGISTIC_3P,\n",
    "    LOGNORMAL,\n",
    "    MAXWELL,\n",
    "    MOYAL,\n",
    "    NAKAGAMI,\n",
    "    NC_CHI_SQUARE,\n",
    "    NC_F,\n",
    "    NC_T_STUDENT,\n",
    "    NORMAL,\n",
    "    PARETO_FIRST_KIND,\n",
    "    PARETO_SECOND_KIND,\n",
    "    PERT,\n",
    "    POWER_FUNCTION,\n",
    "    RAYLEIGH,\n",
    "    RECIPROCAL,\n",
    "    RICE,\n",
    "    SEMICIRCULAR,\n",
    "    TRAPEZOIDAL,\n",
    "    TRIANGULAR,\n",
    "    T_STUDENT,\n",
    "    T_STUDENT_3P,\n",
    "    UNIFORM,\n",
    "    WEIBULL,\n",
    "    WEIBULL_3P,\n",
    "]"
   ]
  },
  {
   "cell_type": "code",
   "execution_count": 6,
   "metadata": {},
   "outputs": [],
   "source": [
    "def test_chi_square(data, distribution_class):\n",
    "    ## Init a instance of class\n",
    "    measurements = MEASUREMENTS(data)\n",
    "    distribution = distribution_class(measurements)\n",
    "\n",
    "    ## Parameters and preparations\n",
    "    N = measurements.length\n",
    "    num_bins = measurements.num_bins\n",
    "    frequencies, bin_edges = numpy.histogram(data, num_bins)\n",
    "    freedom_degrees = num_bins - 1 - distribution.get_num_parameters()\n",
    "\n",
    "    ## Calculation of errors\n",
    "    errors = []\n",
    "    for i, observed in enumerate(frequencies):\n",
    "        lower = bin_edges[i]\n",
    "        upper = bin_edges[i + 1]\n",
    "        expected = N * (distribution.cdf(upper) - distribution.cdf(lower))\n",
    "        errors.append(((observed - expected) ** 2) / expected)\n",
    "\n",
    "    ## Calculation of indicators\n",
    "    statistic_chi2 = sum(errors)\n",
    "    critical_value = scipy.stats.chi2.ppf(0.95, freedom_degrees)\n",
    "    p_value = 1 - scipy.stats.chi2.cdf(statistic_chi2, freedom_degrees)\n",
    "    rejected = statistic_chi2 >= critical_value\n",
    "\n",
    "    ## Construction of answer\n",
    "    result_test_chi2 = {\"test_statistic\": statistic_chi2, \"critical_value\": critical_value, \"p-value\": p_value, \"rejected\": rejected}\n",
    "\n",
    "    return result_test_chi2"
   ]
  },
  {
   "cell_type": "code",
   "execution_count": 7,
   "metadata": {},
   "outputs": [],
   "source": [
    "path = \"./data/data_normal.txt\"\n",
    "sample_distribution_file = open(path, \"r\")\n",
    "data = [float(x.replace(\",\", \".\")) for x in sample_distribution_file.read().splitlines()]"
   ]
  },
  {
   "cell_type": "code",
   "execution_count": 8,
   "metadata": {},
   "outputs": [],
   "source": [
    "measurements = MEASUREMENTS(data)"
   ]
  },
  {
   "cell_type": "code",
   "execution_count": 9,
   "metadata": {},
   "outputs": [],
   "source": [
    "## Calculae Histogram\n",
    "num_bins = measurements.doanes_formula()\n",
    "frequencies, bin_edges = numpy.histogram(data, num_bins, density=True)\n",
    "central_values = [(bin_edges[i] + bin_edges[i + 1]) / 2 for i in range(len(bin_edges) - 1)]\n"
   ]
  },
  {
   "cell_type": "code",
   "execution_count": 10,
   "metadata": {},
   "outputs": [],
   "source": [
    "results = {}"
   ]
  },
  {
   "cell_type": "code",
   "execution_count": 11,
   "metadata": {},
   "outputs": [
    {
     "name": "stdout",
     "output_type": "stream",
     "text": [
      "BETA\n",
      "{'test_statistic': 12.177290899990407, 'critical_value': 18.307038053275146, 'p-value': 0.27336633976463565, 'rejected': False}\n",
      "ERLANG_3P\n",
      "{'test_statistic': 12.981260469823203, 'critical_value': 19.67513757268249, 'p-value': 0.29455198246501246, 'rejected': False}\n",
      "F_4P\n",
      "{'test_statistic': 14.625945607874783, 'critical_value': 18.307038053275146, 'p-value': 0.14630592231590744, 'rejected': False}\n",
      "GAMMA_3P\n",
      "{'test_statistic': 12.95890883269068, 'critical_value': 19.67513757268249, 'p-value': 0.29601959737824846, 'rejected': False}\n",
      "GENERALIZED_NORMAL\n",
      "{'test_statistic': 10.012976497298768, 'critical_value': 19.67513757268249, 'p-value': 0.5292202825509073, 'rejected': False}\n",
      "XXX\n",
      "XXX\n",
      "XXX\n",
      "XXX\n",
      "JOHNSON_SB\n",
      "{'test_statistic': 12.23996653719892, 'critical_value': 18.307038053275146, 'p-value': 0.26931745659079165, 'rejected': False}\n",
      "JOHNSON_SU\n",
      "{'test_statistic': 9.094103452803328, 'critical_value': 18.307038053275146, 'p-value': 0.5231967493864677, 'rejected': False}\n",
      "XXX\n",
      "XXX\n",
      "XXX\n",
      "NC_T_STUDENT\n",
      "{'test_statistic': 9.782886925563357, 'critical_value': 18.307038053275146, 'p-value': 0.4597435501692557, 'rejected': False}\n",
      "NORMAL\n",
      "{'test_statistic': 12.389094514311484, 'critical_value': 21.02606981748307, 'p-value': 0.41495830836117786, 'rejected': False}\n",
      "XXX\n",
      "T_STUDENT_3P\n",
      "{'test_statistic': 9.751972674540406, 'critical_value': 19.67513757268249, 'p-value': 0.5528258458617732, 'rejected': False}\n"
     ]
    }
   ],
   "source": [
    "for distribution_class in _all_distributions:\n",
    "    try:\n",
    "        chi2_test = test_chi_square(data, distribution_class)\n",
    "        test_statistic = chi2_test[\"test_statistic\"]\n",
    "        critical_value = chi2_test[\"critical_value\"]\n",
    "        p_value = chi2_test[\"p-value\"]\n",
    "        rejected = chi2_test[\"rejected\"]\n",
    "        distribution = distribution_class(measurements)\n",
    "        if rejected == False and numpy.isnan(test_statistic) == False and test_statistic > 0:\n",
    "            print(distribution_class.__name__)\n",
    "            print(chi2_test)\n",
    "            results[distribution] = p_value\n",
    "    except:\n",
    "        print(\"XXX\")"
   ]
  },
  {
   "cell_type": "code",
   "execution_count": 12,
   "metadata": {},
   "outputs": [
    {
     "data": {
      "text/plain": [
       "{<distributions.f_4p.F_4P at 0x13addbe4f40>: 0.14630592231590744,\n",
       " <distributions.johnson_sb.JOHNSON_SB at 0x13addd1bfd0>: 0.26931745659079165,\n",
       " <distributions.beta.BETA at 0x13addbe6080>: 0.27336633976463565,\n",
       " <distributions.erlang_3p.ERLANG_3P at 0x13addbe4b50>: 0.29455198246501246,\n",
       " <distributions.gamma_3p.GAMMA_3P at 0x13addc81690>: 0.29601959737824846,\n",
       " <distributions.normal.NORMAL at 0x13addd22c20>: 0.41495830836117786,\n",
       " <distributions.nc_t_student.NC_T_STUDENT at 0x13addd23be0>: 0.4597435501692557,\n",
       " <distributions.johnson_su.JOHNSON_SU at 0x13addc808e0>: 0.5231967493864677,\n",
       " <distributions.generalized_normal.GENERALIZED_NORMAL at 0x13aad0235e0>: 0.5292202825509073,\n",
       " <distributions.t_student_3p.T_STUDENT_3P at 0x13addd23f40>: 0.5528258458617732}"
      ]
     },
     "execution_count": 12,
     "metadata": {},
     "output_type": "execute_result"
    }
   ],
   "source": [
    "results = {k: v for k, v in sorted(results.items(), key=lambda item: item[1])}\n",
    "results"
   ]
  },
  {
   "cell_type": "code",
   "execution_count": 13,
   "metadata": {},
   "outputs": [
    {
     "ename": "OverflowError",
     "evalue": "math range error",
     "output_type": "error",
     "traceback": [
      "\u001b[1;31m---------------------------------------------------------------------------\u001b[0m",
      "\u001b[1;31mOverflowError\u001b[0m                             Traceback (most recent call last)",
      "Cell \u001b[1;32mIn[13], line 20\u001b[0m\n\u001b[0;32m     18\u001b[0m     ul \u001b[39m=\u001b[39m \u001b[39mmax\u001b[39m(data) \u001b[39m+\u001b[39m \u001b[39m10\u001b[39m\n\u001b[0;32m     19\u001b[0m x_plot \u001b[39m=\u001b[39m numpy\u001b[39m.\u001b[39mlinspace(ll, ul, \u001b[39m1000\u001b[39m)\n\u001b[1;32m---> 20\u001b[0m y_plot \u001b[39m=\u001b[39m [distribution\u001b[39m.\u001b[39mpdf(x) \u001b[39mfor\u001b[39;00m x \u001b[39min\u001b[39;00m x_plot]\n\u001b[0;32m     21\u001b[0m label_d \u001b[39m=\u001b[39m distribution\u001b[39m.\u001b[39m\u001b[39m__class__\u001b[39m\u001b[39m.\u001b[39m\u001b[39m__name__\u001b[39m \u001b[39m+\u001b[39m \u001b[39m\"\u001b[39m\u001b[39m: \u001b[39m\u001b[39m\"\u001b[39m \u001b[39m+\u001b[39m \u001b[39mstr\u001b[39m(\u001b[39mround\u001b[39m(sse, \u001b[39m4\u001b[39m))\n\u001b[0;32m     22\u001b[0m color_d \u001b[39m=\u001b[39m [random\u001b[39m.\u001b[39muniform(\u001b[39m0\u001b[39m, \u001b[39m1\u001b[39m), random\u001b[39m.\u001b[39muniform(\u001b[39m0\u001b[39m, \u001b[39m1\u001b[39m), random\u001b[39m.\u001b[39muniform(\u001b[39m0\u001b[39m, \u001b[39m1\u001b[39m)]\n",
      "Cell \u001b[1;32mIn[13], line 20\u001b[0m, in \u001b[0;36m<listcomp>\u001b[1;34m(.0)\u001b[0m\n\u001b[0;32m     18\u001b[0m     ul \u001b[39m=\u001b[39m \u001b[39mmax\u001b[39m(data) \u001b[39m+\u001b[39m \u001b[39m10\u001b[39m\n\u001b[0;32m     19\u001b[0m x_plot \u001b[39m=\u001b[39m numpy\u001b[39m.\u001b[39mlinspace(ll, ul, \u001b[39m1000\u001b[39m)\n\u001b[1;32m---> 20\u001b[0m y_plot \u001b[39m=\u001b[39m [distribution\u001b[39m.\u001b[39;49mpdf(x) \u001b[39mfor\u001b[39;00m x \u001b[39min\u001b[39;00m x_plot]\n\u001b[0;32m     21\u001b[0m label_d \u001b[39m=\u001b[39m distribution\u001b[39m.\u001b[39m\u001b[39m__class__\u001b[39m\u001b[39m.\u001b[39m\u001b[39m__name__\u001b[39m \u001b[39m+\u001b[39m \u001b[39m\"\u001b[39m\u001b[39m: \u001b[39m\u001b[39m\"\u001b[39m \u001b[39m+\u001b[39m \u001b[39mstr\u001b[39m(\u001b[39mround\u001b[39m(sse, \u001b[39m4\u001b[39m))\n\u001b[0;32m     22\u001b[0m color_d \u001b[39m=\u001b[39m [random\u001b[39m.\u001b[39muniform(\u001b[39m0\u001b[39m, \u001b[39m1\u001b[39m), random\u001b[39m.\u001b[39muniform(\u001b[39m0\u001b[39m, \u001b[39m1\u001b[39m), random\u001b[39m.\u001b[39muniform(\u001b[39m0\u001b[39m, \u001b[39m1\u001b[39m)]\n",
      "File \u001b[1;32md:\\SJ\\phitter\\dev\\phitter-kernel\\tests\\../continuous\\distributions\\beta.py:39\u001b[0m, in \u001b[0;36mBETA.pdf\u001b[1;34m(self, x)\u001b[0m\n\u001b[0;32m     34\u001b[0m \u001b[39m\u001b[39m\u001b[39m\"\"\"\u001b[39;00m\n\u001b[0;32m     35\u001b[0m \u001b[39mProbability density function\u001b[39;00m\n\u001b[0;32m     36\u001b[0m \u001b[39mCalculated using definition of the function in the documentation\u001b[39;00m\n\u001b[0;32m     37\u001b[0m \u001b[39m\"\"\"\u001b[39;00m\n\u001b[0;32m     38\u001b[0m z \u001b[39m=\u001b[39m \u001b[39mlambda\u001b[39;00m t: (t \u001b[39m-\u001b[39m \u001b[39mself\u001b[39m\u001b[39m.\u001b[39mA) \u001b[39m/\u001b[39m (\u001b[39mself\u001b[39m\u001b[39m.\u001b[39mB_ \u001b[39m-\u001b[39m \u001b[39mself\u001b[39m\u001b[39m.\u001b[39mA)\n\u001b[1;32m---> 39\u001b[0m \u001b[39mreturn\u001b[39;00m ( \u001b[39m1\u001b[39m \u001b[39m/\u001b[39m (\u001b[39mself\u001b[39m\u001b[39m.\u001b[39mB_ \u001b[39m-\u001b[39m \u001b[39mself\u001b[39m\u001b[39m.\u001b[39mA)) \u001b[39m*\u001b[39m ( math\u001b[39m.\u001b[39;49mgamma(\u001b[39mself\u001b[39;49m\u001b[39m.\u001b[39;49malpha_ \u001b[39m+\u001b[39;49m \u001b[39mself\u001b[39;49m\u001b[39m.\u001b[39;49mbeta_) \u001b[39m/\u001b[39m (math\u001b[39m.\u001b[39mgamma(\u001b[39mself\u001b[39m\u001b[39m.\u001b[39malpha_) \u001b[39m*\u001b[39m math\u001b[39m.\u001b[39mgamma(\u001b[39mself\u001b[39m\u001b[39m.\u001b[39mbeta_))) \u001b[39m*\u001b[39m (z(x) \u001b[39m*\u001b[39m\u001b[39m*\u001b[39m (\u001b[39mself\u001b[39m\u001b[39m.\u001b[39malpha_ \u001b[39m-\u001b[39m \u001b[39m1\u001b[39m)) \u001b[39m*\u001b[39m ((\u001b[39m1\u001b[39m \u001b[39m-\u001b[39m z(x)) \u001b[39m*\u001b[39m\u001b[39m*\u001b[39m (\u001b[39mself\u001b[39m\u001b[39m.\u001b[39mbeta_ \u001b[39m-\u001b[39m \u001b[39m1\u001b[39m))\n",
      "\u001b[1;31mOverflowError\u001b[0m: math range error"
     ]
    },
    {
     "data": {
      "image/png": "[encoded data removed]",
      "text/plain": [
       "<Figure size 800x400 with 1 Axes>"
      ]
     },
     "metadata": {},
     "output_type": "display_data"
    }
   ],
   "source": [
    "## Histogram of data\n",
    "plt.figure(figsize=(8, 4))\n",
    "plt.hist(data, bins=num_bins, density=True, ec=\"white\", color=(168 / 235, 12 / 235, 12 / 235))\n",
    "plt.title(\"HISTOGRAM\")\n",
    "plt.xlabel(\"Values\")\n",
    "plt.ylabel(\"Frequencies\")\n",
    "\n",
    "ll = min(data)\n",
    "ul = max(data)\n",
    "for distribution, sse in list(results.items())[:5]:\n",
    "    if distribution.__class__.__name__ in [\n",
    "        \"LEVY\",\n",
    "        \"CAUCHY\",\n",
    "        \"FRECHET\",\n",
    "        \"GENERALIZED_PARETO\",\n",
    "    ]:\n",
    "        ll = min(data) - 10\n",
    "        ul = max(data) + 10\n",
    "    x_plot = numpy.linspace(ll, ul, 1000)\n",
    "    y_plot = [distribution.pdf(x) for x in x_plot]\n",
    "    label_d = distribution.__class__.__name__ + \": \" + str(round(sse, 4))\n",
    "    color_d = [random.uniform(0, 1), random.uniform(0, 1), random.uniform(0, 1)]\n",
    "    plt.plot(x_plot, y_plot, label=label_d, color=color_d)\n",
    "\n",
    "plt.legend(title=\"NOT REJECTED DISTRIBUTIONS\", bbox_to_anchor=(1.05, 1), loc=\"upper left\")\n",
    "plt.show()"
   ]
  }
 ],
 "metadata": {
  "kernelspec": {
   "display_name": "Python 3",
   "language": "python",
   "name": "python3"
  },
  "language_info": {
   "codemirror_mode": {
    "name": "ipython",
    "version": 3
   },
   "file_extension": ".py",
   "mimetype": "text/x-python",
   "name": "python",
   "nbconvert_exporter": "python",
   "pygments_lexer": "ipython3",
   "version": "3.10.10"
  },
  "orig_nbformat": 4
 },
 "nbformat": 4,
 "nbformat_minor": 2
}

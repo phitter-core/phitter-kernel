{
 "cells": [
  {
   "cell_type": "code",
   "execution_count": 1,
   "metadata": {},
   "outputs": [],
   "source": [
    "import numpy\n",
    "import pandas as pd\n",
    "import scipy.stats as st\n",
    "import matplotlib as mpl\n",
    "import matplotlib.pyplot as plt\n",
    "import math\n",
    "import random\n",
    "import sys\n",
    "import numpy\n",
    "import os\n",
    "import scipy.stats"
   ]
  },
  {
   "cell_type": "code",
   "execution_count": 2,
   "metadata": {},
   "outputs": [],
   "source": [
    "sys.path.append(\"../continuous\")\n",
    "sys.path.append(\"../continuous/measurements\")\n",
    "from measurements import MEASUREMENTS_CONTINUOUS\n",
    "import test_kolmogorov_smirnov"
   ]
  },
  {
   "cell_type": "code",
   "execution_count": 4,
   "metadata": {},
   "outputs": [],
   "source": [
    "from distributions.alpha import ALPHA\n",
    "from distributions.arcsine import ARCSINE\n",
    "from distributions.argus import ARGUS\n",
    "from distributions.beta import BETA\n",
    "from distributions.beta_prime import BETA_PRIME\n",
    "from distributions.beta_prime_4p import BETA_PRIME_4P\n",
    "from distributions.bradford import BRADFORD\n",
    "from distributions.burr import BURR\n",
    "from distributions.burr_4p import BURR_4P\n",
    "from distributions.cauchy import CAUCHY\n",
    "from distributions.chi_square import CHI_SQUARE\n",
    "from distributions.chi_square_3p import CHI_SQUARE_3P\n",
    "from distributions.dagum import DAGUM\n",
    "from distributions.dagum_4p import DAGUM_4P\n",
    "from distributions.erlang import ERLANG\n",
    "from distributions.erlang_3p import ERLANG_3P\n",
    "from distributions.error_function import ERROR_FUNCTION\n",
    "from distributions.exponential import EXPONENTIAL\n",
    "from distributions.exponential_2p import EXPONENTIAL_2P\n",
    "from distributions.f import F\n",
    "from distributions.fatigue_life import FATIGUE_LIFE\n",
    "from distributions.folded_normal import FOLDED_NORMAL\n",
    "from distributions.frechet import FRECHET\n",
    "from distributions.f_4p import F_4P\n",
    "from distributions.gamma import GAMMA\n",
    "from distributions.gamma_3p import GAMMA_3P\n",
    "from distributions.generalized_extreme_value import GENERALIZED_EXTREME_VALUE\n",
    "from distributions.generalized_gamma import GENERALIZED_GAMMA\n",
    "from distributions.generalized_gamma_4p import GENERALIZED_GAMMA_4P\n",
    "from distributions.generalized_logistic import GENERALIZED_LOGISTIC\n",
    "from distributions.generalized_normal import GENERALIZED_NORMAL\n",
    "from distributions.generalized_pareto import GENERALIZED_PARETO\n",
    "from distributions.gibrat import GIBRAT\n",
    "from distributions.gumbel_left import GUMBEL_LEFT\n",
    "from distributions.gumbel_right import GUMBEL_RIGHT\n",
    "from distributions.half_normal import HALF_NORMAL\n",
    "from distributions.hyperbolic_secant import HYPERBOLIC_SECANT\n",
    "from distributions.inverse_gamma import INVERSE_GAMMA\n",
    "from distributions.inverse_gamma_3p import INVERSE_GAMMA_3P\n",
    "from distributions.inverse_gaussian import INVERSE_GAUSSIAN\n",
    "from distributions.inverse_gaussian_3p import INVERSE_GAUSSIAN_3P\n",
    "from distributions.johnson_sb import JOHNSON_SB\n",
    "from distributions.johnson_su import JOHNSON_SU\n",
    "from distributions.kumaraswamy import KUMARASWAMY\n",
    "from distributions.laplace import LAPLACE\n",
    "from distributions.levy import LEVY\n",
    "from distributions.loggamma import LOGGAMMA\n",
    "from distributions.logistic import LOGISTIC\n",
    "from distributions.loglogistic import LOGLOGISTIC\n",
    "from distributions.loglogistic_3p import LOGLOGISTIC_3P\n",
    "from distributions.lognormal import LOGNORMAL\n",
    "from distributions.maxwell import MAXWELL\n",
    "from distributions.moyal import MOYAL\n",
    "from distributions.nakagami import NAKAGAMI\n",
    "from distributions.non_central_chi_square import NON_CENTRAL_CHI_SQUARE\n",
    "from distributions.non_central_f import NON_CENTRAL_F\n",
    "from distributions.non_central_t_student import NON_CENTRAL_T_STUDENT\n",
    "from distributions.normal import NORMAL\n",
    "from distributions.pareto_first_kind import PARETO_FIRST_KIND\n",
    "from distributions.pareto_second_kind import PARETO_SECOND_KIND\n",
    "from distributions.pert import PERT\n",
    "from distributions.power_function import POWER_FUNCTION\n",
    "from distributions.rayleigh import RAYLEIGH\n",
    "from distributions.reciprocal import RECIPROCAL\n",
    "from distributions.rice import RICE\n",
    "from distributions.semicircular import SEMICIRCULAR\n",
    "from distributions.trapezoidal import TRAPEZOIDAL\n",
    "from distributions.triangular import TRIANGULAR\n",
    "from distributions.t_student import T_STUDENT\n",
    "from distributions.t_student_3p import T_STUDENT_3P\n",
    "from distributions.uniform import UNIFORM\n",
    "from distributions.weibull import WEIBULL\n",
    "from distributions.weibull_3p import WEIBULL_3P\n"
   ]
  },
  {
   "cell_type": "code",
   "execution_count": 5,
   "metadata": {},
   "outputs": [],
   "source": [
    "_all_distributions = [\n",
    "    ALPHA,\n",
    "    ARCSINE,\n",
    "    ARGUS,\n",
    "    BETA,\n",
    "    BETA_PRIME,\n",
    "    BETA_PRIME_4P,\n",
    "    BRADFORD,\n",
    "    BURR,\n",
    "    BURR_4P,\n",
    "    CAUCHY,\n",
    "    CHI_SQUARE,\n",
    "    CHI_SQUARE_3P,\n",
    "    DAGUM,\n",
    "    DAGUM_4P,\n",
    "    ERLANG,\n",
    "    ERLANG_3P,\n",
    "    ERROR_FUNCTION,\n",
    "    EXPONENTIAL,\n",
    "    EXPONENTIAL_2P,\n",
    "    F,\n",
    "    FATIGUE_LIFE,\n",
    "    FOLDED_NORMAL,\n",
    "    FRECHET,\n",
    "    F_4P,\n",
    "    GAMMA,\n",
    "    GAMMA_3P,\n",
    "    GENERALIZED_EXTREME_VALUE,\n",
    "    GENERALIZED_GAMMA,\n",
    "    GENERALIZED_GAMMA_4P,\n",
    "    GENERALIZED_LOGISTIC,\n",
    "    GENERALIZED_NORMAL,\n",
    "    GENERALIZED_PARETO,\n",
    "    GIBRAT,\n",
    "    GUMBEL_LEFT,\n",
    "    GUMBEL_RIGHT,\n",
    "    HALF_NORMAL,\n",
    "    HYPERBOLIC_SECANT,\n",
    "    INVERSE_GAMMA,\n",
    "    INVERSE_GAMMA_3P,\n",
    "    INVERSE_GAUSSIAN,\n",
    "    INVERSE_GAUSSIAN_3P,\n",
    "    JOHNSON_SB,\n",
    "    JOHNSON_SU,\n",
    "    KUMARASWAMY,\n",
    "    LAPLACE,\n",
    "    LEVY,\n",
    "    LOGGAMMA,\n",
    "    LOGISTIC,\n",
    "    LOGLOGISTIC,\n",
    "    LOGLOGISTIC_3P,\n",
    "    LOGNORMAL,\n",
    "    MAXWELL,\n",
    "    MOYAL,\n",
    "    NAKAGAMI,\n",
    "    NON_CENTRAL_CHI_SQUARE,\n",
    "    NON_CENTRAL_F,\n",
    "    NON_CENTRAL_T_STUDENT,\n",
    "    NORMAL,\n",
    "    PARETO_FIRST_KIND,\n",
    "    PARETO_SECOND_KIND,\n",
    "    PERT,\n",
    "    POWER_FUNCTION,\n",
    "    RAYLEIGH,\n",
    "    RECIPROCAL,\n",
    "    RICE,\n",
    "    SEMICIRCULAR,\n",
    "    TRAPEZOIDAL,\n",
    "    TRIANGULAR,\n",
    "    T_STUDENT,\n",
    "    T_STUDENT_3P,\n",
    "    UNIFORM,\n",
    "    WEIBULL,\n",
    "    WEIBULL_3P,\n",
    "]"
   ]
  },
  {
   "cell_type": "code",
   "execution_count": 7,
   "metadata": {},
   "outputs": [],
   "source": [
    "path = \"./data/data_uniform.txt\"\n",
    "sample_distribution_file = open(path, \"r\")\n",
    "data = [float(x.replace(\",\", \".\")) for x in sample_distribution_file.read().splitlines()]"
   ]
  },
  {
   "cell_type": "code",
   "execution_count": 8,
   "metadata": {},
   "outputs": [],
   "source": [
    "measurements = MEASUREMENTS_CONTINUOUS(data)"
   ]
  },
  {
   "cell_type": "code",
   "execution_count": 9,
   "metadata": {},
   "outputs": [],
   "source": [
    "## Calculae Histogram\n",
    "num_bins = measurements.num_bins_doane()\n",
    "frequencies, bin_edges = numpy.histogram(data, num_bins, density=True)\n",
    "central_values = [(bin_edges[i] + bin_edges[i + 1]) / 2 for i in range(len(bin_edges) - 1)]\n"
   ]
  },
  {
   "cell_type": "code",
   "execution_count": 10,
   "metadata": {},
   "outputs": [],
   "source": [
    "results = {}"
   ]
  },
  {
   "cell_type": "code",
   "execution_count": 11,
   "metadata": {},
   "outputs": [
    {
     "name": "stdout",
     "output_type": "stream",
     "text": [
      "BRADFORD\n",
      "{'test_statistic': 0.007058966983330361, 'critical_value': 0.013564202793681023, 'p-value': 0.6986239735846078, 'rejected': False}\n",
      "{testStatistic: 0.007058966983330361, criticalValue: 0.013564202793681023, pValue: 0.6986239735846078, rejected: false}\n",
      "{'c': 0.07299461359923981, 'min': 50.00317844, 'max': 299.97419852999997}\n",
      "XXX\n",
      "JOHNSON_SB\n",
      "{'test_statistic': 0.016397545826548288, 'critical_value': 0.013564202793681023, 'p-value': 0.009135590599672283, 'rejected': True}\n",
      "{testStatistic: 0.016397545826548288, criticalValue: 0.013564202793681023, pValue: 0.009135590599672283, rejected: true}\n",
      "{'xi': 49.17067280012968, 'lambda': 252.01947805551993, 'gamma': 0.02220376356606923, 'delta': 0.5770822086486638}\n",
      "XXX\n",
      "PARETO_SECOND_KIND\n",
      "{'test_statistic': 0.010642631731094698, 'critical_value': 0.013564202793681023, 'p-value': 0.2059006284643039, 'rejected': False}\n",
      "{testStatistic: 0.010642631731094698, criticalValue: 0.013564202793681023, pValue: 0.2059006284643039, rejected: false}\n",
      "{'xm': -253.32963113458882, 'alpha': -1.0509693938348492, 'loc': 50.00417824591047}\n",
      "SEMICIRCULAR\n",
      "{'test_statistic': 0.033566983420138384, 'critical_value': 0.013564202793681023, 'p-value': 3.179140284359505e-10, 'rejected': True}\n",
      "{testStatistic: 0.033566983420138384, criticalValue: 0.013564202793681023, pValue: 3.179140284359505e-10, rejected: true}\n",
      "{'loc': 173.52119995091002, 'R': 144.99828598649597}\n",
      "TRAPEZOIDAL\n",
      "{'test_statistic': 0.015830760783933306, 'critical_value': 0.013564202793681023, 'p-value': 0.013169717984553242, 'rejected': True}\n",
      "{testStatistic: 0.015830760783933306, criticalValue: 0.013564202793681023, pValue: 0.013169717984553242, rejected: true}\n",
      "{'a': 50.00317844, 'b': 50.00317845060004, 'c': 299.9741985193645, 'd': 299.97419852999997}\n",
      "UNIFORM\n",
      "{'test_statistic': 0.015831008256933565, 'critical_value': 0.013564202793681023, 'p-value': 0.01316765198222547, 'rejected': True}\n",
      "{testStatistic: 0.015831008256933565, criticalValue: 0.013564202793681023, pValue: 0.01316765198222547, rejected: true}\n",
      "{'a': 50.004178429999996, 'b': 299.97319854}\n"
     ]
    }
   ],
   "source": [
    "for distribution_class in _all_distributions:\n",
    "    try:\n",
    "        distribution = distribution_class(measurements)\n",
    "\n",
    "        ks_test = test_kolmogorov_smirnov.test_kolmogorov_smirnov_continuous(data, distribution, measurements)\n",
    "        test_statistic = ks_test[\"test_statistic\"]\n",
    "        critical_value = ks_test[\"critical_value\"]\n",
    "        p_value = ks_test[\"p-value\"]\n",
    "        rejected = ks_test[\"rejected\"]\n",
    "        distribution = distribution_class(measurements)\n",
    "        if isinstance(test_statistic, (int, float)) and isinstance(critical_value, (int, float)) and isinstance(p_value, (int, float)) and p_value > 0:\n",
    "            results[distribution] = p_value\n",
    "            print(distribution_class.__name__)\n",
    "            print(ks_test)\n",
    "            print(str(ks_test).replace(\"'test_statistic'\", \"testStatistic\").replace(\"'critical_value'\", \"criticalValue\").replace(\"'p-value'\", \"pValue\").replace(\"'rejected'\", \"rejected\").replace(\"True\", \"true\").replace(\"False\", \"false\"))\n",
    "            print(distribution.get_parameters(measurements))\n",
    "    except:\n",
    "        print(\"XXX\")"
   ]
  },
  {
   "cell_type": "code",
   "execution_count": 12,
   "metadata": {},
   "outputs": [
    {
     "data": {
      "text/plain": [
       "{<distributions.bradford.BRADFORD at 0x252cc220b80>: 0.6986239735846078,\n",
       " <distributions.pareto_second_kind.PARETO_SECOND_KIND at 0x252cc1d9840>: 0.2059006284643039,\n",
       " <distributions.trapezoidal.TRAPEZOIDAL at 0x252cc3183a0>: 0.013169717984553242,\n",
       " <distributions.uniform.UNIFORM at 0x2529b5b1900>: 0.01316765198222547,\n",
       " <distributions.johnson_sb.JOHNSON_SB at 0x252cc127fa0>: 0.009135590599672283,\n",
       " <distributions.semicircular.SEMICIRCULAR at 0x252cc2007c0>: 3.179140284359505e-10}"
      ]
     },
     "execution_count": 12,
     "metadata": {},
     "output_type": "execute_result"
    }
   ],
   "source": [
    "results = {k: v for k, v in sorted(results.items(), key=lambda item: item[1], reverse=True)}\n",
    "results"
   ]
  },
  {
   "cell_type": "code",
   "execution_count": 13,
   "metadata": {},
   "outputs": [
    {
     "data": {
      "image/png": "[encoded data removed]",
      "text/plain": [
       "<Figure size 800x400 with 1 Axes>"
      ]
     },
     "metadata": {},
     "output_type": "display_data"
    }
   ],
   "source": [
    "## Histogram of data\n",
    "plt.figure(figsize=(8, 4))\n",
    "plt.hist(data, bins=num_bins, density=True, ec=\"white\", color=(168 / 235, 12 / 235, 12 / 235))\n",
    "plt.title(\"HISTOGRAM\")\n",
    "plt.xlabel(\"Values\")\n",
    "plt.ylabel(\"Frequencies\")\n",
    "\n",
    "ll = min(data)\n",
    "ul = max(data)\n",
    "for distribution, sse in list(results.items())[:5]:\n",
    "    if distribution.__class__.__name__ in [\n",
    "        \"LEVY\",\n",
    "        \"CAUCHY\",\n",
    "        \"FRECHET\",\n",
    "        \"GENERALIZED_PARETO\",\n",
    "    ]:\n",
    "        ll = min(data) - 10\n",
    "        ul = max(data) + 10\n",
    "    x_plot = numpy.linspace(ll, ul, 1000)\n",
    "    y_plot = [distribution.pdf(x) for x in x_plot]\n",
    "    label_d = distribution.__class__.__name__ + \": \" + str(round(sse, 4))\n",
    "    color_d = [random.uniform(0, 1), random.uniform(0, 1), random.uniform(0, 1)]\n",
    "    plt.plot(x_plot, y_plot, label=label_d, color=color_d)\n",
    "\n",
    "plt.legend(title=\"NOT REJECTED DISTRIBUTIONS\", bbox_to_anchor=(1.05, 1), loc=\"upper left\")\n",
    "plt.show()"
   ]
  }
 ],
 "metadata": {
  "kernelspec": {
   "display_name": "Python 3",
   "language": "python",
   "name": "python3"
  },
  "language_info": {
   "codemirror_mode": {
    "name": "ipython",
    "version": 3
   },
   "file_extension": ".py",
   "mimetype": "text/x-python",
   "name": "python",
   "nbconvert_exporter": "python",
   "pygments_lexer": "ipython3",
   "version": "3.10.10"
  },
  "orig_nbformat": 4
 },
 "nbformat": 4,
 "nbformat_minor": 2
}

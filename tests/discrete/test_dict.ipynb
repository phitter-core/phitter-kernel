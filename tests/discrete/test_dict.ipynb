{
 "cells": [
  {
   "cell_type": "code",
   "execution_count": 1,
   "metadata": {},
   "outputs": [],
   "source": [
    "import numpy\n",
    "import numpy\n",
    "import sys
    import numpy\n",
    "import numpy\n",
    "import numpy"
   ]
  },
  {
   "cell_type": "code",
   "execution_count": 2,
   "metadata": {},
   "outputs": [],
   "source": [
    "sys.path.append(\"../../discrete\")\n",
    "sys.path.append(\"../../discrete/measurements\")"
   ]
  },
  {
   "cell_type": "code",
   "execution_count": 3,
   "metadata": {},
   "outputs": [],
   "source": [
    "from measurements_discrete import MEASUREMENTS_DISCRETE\n",
    "import test_chi_square_discrete\n",
    "import test_kolmogorov_smirnov_discrete"
   ]
  },
  {
   "cell_type": "code",
   "execution_count": 4,
   "metadata": {},
   "outputs": [],
   "source": [
    "from distributions.bernoulli import BERNOULLI\n",
    "from distributions.binomial import BINOMIAL\n",
    "from distributions.geometric import GEOMETRIC\n",
    "from distributions.hypergeometric import HYPERGEOMETRIC\n",
    "from distributions.logarithmic import LOGARITHMIC\n",
    "from distributions.negative_binomial import NEGATIVE_BINOMIAL\n",
    "from distributions.poisson import POISSON\n",
    "from distributions.uniform import UNIFORM"
   ]
  },
  {
   "cell_type": "code",
   "execution_count": 5,
   "metadata": {},
   "outputs": [],
   "source": [
    "_all_distributions = [BERNOULLI, BINOMIAL, GEOMETRIC, HYPERGEOMETRIC, LOGARITHMIC, NEGATIVE_BINOMIAL, POISSON, UNIFORM]"
   ]
  },
  {
   "cell_type": "code",
   "execution_count": 6,
   "metadata": {},
   "outputs": [],
   "source": [
    "path = \"../../discrete/data/data_uniform.txt\"\n",
    "sample_distribution_file = open(path, \"r\")\n",
    "data = [float(x.replace(\",\", \".\")) for x in sample_distribution_file.read().splitlines()]"
   ]
  },
  {
   "cell_type": "code",
   "execution_count": 7,
   "metadata": {},
   "outputs": [],
   "source": [
    "measurements = MEASUREMENTS_DISCRETE(data)"
   ]
  },
  {
   "cell_type": "code",
   "execution_count": 8,
   "metadata": {},
   "outputs": [],
   "source": [
    "## Calculae Histogram\n",
    "frequencies = measurements.frequencies"
   ]
  },
  {
   "cell_type": "code",
   "execution_count": 9,
   "metadata": {},
   "outputs": [],
   "source": [
    "NONE_RESULTS = {\n",
    "    \"test_statistic\": None,\n",
    "    \"critical_value\": None,\n",
    "    \"p_value\": None,\n",
    "    \"rejected\": None,\n",
    "}\n"
   ]
  },
  {
   "cell_type": "code",
   "execution_count": 10,
   "metadata": {},
   "outputs": [
    {
     "name": "stdout",
     "output_type": "stream",
     "text": [
      "bernoulli\n",
      "2797.921945916583\n",
      "{'chi_square': {'test_statistic': None, 'critical_value': None, 'p_value': None, 'rejected': None}, 'kolmogorov_smirnov': {'test_statistic': 0.8716404077849861, 'critical_value': 0.02915677208094496, 'p_value': 0.0, 'rejected': True}}\n",
      "False True\n",
      "binomial\n",
      "0.01597669599579412\n",
      "{'chi_square': {'test_statistic': 502.8898102751679, 'critical_value': 14.067140449340167, 'p_value': 0.0, 'rejected': True}, 'kolmogorov_smirnov': {'test_statistic': 0.06172261851329963, 'critical_value': 0.02915677208094496, 'p_value': 1.370486115703784e-07, 'rejected': True}}\n",
      "True True\n",
      "geometric\n",
      "0.03362304520848747\n",
      "{'chi_square': {'test_statistic': 1579.2123990926204, 'critical_value': 14.067140449340167, 'p_value': 0.0, 'rejected': True}, 'kolmogorov_smirnov': {'test_statistic': 0.3576399377066525, 'critical_value': 0.02915677208094496, 'p_value': 0.0, 'rejected': True}}\n",
      "True True\n",
      "hypergeometric\n",
      "0.030931407567383787\n",
      "{'chi_square': {'test_statistic': 1133.0750152014227, 'critical_value': 14.067140449340167, 'p_value': 0.0, 'rejected': True}, 'kolmogorov_smirnov': {'test_statistic': 0.1157382160769997, 'critical_value': 0.02915677208094496, 'p_value': 0.0, 'rejected': True}}\n",
      "True True\n",
      "logarithmic\n",
      "0.05655391819658457\n",
      "{'chi_square': {'test_statistic': 4173.202481648613, 'critical_value': 14.067140449340167, 'p_value': 0.0, 'rejected': True}, 'kolmogorov_smirnov': {'test_statistic': 0.4293172562795371, 'critical_value': 0.02915677208094496, 'p_value': 0.0, 'rejected': True}}\n",
      "True True\n",
      "negative_binomial\n",
      "0.125334874824027\n",
      "{'chi_square': {'test_statistic': None, 'critical_value': None, 'p_value': None, 'rejected': None}, 'anderson_darling': {'test_statistic': None, 'critical_value': None, 'p_value': None, 'rejected': None}}\n",
      "False False\n",
      "poisson\n",
      "0\n",
      "uniform\n",
      "0.0003348748240269842\n",
      "{'chi_square': {'test_statistic': 5.777777777777778, 'critical_value': 14.067140449340167, 'p_value': 0.5659236085220408, 'rejected': False}, 'kolmogorov_smirnov': {'test_statistic': 0.0113531047265987, 'critical_value': 0.02915677208094496, 'p_value': 0.9406618501321957, 'rejected': False}}\n",
      "True True\n"
     ]
    }
   ],
   "source": [
    "RESPONSE = {}\n",
    "for distribution_class in _all_distributions:\n",
    "    distribution_name = distribution_class.__name__.lower()\n",
    "    print(distribution_name)\n",
    "\n",
    "    validate_estimation = True\n",
    "    sse = 0\n",
    "    try:\n",
    "        distribution = distribution_class(measurements)\n",
    "        pmf_values = [distribution.pmf(d) for d in measurements.domain]\n",
    "        sse = numpy.sum(numpy.power(numpy.array(pmf_values) - numpy.array(measurements.frequencies_pmf), 2.0))\n",
    "    except:\n",
    "        validate_estimation = False\n",
    "    print(sse)\n",
    "\n",
    "    DISTRIBUTION_RESULTS = {}\n",
    "    v1, v2 = False, False\n",
    "    if validate_estimation and not numpy.isnan(sse) and not numpy.isinf(sse):\n",
    "        try:\n",
    "            chi2_test = test_chi_square_discrete.test_chi_square_discrete(data, distribution, measurements)\n",
    "            if numpy.isnan(chi2_test[\"test_statistic\"]) == False and numpy.isinf(chi2_test[\"test_statistic\"]) == False and chi2_test[\"test_statistic\"] > 0:\n",
    "                DISTRIBUTION_RESULTS[\"chi_square\"] = {\n",
    "                    \"test_statistic\": chi2_test[\"test_statistic\"],\n",
    "                    \"critical_value\": chi2_test[\"critical_value\"],\n",
    "                    \"p_value\": chi2_test[\"p-value\"],\n",
    "                    \"rejected\": chi2_test[\"rejected\"],\n",
    "                }\n",
    "                v1 = True\n",
    "            else:\n",
    "                DISTRIBUTION_RESULTS[\"chi_square\"] = NONE_RESULTS\n",
    "        except:\n",
    "            DISTRIBUTION_RESULTS[\"chi_square\"] = NONE_RESULTS\n",
    "\n",
    "        try:\n",
    "            ks_test = test_kolmogorov_smirnov_discrete.test_kolmogorov_smirnov_discrete(data, distribution, measurements)\n",
    "            if numpy.isnan(ks_test[\"test_statistic\"]) == False and numpy.isinf(ks_test[\"test_statistic\"]) == False and ks_test[\"test_statistic\"] > 0:\n",
    "                DISTRIBUTION_RESULTS[\"kolmogorov_smirnov\"] = {\n",
    "                    \"test_statistic\": ks_test[\"test_statistic\"],\n",
    "                    \"critical_value\": ks_test[\"critical_value\"],\n",
    "                    \"p_value\": ks_test[\"p-value\"],\n",
    "                    \"rejected\": ks_test[\"rejected\"],\n",
    "                }\n",
    "                v2 = True\n",
    "            else:\n",
    "                DISTRIBUTION_RESULTS[\"anderson_darling\"] = NONE_RESULTS\n",
    "        except:\n",
    "            DISTRIBUTION_RESULTS[\"kolmogorov_smirnov\"] = NONE_RESULTS\n",
    "\n",
    "        print(DISTRIBUTION_RESULTS)\n",
    "        print(v1, v2)\n",
    "        if v1 or v2:\n",
    "            DISTRIBUTION_RESULTS[\"sse\"] = sse\n",
    "            DISTRIBUTION_RESULTS[\"parameters\"] = str(distribution.parameters)\n",
    "            DISTRIBUTION_RESULTS[\"n_test_passed\"] = (\n",
    "                int(DISTRIBUTION_RESULTS[\"chi_square\"][\"rejected\"] == False)\n",
    "                + int(DISTRIBUTION_RESULTS[\"kolmogorov_smirnov\"][\"rejected\"] == False)\n",
    "            )\n",
    "            DISTRIBUTION_RESULTS[\"n_test_null\"] = (\n",
    "                int(DISTRIBUTION_RESULTS[\"chi_square\"][\"rejected\"] == None)\n",
    "                + int(DISTRIBUTION_RESULTS[\"kolmogorov_smirnov\"][\"rejected\"] == None)\n",
    "            )\n",
    "\n",
    "            RESPONSE[distribution_name] = DISTRIBUTION_RESULTS\n"
   ]
  },
  {
   "cell_type": "code",
   "execution_count": 11,
   "metadata": {},
   "outputs": [
    {
     "data": {
      "text/plain": [
       "{'bernoulli': {'chi_square': {'test_statistic': None,\n",
       "   'critical_value': None,\n",
       "   'p_value': None,\n",
       "   'rejected': None},\n",
       "  'kolmogorov_smirnov': {'test_statistic': 0.8716404077849861,\n",
       "   'critical_value': 0.02915677208094496,\n",
       "   'p_value': 0.0,\n",
       "   'rejected': True},\n",
       "  'sse': 2797.921945916583,\n",
       "  'parameters': \"{'p': 6.524096385542169}\",\n",
       "  'n_test_passed': 0,\n",
       "  'n_test_null': 1},\n",
       " 'binomial': {'chi_square': {'test_statistic': 502.8898102751679,\n",
       "   'critical_value': 14.067140449340167,\n",
       "   'p_value': 0.0,\n",
       "   'rejected': True},\n",
       "  'kolmogorov_smirnov': {'test_statistic': 0.06172261851329963,\n",
       "   'critical_value': 0.02915677208094496,\n",
       "   'p_value': 1.370486115703784e-07,\n",
       "   'rejected': True},\n",
       "  'sse': 0.01597669599579412,\n",
       "  'parameters': \"{'p': 0.19244864473117007, 'n': 34}\",\n",
       "  'n_test_passed': 0,\n",
       "  'n_test_null': 0},\n",
       " 'geometric': {'chi_square': {'test_statistic': 1579.2123990926204,\n",
       "   'critical_value': 14.067140449340167,\n",
       "   'p_value': 0.0,\n",
       "   'rejected': True},\n",
       "  'kolmogorov_smirnov': {'test_statistic': 0.3576399377066525,\n",
       "   'critical_value': 0.02915677208094496,\n",
       "   'p_value': 0.0,\n",
       "   'rejected': True},\n",
       "  'sse': 0.03362304520848747,\n",
       "  'parameters': \"{'p': 0.15327793167128345}\",\n",
       "  'n_test_passed': 0,\n",
       "  'n_test_null': 0},\n",
       " 'hypergeometric': {'chi_square': {'test_statistic': 1133.0750152014227,\n",
       "   'critical_value': 14.067140449340167,\n",
       "   'p_value': 0.0,\n",
       "   'rejected': True},\n",
       "  'kolmogorov_smirnov': {'test_statistic': 0.1157382160769997,\n",
       "   'critical_value': 0.02915677208094496,\n",
       "   'p_value': 0.0,\n",
       "   'rejected': True},\n",
       "  'sse': 0.030931407567383787,\n",
       "  'parameters': \"{'N': 93, 'K': 27, 'n': 23}\",\n",
       "  'n_test_passed': 0,\n",
       "  'n_test_null': 0},\n",
       " 'logarithmic': {'chi_square': {'test_statistic': 4173.202481648613,\n",
       "   'critical_value': 14.067140449340167,\n",
       "   'p_value': 0.0,\n",
       "   'rejected': True},\n",
       "  'kolmogorov_smirnov': {'test_statistic': 0.4293172562795371,\n",
       "   'critical_value': 0.02915677208094496,\n",
       "   'p_value': 0.0,\n",
       "   'rejected': True},\n",
       "  'sse': 0.05655391819658457,\n",
       "  'parameters': \"{'p': 0.9519241741237382}\",\n",
       "  'n_test_passed': 0,\n",
       "  'n_test_null': 0},\n",
       " 'uniform': {'chi_square': {'test_statistic': 5.777777777777778,\n",
       "   'critical_value': 14.067140449340167,\n",
       "   'p_value': 0.5659236085220408,\n",
       "   'rejected': False},\n",
       "  'kolmogorov_smirnov': {'test_statistic': 0.0113531047265987,\n",
       "   'critical_value': 0.02915677208094496,\n",
       "   'p_value': 0.9406618501321957,\n",
       "   'rejected': False},\n",
       "  'sse': 0.0003348748240269842,\n",
       "  'parameters': \"{'a': 3, 'b': 10}\",\n",
       "  'n_test_passed': 2,\n",
       "  'n_test_null': 0}}"
      ]
     },
     "execution_count": 11,
     "metadata": {},
     "output_type": "execute_result"
    }
   ],
   "source": [
    "RESPONSE"
   ]
  },
  {
   "cell_type": "code",
   "execution_count": 12,
   "metadata": {},
   "outputs": [
    {
     "name": "stdout",
     "output_type": "stream",
     "text": [
      "Distribution: uniform, SSE: 0.0003348748240269842\n",
      "Distribution: binomial, SSE: 0.01597669599579412\n",
      "Distribution: hypergeometric, SSE: 0.030931407567383787\n",
      "Distribution: geometric, SSE: 0.03362304520848747\n",
      "Distribution: logarithmic, SSE: 0.05655391819658457\n",
      "Distribution: bernoulli, SSE: 2797.921945916583\n"
     ]
    }
   ],
   "source": [
    "sorted_results_sse = {distribution: results for distribution, results in sorted(RESPONSE.items(), key=lambda x: (-x[1][\"n_test_passed\"], x[1][\"sse\"]))}\n",
    "\n",
    "# Mostrar los resultados ordenados\n",
    "for distribution, results in sorted_results_sse.items():\n",
    "    print(f\"Distribution: {distribution}, SSE: {results['sse']}\")\n"
   ]
  },
  {
   "cell_type": "code",
   "execution_count": 13,
   "metadata": {},
   "outputs": [
    {
     "name": "stdout",
     "output_type": "stream",
     "text": [
      "Distribution: uniform, SSE: 0.0003348748240269842, Aprobados: 2\n"
     ]
    }
   ],
   "source": [
    "not_rejected_results = {distribution: results for distribution, results in sorted_results_sse.items() if results[\"n_test_passed\"] > 0}\n",
    "\n",
    "# Mostrar los resultados ordenados\n",
    "for distribution, results in not_rejected_results.items():\n",
    "    print(f\"Distribution: {distribution}, SSE: {results['sse']}, Aprobados: {results['n_test_passed']}\")"
   ]
  }
 ],
 "metadata": {
  "kernelspec": {
   "display_name": "Python 3",
   "language": "python",
   "name": "python3"
  },
  "language_info": {
   "codemirror_mode": {
    "name": "ipython",
    "version": 3
   },
   "file_extension": ".py",
   "mimetype": "text/x-python",
   "name": "python",
   "nbconvert_exporter": "python",
   "pygments_lexer": "ipython3",
   "version": "3.10.10"
  },
  "orig_nbformat": 4
 },
 "nbformat": 4,
 "nbformat_minor": 2
}

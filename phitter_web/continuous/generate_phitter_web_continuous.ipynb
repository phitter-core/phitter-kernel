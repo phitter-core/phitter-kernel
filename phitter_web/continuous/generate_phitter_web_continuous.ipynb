{
 "cells": [
  {
   "cell_type": "code",
   "execution_count": 1,
   "metadata": {},
   "outputs": [],
   "source": [
    "import os\n",
    "import re"
   ]
  },
  {
   "cell_type": "code",
   "execution_count": 2,
   "metadata": {},
   "outputs": [],
   "source": [
    "def process_py_file(file_path):\n",
    "    with open(file_path, \"r\", encoding=\"utf8\") as f:\n",
    "        file_content = f.read()\n",
    "\n",
    "    # Remove import statements\n",
    "    file_content = re.sub(r\"^import.*$|^from .* import.*$\", \"\", file_content, flags=re.MULTILINE)\n",
    "    file_content = re.sub(r\"from\\s+\\.\\w+\\s+import\\s+[\\w+,?\\s?]+\", \"\", file_content, flags=re.MULTILINE)\n",
    "    file_content = re.sub(r\"^sys.path.append.*\\n\", \"\", file_content, flags=re.MULTILINE)\n",
    "\n",
    "    # Remove comments\n",
    "    file_content = re.sub(r\"#.*\", \"\", file_content)\n",
    "\n",
    "    # # Remove function descriptions and docstrings\n",
    "    patron_docstrings_triple_comillas = r\"(\\\"\\\"\\\")(.*?)(\\\"\\\"\\\")\"\n",
    "    patron_docstrings_comillas_simples = r\"(\\'\\'\\')(.*?)(\\'\\'\\')\"\n",
    "    patron_total = f\"{patron_docstrings_triple_comillas}|{patron_docstrings_comillas_simples}\"\n",
    "\n",
    "    file_content = re.sub(patron_total, \"\", file_content, flags=re.DOTALL)\n",
    "\n",
    "    # Remove the code inside if __name__ == \"__main__\": block\n",
    "    file_content = re.sub(r'if __name__ == \"__main__\":[\\s\\S]*', \"\", file_content)\n",
    "\n",
    "    # Remove any empty lines and extra whitespaces\n",
    "    file_content = re.sub(r\"^\\s*\\n\", \"\", file_content, flags=re.MULTILINE)\n",
    "    file_content = re.sub(r\"\\n\\s*\\n\", \"\\n\", file_content)\n",
    "    file_content = file_content.strip()\n",
    "\n",
    "    return file_content"
   ]
  },
  {
   "cell_type": "code",
   "execution_count": 3,
   "metadata": {},
   "outputs": [],
   "source": [
    "def get_import_lines(file_path):\n",
    "    with open(file_path, \"r\", encoding=\"utf8\") as f:\n",
    "        file_content = f.read()\n",
    "\n",
    "    # Find all import lines using regular expression\n",
    "    import_lines = re.findall(r\"^import.*$|^from .* import.*$\", file_content, re.MULTILINE)\n",
    "\n",
    "    return import_lines"
   ]
  },
  {
   "cell_type": "code",
   "execution_count": 4,
   "metadata": {},
   "outputs": [
    {
     "name": "stdout",
     "output_type": "stream",
     "text": [
      "class FATIGUE_LIFE:\n",
      "    def __init__(self, continuous_measures=None, parameters: dict[str, int | float] = None, init_parameters_examples=False):\n",
      "        if continuous_measures is None and parameters is None and init_parameters_examples == False:\n",
      "            raise Exception(\"You must initialize the distribution by either providing the Continuous Measures [CONTINUOUS_MEASURES] instance or a dictionary of the distribution's parameters.\")\n",
      "        if continuous_measures != None:\n",
      "            self.parameters = self.get_parameters(continuous_measures)\n",
      "        if parameters != None:\n",
      "            self.parameters = parameters\n",
      "        if init_parameters_examples:\n",
      "            self.parameters = self.parameters_example\n",
      "        self.gamma = self.parameters[\"gamma\"]\n",
      "        self.loc = self.parameters[\"loc\"]\n",
      "        self.scale = self.parameters[\"scale\"]\n",
      "    @property\n",
      "    def name(self):\n",
      "        return \"fatigue_life\"\n",
      "    @property\n",
      "    def parameters_example(self) -> dict[str, int | float]:\n",
      "        return {\"gamma\": 5, \"loc\": 3, \"scale\": 9}\n",
      "    def cdf(self, x: float | numpy.ndarray) -> float | numpy.ndarray:\n",
      "        z = lambda t: numpy.sqrt((t - self.loc) / self.scale)\n",
      "        result = scipy.stats.norm.cdf((z(x) - 1 / z(x)) / (self.gamma))\n",
      "        return result\n",
      "    def pdf(self, x: float | numpy.ndarray) -> float | numpy.ndarray:\n",
      "        z = lambda t: numpy.sqrt((t - self.loc) / self.scale)\n",
      "        result = (z(x) + 1 / z(x)) / (2 * self.gamma * (x - self.loc)) * scipy.stats.norm.pdf((z(x) - 1 / z(x)) / (self.gamma))\n",
      "        return result\n",
      "    def ppf(self, u: float | numpy.ndarray) -> float | numpy.ndarray:\n",
      "        result = self.loc + (self.scale * (self.gamma * scipy.stats.norm.ppf(u) + numpy.sqrt((self.gamma * scipy.stats.norm.ppf(u)) ** 2 + 4)) ** 2) / 4\n",
      "        return result\n",
      "    def sample(self, n: int, seed: int | None = None) -> numpy.ndarray:\n",
      "        if seed:\n",
      "            numpy.random.seed(seed)\n",
      "        return self.ppf(numpy.random.rand(n))\n",
      "    def non_central_moments(self, k: int) -> float | None:\n",
      "        return None\n",
      "    def central_moments(self, k: int) -> float | None:\n",
      "        return None\n",
      "    @property\n",
      "    def mean(self) -> float:\n",
      "        return self.loc + self.scale * (1 + self.gamma**2 / 2)\n",
      "    @property\n",
      "    def variance(self) -> float:\n",
      "        return self.scale**2 * self.gamma**2 * (1 + (5 * self.gamma**2) / 4)\n",
      "    @property\n",
      "    def standard_deviation(self) -> float:\n",
      "        return numpy.sqrt(self.variance)\n",
      "    @property\n",
      "    def skewness(self) -> float:\n",
      "        return (4 * self.gamma**2 * (11 * self.gamma**2 + 6)) / ((5 * self.gamma**2 + 4) * numpy.sqrt(self.gamma**2 * (5 * self.gamma**2 + 4)))\n",
      "    @property\n",
      "    def kurtosis(self) -> float:\n",
      "        return 3 + (6 * self.gamma * self.gamma * (93 * self.gamma * self.gamma + 40)) / (5 * self.gamma**2 + 4) ** 2\n",
      "    @property\n",
      "    def median(self) -> float:\n",
      "        return self.ppf(0.5)\n",
      "    @property\n",
      "    def mode(self) -> float:\n",
      "        return None\n",
      "    @property\n",
      "    def num_parameters(self) -> int:\n",
      "        return len(self.parameters)\n",
      "    def parameter_restrictions(self) -> bool:\n",
      "        v1 = self.scale > 0\n",
      "        v2 = self.gamma > 0\n",
      "        return v1 and v2\n",
      "    def get_parameters(self, continuous_measures) -> dict[str, float | int]:\n",
      "        scipy_params = scipy.stats.fatiguelife.fit(continuous_measures.data_to_fit)\n",
      "        parameters = {\"gamma\": scipy_params[0], \"loc\": scipy_params[1], \"scale\": scipy_params[2]}\n",
      "        return parameters\n"
     ]
    }
   ],
   "source": [
    "input_file_path = \"../../phitter/continuous/continuous_distributions/fatigue_life.py\"\n",
    "processed_content = process_py_file(input_file_path)\n",
    "print(processed_content)"
   ]
  },
  {
   "cell_type": "code",
   "execution_count": 5,
   "metadata": {},
   "outputs": [],
   "source": [
    "input_file_path = \"../../phitter/continuous/continuous_distributions/fatigue_life.py\"\n",
    "import_lines = get_import_lines(input_file_path)"
   ]
  },
  {
   "cell_type": "code",
   "execution_count": 6,
   "metadata": {},
   "outputs": [],
   "source": [
    "IMPORTS = []\n",
    "for file in os.listdir(\"../../phitter/continuous/continuous_distributions\"):\n",
    "    if \".py\" in file and file != \"__init__.py\":\n",
    "        import_lines = get_import_lines(f\"../../phitter/continuous/continuous_distributions/{file}\")\n",
    "        IMPORTS.extend(import_lines)\n",
    "\n",
    "input_file_path = \"../../phitter/continuous/continuous_measures/CONTINUOUS_MEASURES.py\"\n",
    "import_lines = get_import_lines(input_file_path)\n",
    "IMPORTS.extend(import_lines)\n",
    "IMPORTS.append(\"import concurrent.futures\")\n",
    "IMPORTS.append(\"import typing\")"
   ]
  },
  {
   "cell_type": "code",
   "execution_count": 7,
   "metadata": {},
   "outputs": [],
   "source": [
    "CODE = \"\\n\".join(sorted(list(set(IMPORTS)))) + \"\\n\\n\"\n",
    "for file in os.listdir(\"../../phitter/continuous/continuous_distributions\"):\n",
    "    if \".py\" in file:\n",
    "        processed_content = process_py_file(f\"../../phitter/continuous/continuous_distributions/{file}\")\n",
    "        CODE += processed_content + \"\\n\\n\""
   ]
  },
  {
   "cell_type": "code",
   "execution_count": 8,
   "metadata": {},
   "outputs": [],
   "source": [
    "input_file_path = \"../../phitter/continuous/continuous_measures/CONTINUOUS_MEASURES.py\"\n",
    "measuerements_code = process_py_file(input_file_path)\n",
    "CODE += measuerements_code + \"\\n\\n\"\n",
    "\n",
    "input_file_path = \"../../phitter/continuous/continuous_statistical_tests/continuous_test_chi_square.py\"\n",
    "evaluate_continuous_test_chi_square_code = process_py_file(input_file_path)\n",
    "CODE += evaluate_continuous_test_chi_square_code + \"\\n\\n\"\n",
    "\n",
    "input_file_path = \"../../phitter/continuous/continuous_statistical_tests/continuous_test_kolmogorov_smirnov.py\"\n",
    "evaluate_continuous_test_kolmogorov_smirnov_code = process_py_file(input_file_path)\n",
    "CODE += evaluate_continuous_test_kolmogorov_smirnov_code + \"\\n\\n\"\n",
    "\n",
    "input_file_path = \"../../phitter/continuous/continuous_statistical_tests/continuous_test_anderson_darling.py\"\n",
    "evaluate_continuous_test_anderson_darling_code = process_py_file(input_file_path)\n",
    "evaluate_continuous_test_anderson_darling_code = evaluate_continuous_test_anderson_darling_code.replace(\"ad.\", \"\")\n",
    "CODE += evaluate_continuous_test_anderson_darling_code + \"\\n\\n\""
   ]
  },
  {
   "cell_type": "code",
   "execution_count": 9,
   "metadata": {},
   "outputs": [],
   "source": [
    "class_phitter_continuous_code = process_py_file(\"../../phitter/continuous/phitter_continuous.py\")\n",
    "CODE += class_phitter_continuous_code + \"\\n\\n\""
   ]
  },
  {
   "cell_type": "code",
   "execution_count": 10,
   "metadata": {},
   "outputs": [
    {
     "data": {
      "text/plain": [
       "'class PHITTER_CONTINUOUS:\\n    def __init__(\\n        self,\\n        data: list[int | float] | numpy.ndarray,\\n        num_bins: int | None = None,\\n        confidence_level=0.95,\\n        minimum_sse=numpy.inf,\\n        subsample_estimation_size: int | None = None,\\n        distributions_to_fit: list[str] | typing.Literal[\"all\"] = \"all\",\\n        exclude_distributions: list[str] | typing.Literal[\"any\"] = \"any\",\\n    ):\\n        if distributions_to_fit != \"all\" and exclude_distributions != \"any\":\\n            raise Exception(f\"Specify either distributions_to_fit or exclude_distributions, not both.\")\\n        if distributions_to_fit == \"all\" and exclude_distributions == \"any\":\\n            self.distributions_to_fit = list(ALL_CONTINUOUS_DISTRIBUTIONS.keys())\\n        if distributions_to_fit != \"all\" and exclude_distributions == \"any\":\\n            not_distributions_ids = [dist for dist in distributions_to_fit if dist not in ALL_CONTINUOUS_DISTRIBUTIONS.keys()]\\n            if len(not_distributions_ids) > 0:\\n                raise Exception(f\"{not_distributions_ids} not founded in continuous disributions\")\\n            self.distributions_to_fit = distributions_to_fit\\n        if distributions_to_fit == \"all\" and exclude_distributions != \"any\":\\n            not_distributions_ids = [dist for dist in exclude_distributions if dist not in ALL_CONTINUOUS_DISTRIBUTIONS.keys()]\\n            if len(not_distributions_ids) > 0:\\n                raise Exception(f\"{not_distributions_ids} not founded in continuous disributions\")\\n            self.distributions_to_fit = [dist for dist in ALL_CONTINUOUS_DISTRIBUTIONS.keys() if dist not in exclude_distributions]\\n        self.continuous_measures = CONTINUOUS_MEASURES(\\n            data=data,\\n            num_bins=num_bins,\\n            confidence_level=confidence_level,\\n            subsample_estimation_size=subsample_estimation_size,\\n        )\\n        self.minimum_sse = minimum_sse\\n        self.distribution_results = {}\\n        self.none_results = {\"test_statistic\": None, \"critical_value\": None, \"p_value\": None, \"rejected\": None}\\n        self.sorted_distributions_sse = None\\n        self.not_rejected_distributions = None\\n        self.distribution_instances = None\\n    def test(self, test_function, label: str, distribution):\\n        validation_test = False\\n        try:\\n            test = test_function(distribution, self.continuous_measures)\\n            if numpy.isnan(test[\"test_statistic\"]) == False and numpy.isinf(test[\"test_statistic\"]) == False and test[\"test_statistic\"] > 0:\\n                self.distribution_results[label] = {\\n                    \"test_statistic\": test[\"test_statistic\"],\\n                    \"critical_value\": test[\"critical_value\"],\\n                    \"p_value\": test[\"p-value\"],\\n                    \"rejected\": test[\"rejected\"],\\n                }\\n                validation_test = True\\n            else:\\n                self.distribution_results[label] = self.none_results\\n        except:\\n            self.distribution_results[label] = self.none_results\\n        return validation_test\\n    def process_distribution(self, distribution_name: str) -> tuple[str, dict, typing.Any] | None:\\n        distribution_class = ALL_CONTINUOUS_DISTRIBUTIONS[distribution_name]\\n        validate_estimation = True\\n        sse = 0\\n        try:\\n            distribution = distribution_class(self.continuous_measures)\\n            pdf_values = distribution.pdf(self.continuous_measures.central_values)\\n            sse = numpy.sum(numpy.power(self.continuous_measures.densities_frequencies - pdf_values, 2.0))\\n        except:\\n            validate_estimation = False\\n        self.distribution_results = {}\\n        if validate_estimation and distribution.parameter_restrictions() and not numpy.isnan(sse) and not numpy.isinf(sse) and sse < self.minimum_sse:\\n            v1 = self.test(evaluate_continuous_test_chi_square, \"chi_square\", distribution)\\n            v2 = self.test(evaluate_continuous_test_kolmogorov_smirnov, \"kolmogorov_smirnov\", distribution)\\n            v3 = self.test(evaluate_continuous_test_anderson_darling, \"anderson_darling\", distribution)\\n            if v1 or v2 or v3:\\n                self.distribution_results[\"sse\"] = sse\\n                self.distribution_results[\"parameters\"] = distribution.parameters\\n                self.distribution_results[\"n_test_passed\"] = (\\n                    +int(self.distribution_results[\"chi_square\"][\"rejected\"] == False)\\n                    + int(self.distribution_results[\"kolmogorov_smirnov\"][\"rejected\"] == False)\\n                    + int(self.distribution_results[\"anderson_darling\"][\"rejected\"] == False)\\n                )\\n                self.distribution_results[\"n_test_null\"] = (\\n                    +int(self.distribution_results[\"chi_square\"][\"rejected\"] == None)\\n                    + int(self.distribution_results[\"kolmogorov_smirnov\"][\"rejected\"] == None)\\n                    + int(self.distribution_results[\"anderson_darling\"][\"rejected\"] == None)\\n                )\\n                return distribution_name, self.distribution_results, distribution\\n        return None\\n    def fit(self, n_workers: int = 1):\\n        if n_workers <= 0:\\n            raise Exception(\"n_workers must be greater than 1\")\\n        if n_workers == 1:\\n            processing_results = [self.process_distribution(distribution_name) for distribution_name in self.distributions_to_fit]\\n        else:\\n            executor = concurrent.futures.ProcessPoolExecutor(max_workers=n_workers)\\n            processing_results = list(executor.map(self.process_distribution, self.distributions_to_fit))\\n        processing_results = [r for r in processing_results if r is not None]\\n        self.sorted_distributions_sse = {distribution: results for distribution, results, _ in sorted(processing_results, key=lambda x: (-x[1][\"n_test_passed\"], x[1][\"sse\"]))}\\n        self.not_rejected_distributions = {distribution: results for distribution, results in self.sorted_distributions_sse.items() if results[\"n_test_passed\"] > 0}\\n        self.distribution_instances = {distribution: instance for distribution, _, instance in processing_results}\\n    def plot_histogram(\\n        self,\\n        plot_title: str,\\n        plot_xaxis_title: str,\\n        plot_yaxis_title: str,\\n        plot_legend_title: str,\\n        plot_height: int,\\n        plot_width: int,\\n        plot_bar_color: str,\\n        plot_bargap: float,\\n        plot_renderer: str | None,\\n    ):\\n        central_values = self.continuous_measures.central_values\\n        densities_frequencies = self.continuous_measures.densities_frequencies\\n        fig = go.Figure()\\n        fig.add_trace(go.Bar(x=central_values, y=densities_frequencies, marker_color=plot_bar_color, name=\"Data\", showlegend=True))\\n        fig.update_layout(\\n            height=plot_height,\\n            width=plot_width,\\n            title=plot_title,\\n            xaxis_title=plot_xaxis_title,\\n            yaxis_title=plot_yaxis_title,\\n            legend_title=plot_legend_title,\\n            template=\"ggplot2\",\\n            legend=dict(orientation=\"v\", yanchor=\"auto\", y=1, xanchor=\"left\", font=dict(size=10), title_font_size=10),\\n            bargap=plot_bargap,\\n        )\\n        fig.show(renderer=plot_renderer)\\n    def plot_histogram_distributions_pdf(\\n        self,\\n        n_distributions: int,\\n        n_distributions_visible: int,\\n        plot_title: str,\\n        plot_xaxis_title: str,\\n        plot_yaxis_title: str,\\n        plot_legend_title: str,\\n        plot_height: int,\\n        plot_width: int,\\n        plot_bar_color: str,\\n        plot_bargap: float,\\n        plot_renderer: str | None,\\n    ):\\n        central_values = self.continuous_measures.central_values\\n        densities_frequencies = self.continuous_measures.densities_frequencies\\n        fig = go.Figure()\\n        fig.add_trace(go.Bar(x=central_values, y=densities_frequencies, marker_color=plot_bar_color, showlegend=False, name=\"Data\"))\\n        x_plot = numpy.linspace(self.continuous_measures.min, self.continuous_measures.max, 1000)\\n        for idx, (distribution_name, result) in enumerate(list(self.sorted_distributions_sse.items())[:n_distributions]):\\n            y_plot = self.distribution_instances[distribution_name].pdf(x_plot)\\n            distribution_sse = result[\"sse\"]\\n            is_visible = True if idx + 1 <= n_distributions_visible else \"legendonly\"\\n            is_rejected = \"✅\" if distribution_name in self.not_rejected_distributions else \"\"\\n            scatter_name = f\"{distribution_name}: {distribution_sse:.4E}{is_rejected}\"\\n            scatter_line = dict(color=px.colors.qualitative.G10[idx], width=2) if idx < len(px.colors.qualitative.G10) else dict(width=3)\\n            try:\\n                fig.add_trace(go.Scatter(x=x_plot, y=y_plot, mode=\"lines\", visible=is_visible, name=scatter_name, line=scatter_line))\\n            except Exception:\\n                fig.add_trace(go.Scatter(x=x_plot, y=numpy.zeros(len(x_plot)), mode=\"lines\", visible=is_visible, name=scatter_name, line=scatter_line))\\n        fig.update_layout(\\n            height=plot_height,\\n            width=plot_width,\\n            title=f\"{plot_title} - PDF DISTRIBUTIONS\",\\n            xaxis_title=plot_xaxis_title,\\n            yaxis_title=plot_yaxis_title,\\n            legend_title=plot_legend_title,\\n            template=\"ggplot2\",\\n            xaxis=dict(title_font_size=12, tickfont=dict(size=10)),\\n            yaxis=dict(title_font_size=12, tickfont=dict(size=10)),\\n            legend=dict(orientation=\"v\", yanchor=\"auto\", y=1, xanchor=\"left\", font=dict(size=10), title_font_size=10),\\n            bargap=plot_bargap,\\n        )\\n        fig.show(renderer=plot_renderer)\\n    def plot_distribution_pdf(\\n        self,\\n        distribution_name: str,\\n        plot_title: str,\\n        plot_xaxis_title: str,\\n        plot_yaxis_title: str,\\n        plot_legend_title: str,\\n        plot_height: int,\\n        plot_width: int,\\n        plot_bar_color: str,\\n        plot_bargap: float,\\n        plot_line_color: str,\\n        plot_line_width: int,\\n        plot_renderer: str | None,\\n    ):\\n        if distribution_name not in self.distribution_instances:\\n            raise Exception(f\"{distribution_name} distribution not founded\")\\n        central_values = self.continuous_measures.central_values\\n        densities_frequencies = self.continuous_measures.densities_frequencies\\n        fig = go.Figure()\\n        fig.add_trace(go.Bar(x=central_values, y=densities_frequencies, marker_color=plot_bar_color, showlegend=True, name=\"Data\"))\\n        x_plot = numpy.linspace(self.continuous_measures.min, self.continuous_measures.max, 1000)\\n        y_plot = self.distribution_instances[distribution_name].pdf(x_plot)\\n        distribution_sse = self.sorted_distributions_sse[distribution_name][\"sse\"]\\n        is_rejected = \"✅\" if distribution_name in self.not_rejected_distributions else \"\"\\n        scatter_name = f\"{distribution_name}: {distribution_sse:.4E}{is_rejected}\"\\n        scatter_line = dict(color=plot_line_color, width=plot_line_width)\\n        try:\\n            fig.add_trace(go.Scatter(x=x_plot, y=y_plot, mode=\"lines\", name=scatter_name, line=scatter_line))\\n        except Exception:\\n            fig.add_trace(go.Scatter(x=x_plot, y=numpy.zeros(len(x_plot)), mode=\"lines\", name=scatter_name, line=scatter_line))\\n        fig.update_layout(\\n            height=plot_height,\\n            width=plot_width,\\n            title=f\"{plot_title} - PDF {distribution_name.upper().replace(\\'_\\', \\' \\')} DISTRIBUTION\",\\n            xaxis_title=plot_xaxis_title,\\n            yaxis_title=plot_yaxis_title,\\n            legend_title=plot_legend_title,\\n            template=\"ggplot2\",\\n            xaxis=dict(title_font_size=12, tickfont=dict(size=10)),\\n            yaxis=dict(title_font_size=12, tickfont=dict(size=10)),\\n            legend=dict(orientation=\"v\", yanchor=\"auto\", y=1, xanchor=\"left\", font=dict(size=10), title_font_size=10),\\n            bargap=plot_bargap,\\n        )\\n        fig.show(renderer=plot_renderer)\\n    def plot_ecdf(\\n        self,\\n        plot_title: str,\\n        plot_xaxis_title: str,\\n        plot_xaxis_min_offset: float,\\n        plot_xaxis_max_offset: float,\\n        plot_yaxis_title: str,\\n        plot_legend_title: str,\\n        plot_height: int,\\n        plot_width: int,\\n        plot_line_color: str,\\n        plot_line_width: int,\\n        plot_line_name: str,\\n        plot_renderer: str | None,\\n    ):\\n        fig = go.Figure()\\n        fig.add_trace(\\n            go.Scatter(\\n                x=numpy.repeat(self.continuous_measures.data_unique, 2)[1:-1],\\n                y=numpy.repeat(self.continuous_measures.ecdf_frequencies, 2)[:-1],\\n                mode=\"lines\",\\n                name=plot_line_name,\\n                line=dict(color=plot_line_color, width=plot_line_width),\\n                showlegend=True,\\n            )\\n        )\\n        fig.update_layout(\\n            height=plot_height,\\n            width=plot_width,\\n            title=plot_title,\\n            xaxis_title=plot_xaxis_title,\\n            yaxis_title=plot_yaxis_title,\\n            legend_title=plot_legend_title,\\n            template=\"ggplot2\",\\n            xaxis=dict(title_font_size=12, tickfont=dict(size=10)),\\n            yaxis=dict(title_font_size=12, tickfont=dict(size=10)),\\n            legend=dict(orientation=\"v\", yanchor=\"auto\", y=1, xanchor=\"left\", font=dict(size=10), title_font_size=10),\\n            xaxis_range=[self.continuous_measures.min - plot_xaxis_min_offset, self.continuous_measures.max + plot_xaxis_max_offset],\\n        )\\n        fig.show(renderer=plot_renderer)\\n    def plot_ecdf_distribution(\\n        self,\\n        distribution_name: str,\\n        plot_title: str,\\n        plot_xaxis_title: str,\\n        plot_xaxis_min_offset: float,\\n        plot_xaxis_max_offset: float,\\n        plot_yaxis_title: str,\\n        plot_legend_title: str,\\n        plot_height: int,\\n        plot_width: int,\\n        plot_empirical_line_color: str,\\n        plot_empirical_line_width: int,\\n        plot_empirical_line_name: str,\\n        plot_distribution_line_color: str,\\n        plot_distribution_line_width: int,\\n        plot_renderer: str | None,\\n    ):\\n        if distribution_name not in self.distribution_instances:\\n            raise Exception(f\"{distribution_name} distribution not founded\")\\n        fig = go.Figure()\\n        fig.add_trace(\\n            go.Scatter(\\n                x=numpy.repeat(self.continuous_measures.data_unique, 2)[1:-1],\\n                y=numpy.repeat(self.continuous_measures.ecdf_frequencies, 2)[:-1],\\n                mode=\"lines\",\\n                name=plot_empirical_line_name,\\n                line=dict(color=plot_empirical_line_color, width=plot_empirical_line_width),\\n                showlegend=True,\\n            )\\n        )\\n        x_plot = numpy.linspace(self.continuous_measures.min, self.continuous_measures.max, 1000)\\n        y_plot = self.distribution_instances[distribution_name].cdf(x_plot)\\n        distribution_sse = self.sorted_distributions_sse[distribution_name][\"sse\"]\\n        is_rejected = \"✅\" if distribution_name in self.not_rejected_distributions else \"\"\\n        try:\\n            fig.add_trace(\\n                go.Scatter(\\n                    x=x_plot,\\n                    y=y_plot,\\n                    mode=\"lines\",\\n                    name=f\"{distribution_name}: {distribution_sse:.4E}{is_rejected}\",\\n                    line=dict(color=plot_distribution_line_color, width=plot_distribution_line_width),\\n                )\\n            )\\n        except Exception:\\n            fig.add_trace(go.Scatter(x=x_plot, y=numpy.zeros(len(x_plot)), mode=\"lines\", name=f\"{distribution_name}: {distribution_sse:.4E}{is_rejected}\"))\\n        fig.update_layout(\\n            height=plot_height,\\n            width=plot_width,\\n            title=f\"{plot_title} - CDF {distribution_name.upper().replace(\\'_\\', \\' \\')} DISTRIBUTION\",\\n            xaxis_title=plot_xaxis_title,\\n            yaxis_title=plot_yaxis_title,\\n            legend_title=plot_legend_title,\\n            template=\"ggplot2\",\\n            xaxis=dict(title_font_size=12, tickfont=dict(size=10)),\\n            yaxis=dict(title_font_size=12, tickfont=dict(size=10)),\\n            legend=dict(orientation=\"v\", yanchor=\"auto\", y=1, xanchor=\"left\", font=dict(size=10), title_font_size=10),\\n            xaxis_range=[self.continuous_measures.min - plot_xaxis_min_offset, self.continuous_measures.max + plot_xaxis_max_offset],\\n        )\\n        fig.show(renderer=plot_renderer)\\n    def qq_plot(\\n        self,\\n        distribution_name: str,\\n        plot_title: str,\\n        plot_xaxis_title: str,\\n        plot_yaxis_title: str,\\n        plot_legend_title: str,\\n        plot_height: int,\\n        plot_width: int,\\n        qq_marker_name: str,\\n        qq_marker_color: str,\\n        qq_marker_size: int,\\n        plot_renderer: str | None,\\n    ):\\n        if distribution_name not in self.distribution_instances:\\n            raise Exception(f\"{distribution_name} distribution not founded\")\\n        x = self.distribution_instances[distribution_name].ppf(self.continuous_measures.qq_arr)\\n        y = self.continuous_measures.data\\n        fig = go.Figure()\\n        fig.add_trace(go.Scatter(x=x, y=y, mode=\"markers\", name=qq_marker_name, marker=dict(color=qq_marker_color, size=qq_marker_size), showlegend=True))\\n        fig.update_layout(\\n            height=plot_height,\\n            width=plot_width,\\n            title=f\"{plot_title} {distribution_name.upper().replace(\\'_\\', \\' \\')} DISTRIBUTION\",\\n            xaxis_title=plot_xaxis_title,\\n            yaxis_title=plot_yaxis_title,\\n            legend_title=plot_legend_title,\\n            template=\"ggplot2\",\\n            xaxis=dict(title_font_size=12, tickfont=dict(size=10)),\\n            yaxis=dict(title_font_size=12, tickfont=dict(size=10)),\\n            legend=dict(orientation=\"v\", yanchor=\"auto\", y=1, xanchor=\"left\", font=dict(size=10), title_font_size=10),\\n        )\\n        fig.show(renderer=plot_renderer)\\n    def qq_plot_regression(\\n        self,\\n        distribution_name: str,\\n        plot_title: str,\\n        plot_xaxis_title: str,\\n        plot_yaxis_title: str,\\n        plot_legend_title: str,\\n        plot_height: int,\\n        plot_width: int,\\n        qq_marker_name: str,\\n        qq_marker_color: str,\\n        qq_marker_size: int,\\n        regression_line_name: str,\\n        regression_line_color: str,\\n        regression_line_width: int,\\n        plot_renderer: str | None,\\n    ):\\n        if distribution_name not in self.distribution_instances:\\n            raise Exception(f\"{distribution_name} distribution not founded\")\\n        x = self.distribution_instances[distribution_name].ppf(self.continuous_measures.qq_arr)\\n        y = self.continuous_measures.data\\n        linear_regression = scipy.stats.linregress(x, y)\\n        y_reg = linear_regression.intercept + x * linear_regression.slope\\n        fig = go.Figure()\\n        fig.add_trace(go.Scatter(x=x, y=y_reg, mode=\"lines\", name=regression_line_name, line=dict(color=regression_line_color, width=regression_line_width)))\\n        fig.add_trace(go.Scatter(x=x, y=y, mode=\"markers\", name=qq_marker_name, marker=dict(color=qq_marker_color, size=qq_marker_size)))\\n        fig.update_layout(\\n            height=plot_height,\\n            width=plot_width,\\n            title=f\"{plot_title} {distribution_name.upper().replace(\\'_\\', \\' \\')} DISTRIBUTION <br><br><sup>Regression: {linear_regression.intercept:.4g} + x * {linear_regression.slope:.4g} • r = {linear_regression.rvalue:.4g}</sup>\",\\n            xaxis_title=plot_xaxis_title,\\n            yaxis_title=plot_yaxis_title,\\n            legend_title=plot_legend_title,\\n            template=\"ggplot2\",\\n            xaxis=dict(title_font_size=12, tickfont=dict(size=10)),\\n            yaxis=dict(title_font_size=12, tickfont=dict(size=10)),\\n            legend=dict(orientation=\"v\", yanchor=\"auto\", y=1, xanchor=\"left\", font=dict(size=10), title_font_size=10),\\n        )\\n        fig.show(renderer=plot_renderer)'"
      ]
     },
     "execution_count": 10,
     "metadata": {},
     "output_type": "execute_result"
    }
   ],
   "source": [
    "class_phitter_continuous_code"
   ]
  },
  {
   "cell_type": "code",
   "execution_count": 11,
   "metadata": {},
   "outputs": [],
   "source": [
    "code_file = open(\"./phitter_web_continuous.py\", \"+w\", encoding=\"utf8\")\n",
    "code_file.write(CODE)\n",
    "code_file.close()"
   ]
  }
 ],
 "metadata": {
  "kernelspec": {
   "display_name": "Python 3",
   "language": "python",
   "name": "python3"
  },
  "language_info": {
   "codemirror_mode": {
    "name": "ipython",
    "version": 3
   },
   "file_extension": ".py",
   "mimetype": "text/x-python",
   "name": "python",
   "nbconvert_exporter": "python",
   "pygments_lexer": "ipython3",
   "version": "3.10.10"
  },
  "orig_nbformat": 4
 },
 "nbformat": 4,
 "nbformat_minor": 2
}

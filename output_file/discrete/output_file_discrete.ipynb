{
 "cells": [
  {
   "cell_type": "code",
   "execution_count": 12,
   "metadata": {},
   "outputs": [],
   "source": [
    "import os\n",
    "import re\n"
   ]
  },
  {
   "cell_type": "code",
   "execution_count": 13,
   "metadata": {},
   "outputs": [],
   "source": [
    "def process_py_file(file_path):\n",
    "    with open(file_path, \"r\", encoding=\"utf8\") as f:\n",
    "        file_content = f.read()\n",
    "\n",
    "    # Remove import statements\n",
    "    file_content = re.sub(r\"^import.*$|^from .* import.*$\", \"\", file_content, flags=re.MULTILINE)\n",
    "\n",
    "    file_content = re.sub(r\"^sys.path.append.*\\n\", \"\", file_content, flags=re.MULTILINE)\n",
    "\n",
    "    # Remove comments\n",
    "    file_content = re.sub(r\"#.*\", \"\", file_content)\n",
    "\n",
    "    # # Remove function descriptions and docstrings\n",
    "    patron_docstrings_triple_comillas = r'(\\\"\\\"\\\")(.*?)(\\\"\\\"\\\")'\n",
    "    patron_docstrings_comillas_simples = r'(\\'\\'\\')(.*?)(\\'\\'\\')'\n",
    "    patron_total = f\"{patron_docstrings_triple_comillas}|{patron_docstrings_comillas_simples}\"\n",
    "\n",
    "    file_content = re.sub(patron_total, '', file_content, flags=re.DOTALL)\n",
    "\n",
    "    # Remove the code inside if __name__ == \"__main__\": block\n",
    "    file_content = re.sub(r'if __name__ == \"__main__\":[\\s\\S]*', \"\", file_content)\n",
    "\n",
    "    # Remove any empty lines and extra whitespaces\n",
    "    file_content = re.sub(r\"^\\s*\\n\", \"\", file_content, flags=re.MULTILINE)\n",
    "    file_content = re.sub(r\"\\n\\s*\\n\", \"\\n\", file_content)\n",
    "    file_content = file_content.strip()\n",
    "\n",
    "    return file_content\n"
   ]
  },
  {
   "cell_type": "code",
   "execution_count": 14,
   "metadata": {},
   "outputs": [],
   "source": [
    "def get_import_lines(file_path):\n",
    "    with open(file_path, \"r\", encoding=\"utf8\") as f:\n",
    "        file_content = f.read()\n",
    "\n",
    "    # Find all import lines using regular expression\n",
    "    import_lines = re.findall(r\"^import.*$|^from .* import.*$\", file_content, re.MULTILINE)\n",
    "\n",
    "    return import_lines\n",
    "\n"
   ]
  },
  {
   "cell_type": "code",
   "execution_count": 15,
   "metadata": {},
   "outputs": [
    {
     "name": "stdout",
     "output_type": "stream",
     "text": [
      "class BERNOULLI:\n",
      "    def __init__(self, measurements):\n",
      "        self.parameters = self.get_parameters(measurements)\n",
      "        self.p = self.parameters[\"p\"]\n",
      "    def cdf(self, x: float) -> float:\n",
      "        if ( x < 0 ):\n",
      "            result = 0\n",
      "        elif( x >= 0 and x < 1 ):\n",
      "            result = 1 - self.p\n",
      "        else:\n",
      "            result = 1\n",
      "        return result\n",
      "    def pmf(self, x: int) -> float:\n",
      "        result = (self.p ** x) * (1 - self.p) ** (1 - x)\n",
      "        return result\n",
      "    def get_num_parameters(self) -> int:\n",
      "        return len(self.parameters)\n",
      "    def parameter_restrictions(self) -> bool:\n",
      "        v1 = self.p > 0 and self.p < 1\n",
      "        return v1\n",
      "    def get_parameters(self, measurements) -> dict[str, float | int]:\n",
      "        p = measurements.mean\n",
      "        parameters = {\"p\": p}\n",
      "        return parameters\n"
     ]
    }
   ],
   "source": [
    "input_file_path = \"../../discrete/distributions/bernoulli.py\"\n",
    "processed_content = process_py_file(input_file_path)\n",
    "print(processed_content)"
   ]
  },
  {
   "cell_type": "code",
   "execution_count": 16,
   "metadata": {},
   "outputs": [],
   "source": [
    "input_file_path = \"../../discrete/distributions/bernoulli.py\"\n",
    "import_lines = get_import_lines(input_file_path)"
   ]
  },
  {
   "cell_type": "code",
   "execution_count": 17,
   "metadata": {},
   "outputs": [],
   "source": [
    "IMPORTS = []\n",
    "for file in os.listdir(\"../../discrete/distributions\"):\n",
    "    if \".py\" in file:\n",
    "        import_lines = get_import_lines(f\"../../discrete/distributions/{file}\")\n",
    "        IMPORTS.extend(import_lines)\n",
    "\n",
    "input_file_path = \"../../discrete/measurements/measurements_discrete.py\"\n",
    "import_lines = get_import_lines(input_file_path)\n",
    "IMPORTS.extend(import_lines)"
   ]
  },
  {
   "cell_type": "code",
   "execution_count": 18,
   "metadata": {},
   "outputs": [],
   "source": [
    "CODE = \"\\n\".join(sorted(list(set(IMPORTS)))) + \"\\n\\n\"\n",
    "for file in os.listdir(\"../../discrete/distributions\"):\n",
    "    if \".py\" in file:\n",
    "        processed_content = process_py_file(f\"../../discrete/distributions/{file}\")\n",
    "        CODE += processed_content + \"\\n\\n\""
   ]
  },
  {
   "cell_type": "code",
   "execution_count": 19,
   "metadata": {},
   "outputs": [],
   "source": [
    "input_file_path = \"../../discrete/measurements/measurements_discrete.py\"\n",
    "measuerements_code = process_py_file(input_file_path)\n",
    "CODE += measuerements_code + \"\\n\\n\"\n",
    "\n",
    "input_file_path = \"../../discrete/test_chi_square_discrete.py\"\n",
    "test_chi_square_discrete_code = process_py_file(input_file_path)\n",
    "CODE += test_chi_square_discrete_code + \"\\n\\n\"\n",
    "\n",
    "input_file_path = \"../../discrete/test_kolmogorov_smirnov_discrete.py\"\n",
    "test_kolmogorov_smirnov_discrete_code = process_py_file(input_file_path)\n",
    "CODE += test_kolmogorov_smirnov_discrete_code + \"\\n\\n\""
   ]
  },
  {
   "cell_type": "code",
   "execution_count": 20,
   "metadata": {},
   "outputs": [],
   "source": [
    "if_name = \"\"\"\n",
    "def phitter_discrete(data):\n",
    "    _all_distributions = [BERNOULLI, BINOMIAL, GEOMETRIC, HYPERGEOMETRIC, LOGARITHMIC, NEGATIVE_BINOMIAL, POISSON, UNIFORM]\n",
    "    measurements = MEASUREMENTS_DISCRETE(data)\n",
    "\n",
    "    NONE_RESULTS = {\n",
    "        \"test_statistic\": None,\n",
    "        \"critical_value\": None,\n",
    "        \"p_value\": None,\n",
    "        \"rejected\": None,\n",
    "    }\n",
    "\n",
    "    RESPONSE = {}\n",
    "    for distribution_class in _all_distributions:\n",
    "        distribution_name = distribution_class.__name__.lower()\n",
    "\n",
    "        validate_estimation = True\n",
    "        sse = 0\n",
    "        try:\n",
    "            distribution = distribution_class(measurements)\n",
    "            pmf_values = [distribution.pmf(d) for d in measurements.domain]\n",
    "            sse = numpy.sum(numpy.power(numpy.array(pmf_values) - numpy.array(measurements.frequencies_pmf), 2.0))\n",
    "        except:\n",
    "            validate_estimation = False\n",
    "\n",
    "        DISTRIBUTION_RESULTS = {}\n",
    "        v1, v2 = False, False\n",
    "        if validate_estimation and not math.isnan(sse) and not math.isinf(sse):\n",
    "            try:\n",
    "                chi2_test = test_chi_square_discrete(data, distribution, measurements)\n",
    "                if numpy.isnan(chi2_test[\"test_statistic\"]) == False and math.isinf(chi2_test[\"test_statistic\"]) == False and chi2_test[\"test_statistic\"] > 0:\n",
    "                    DISTRIBUTION_RESULTS[\"chi_square\"] = {\n",
    "                        \"test_statistic\": chi2_test[\"test_statistic\"],\n",
    "                        \"critical_value\": chi2_test[\"critical_value\"],\n",
    "                        \"p_value\": chi2_test[\"p-value\"],\n",
    "                        \"rejected\": chi2_test[\"rejected\"],\n",
    "                    }\n",
    "                    v1 = True\n",
    "                else:\n",
    "                    DISTRIBUTION_RESULTS[\"chi_square\"] = NONE_RESULTS\n",
    "            except:\n",
    "                DISTRIBUTION_RESULTS[\"chi_square\"] = NONE_RESULTS\n",
    "\n",
    "            try:\n",
    "                ks_test = test_kolmogorov_smirnov_discrete(data, distribution, measurements)\n",
    "                if numpy.isnan(ks_test[\"test_statistic\"]) == False and math.isinf(ks_test[\"test_statistic\"]) == False and ks_test[\"test_statistic\"] > 0:\n",
    "                    DISTRIBUTION_RESULTS[\"kolmogorov_smirnov\"] = {\n",
    "                        \"test_statistic\": ks_test[\"test_statistic\"],\n",
    "                        \"critical_value\": ks_test[\"critical_value\"],\n",
    "                        \"p_value\": ks_test[\"p-value\"],\n",
    "                        \"rejected\": ks_test[\"rejected\"],\n",
    "                    }\n",
    "                    v2 = True\n",
    "                else:\n",
    "                    DISTRIBUTION_RESULTS[\"anderson_darling\"] = NONE_RESULTS\n",
    "            except:\n",
    "                DISTRIBUTION_RESULTS[\"kolmogorov_smirnov\"] = NONE_RESULTS\n",
    "\n",
    "            if v1 or v2:\n",
    "                DISTRIBUTION_RESULTS[\"sse\"] = sse\n",
    "                DISTRIBUTION_RESULTS[\"parameters\"] = str(distribution.parameters)\n",
    "                DISTRIBUTION_RESULTS[\"n_test_passed\"] = int(DISTRIBUTION_RESULTS[\"chi_square\"][\"rejected\"] == False) + int(DISTRIBUTION_RESULTS[\"kolmogorov_smirnov\"][\"rejected\"] == False)\n",
    "                DISTRIBUTION_RESULTS[\"n_test_null\"] = int(DISTRIBUTION_RESULTS[\"chi_square\"][\"rejected\"] == None) + int(DISTRIBUTION_RESULTS[\"kolmogorov_smirnov\"][\"rejected\"] == None)\n",
    "\n",
    "                RESPONSE[distribution_name] = DISTRIBUTION_RESULTS\n",
    "\n",
    "    sorted_results_sse = {distribution: results for distribution, results in sorted(RESPONSE.items(), key=lambda x: x[1][\"sse\"])}\n",
    "    aproved_results = {distribution: results for distribution, results in sorted_results_sse.items() if results[\"n_test_passed\"] > 0}\n",
    "\n",
    "    return sorted_results_sse, aproved_results\n",
    "\n",
    "\n",
    "if __name__ == \"__main__\":\n",
    "    path = \"../../discrete/data/data_binomial.txt\"\n",
    "    sample_distribution_file = open(path, \"r\")\n",
    "    data = [float(x.replace(\",\", \".\")) for x in sample_distribution_file.read().splitlines()]\n",
    "\n",
    "    sorted_results_sse, aproved_results = phitter_discrete(data)\n",
    "\n",
    "    for distribution, results in aproved_results.items():\n",
    "        print(f\"Distribution: {distribution}, SSE: {results['sse']}, Aprobados: {results['n_test_passed']}\")\n",
    "\"\"\"\n"
   ]
  },
  {
   "cell_type": "code",
   "execution_count": 21,
   "metadata": {},
   "outputs": [],
   "source": [
    "CODE += if_name"
   ]
  },
  {
   "cell_type": "code",
   "execution_count": 22,
   "metadata": {},
   "outputs": [],
   "source": [
    "code_file = open(\"./code_discrete.py\", \"+w\", encoding=\"utf8\")\n",
    "code_file.write(CODE)\n",
    "code_file.close()"
   ]
  }
 ],
 "metadata": {
  "kernelspec": {
   "display_name": "Python 3",
   "language": "python",
   "name": "python3"
  },
  "language_info": {
   "codemirror_mode": {
    "name": "ipython",
    "version": 3
   },
   "file_extension": ".py",
   "mimetype": "text/x-python",
   "name": "python",
   "nbconvert_exporter": "python",
   "pygments_lexer": "ipython3",
   "version": "3.10.10"
  },
  "orig_nbformat": 4
 },
 "nbformat": 4,
 "nbformat_minor": 2
}

{
 "cells": [
  {
   "cell_type": "code",
   "execution_count": 33,
   "metadata": {},
   "outputs": [],
   "source": [
    "import os\n",
    "import re\n",
    "import ast\n"
   ]
  },
  {
   "cell_type": "code",
   "execution_count": 34,
   "metadata": {},
   "outputs": [],
   "source": [
    "# Directorio donde se encuentran los archivos\n",
    "directorio = \"./outputsDiscrete\"  # Reemplaza 'ruta_de_la_carpeta' por la ruta adecuada\n",
    "\n",
    "# Expresión regular para encontrar la parte deseada del archivo\n",
    "patron = r\"dists = {(\\s*\\w+:\\s*{[\\s\\S]*?})\\s*}\"\n"
   ]
  },
  {
   "cell_type": "code",
   "execution_count": 35,
   "metadata": {},
   "outputs": [
    {
     "name": "stdout",
     "output_type": "stream",
     "text": [
      "bernoulli.js\n",
      "['\\n    bernoulli: {\\n        measurements: {\\n            nonCentralMoments: function (k, p) {\\n                return undefined;\\n            },\\n            centralMoments: function (k, p) {\\n                return undefined;\\n            },\\n            stats: {\\n                mean: function (p) {\\n                    return p;\\n                },\\n                variance: function (p) {\\n                    return p*(1-p);\\n                },\\n                standardDeviation: function (p) {\\n                    return numpy.sqrt(this.variance(p));\\n                },\\n                skewness: function (p) {\\n                    return (1-2*p)/numpy.sqrt(p*(1-p));\\n                },\\n                kurtosis: function (p) {\\n                    return (6*p*p-6*p+1)/(p*(1-p))+3;\\n                },\\n                median: function (p) {\\n                    return dists.bernoulli.measurements.ppf(0.5, p);\\n                },\\n                mode: function (p) {\\n                    return p<0.5 ? 0 : 1;\\n                },\\n            },\\n        }']\n",
      "binomial.js\n",
      "['\\n    binomial: {\\n        measurements: {\\n            nonCentralMoments: function (k, n, p) {\\n                return undefined;\\n            },\\n            centralMoments: function (k, n, p) {\\n                return undefined;\\n            },\\n            stats: {\\n                mean: function (n, p) {\\n                    return n * p;\\n                },\\n                variance: function (n, p) {\\n                    return n * p * (1 - p);\\n                },\\n                standardDeviation: function (n, p) {\\n                    return numpy.sqrt(this.variance(n, p));\\n                },\\n                skewness: function (n, p) {\\n                    return (1 - p - p) / numpy.sqrt(n * p * (1 - p));\\n                },\\n                kurtosis: function (n, p) {\\n                    return (1 - 6 * p * (1 - p)) / (n * p * (1 - p)) + 3;\\n                },\\n                median: function (n, p) {\\n                    return dists.binomial.measurements.ppf(0.5, n, p);\\n                },\\n                mode: function (n, p) {\\n                    return undefined;\\n                },\\n            },\\n        }']\n",
      "geometric.js\n",
      "['\\n    geometric: {\\n        measurements: {\\n            nonCentralMoments: function (k, p) {\\n                return undefined;\\n            },\\n            centralMoments: function (k, p) {\\n                return undefined;\\n            },\\n            stats: {\\n                mean: function (p) {\\n                    return 1 / p;\\n                },\\n                variance: function (p) {\\n                    return (1 - p) / (p * p);\\n                },\\n                standardDeviation: function (p) {\\n                    return numpy.sqrt(this.variance(p));\\n                },\\n                skewness: function (p) {\\n                    return (2 - p) / numpy.sqrt(1 - p);\\n                },\\n                kurtosis: function (p) {\\n                    return 3 + 6 + (p * p) / (1 - p);\\n                },\\n                median: function (p) {\\n                    return dists.geometric.measurements.ppf(0.5, p);\\n                },\\n                mode: function (p) {\\n                    return 1.0;\\n                },\\n            },\\n        }']\n",
      "hypergeometric.js\n",
      "['\\n    hypergeometric: {\\n        measurements: {\\n            nonCentralMoments: function (k, N, K, n) {\\n                return undefined;\\n            },\\n            centralMoments: function (k, N, K, n) {\\n                return undefined;\\n            },\\n            stats: {\\n                mean: function (N, K, n) {\\n                    return n * K / N;\\n                },\\n                variance: function (N, K, n) {\\n                    return (n * K / N) * ((N - K) / N) * ((N - n) / (N - 1));\\n                },\\n                standardDeviation: function (N, K, n) {\\n                    return numpy.sqrt(this.variance(N, K, n));\\n                },\\n                skewness: function (N, K, n) {\\n                    return ((N - 2 * K) * numpy.sqrt(N - 1) * (N - 2 * n)) / (numpy.sqrt(n * K * (N - K) * (N - n)) * (N - 2));\\n                },\\n                kurtosis: function (N, K, n) {\\n                    return 3 + (1 / (n * K * (N - K) * (N - n) * (N - 2) * (N - 3))) * ((N - 1) * N * N * (N * (N + 1) - 6 * K * (N - K) - 6 * n * (N - n)) + 6 * n * K * (N - K) * (N - n) * (5 * N - 6));\\n                },\\n                median: function (N, K, n) {\\n                    return dists.hypergeometric.measurements.ppf(0.5, N, K, n);\\n                },\\n                mode: function (N, K, n) {\\n                    return Math.floor((n + 1) * (K + 1) / (N + 2));\\n                },\\n            },\\n        }']\n",
      "logarithmic.js\n",
      "['\\n    logarithmic: {\\n        measurements: {\\n            nonCentralMoments: function (k, p) {\\n                return undefined;\\n            },\\n            centralMoments: function (k, p) {\\n                return undefined;\\n            },\\n            stats: {\\n                mean: function (p) {\\n                    return -p / ((1 - p) * numpy.log(1 - p));\\n                },\\n                variance: function (p) {\\n                    return (-p * (p + numpy.log(1 - p))) / ((1 - p) ** 2 * numpy.log(1 - p) ** 2);\\n                },\\n                standardDeviation: function (p) {\\n                    return numpy.sqrt(this.variance(p));\\n                },\\n                skewness: function (p) {\\n                    return (\\n                        (-(2 * p ** 2 + 3 * p * numpy.log(1 - p) + (1 + p) * numpy.log(1 - p) ** 2) /\\n                            (numpy.log(1 - p) * (p + numpy.log(1 - p)) * numpy.sqrt(-p * (p + numpy.log(1 - p))))) *\\n                        numpy.log(1 - p)\\n                    );\\n                },\\n                kurtosis: function (p) {\\n                    return (\\n                        -(6 * p ** 3 + 12 * p ** 2 * numpy.log(1 - p) + p * (4 * p + 7) * numpy.log(1 - p) ** 2 + (p ** 2 + 4 * p + 1) * numpy.log(1 - p) ** 3) /\\n                        (p * (p + numpy.log(1 - p)) ** 2)\\n                    );\\n                },\\n                median: function (p) {\\n                    return dists.logarithmic.measurements.ppf(0.5, p);\\n                },\\n                mode: function (p) {\\n                    return 1;\\n                },\\n            },\\n        }']\n",
      "negative_binomial.js\n",
      "['\\n    negative_binomial: {\\n        measurements: {\\n            nonCentralMoments: function (k, r, p) {\\n                return undefined;\\n            },\\n            centralMoments: function (k, r, p) {\\n                return undefined;\\n            },\\n            stats: {\\n                mean: function (r, p) {\\n                    return (r * (1 - p)) / p;\\n                },\\n                variance: function (r, p) {\\n                    return (r * (1 - p)) / (p * p);\\n                },\\n                standardDeviation: function (r, p) {\\n                    return numpy.sqrt(this.variance(r, p));\\n                },\\n                skewness: function (r, p) {\\n                    return (2 - p) / numpy.sqrt(r * (1 - p));\\n                },\\n                kurtosis: function (r, p) {\\n                    return 6 / r + (p * p) / (r * (1 - p)) + 3;\\n                },\\n                median: function (r, p) {\\n                    return dists.negative_binomial.measurements.ppf(0.5, r, p);\\n                },\\n                mode: function (r, p) {\\n                    return Math.floor(((r - 1) * (1 - p)) / p, 0);\\n                },\\n            },\\n        }']\n",
      "poisson.js\n",
      "['\\n    poisson: {\\n        measurements: {\\n            nonCentralMoments: function (k, lambda) {\\n                return undefined;\\n            },\\n            centralMoments: function (k, lambda) {\\n                return undefined;\\n            },\\n            stats: {\\n                mean: function (lambda) {\\n                    return lambda;\\n                },\\n                variance: function (lambda) {\\n                    return lambda;\\n                },\\n                standardDeviation: function (lambda) {\\n                    return numpy.sqrt(this.variance(lambda));\\n                },\\n                skewness: function (lambda) {\\n                    return lambda ** -0.5;\\n                },\\n                kurtosis: function (lambda) {\\n                    return 1 / lambda + 3;\\n                },\\n                median: function (lambda) {\\n                    return dists.poisson.measurements.ppf(0.5, lambda);\\n                },\\n                mode: function (lambda) {\\n                    return Math.floor(lambda);\\n                },\\n            },\\n        }']\n",
      "uniform.js\n",
      "['\\n    uniform: {\\n        measurements: {\\n            nonCentralMoments: function (k, a, b) {\\n                return undefined;\\n            },\\n            centralMoments: function (k, a, b) {\\n                return undefined;\\n            },\\n            stats: {\\n                mean: function (a, b) {\\n                    return (a + b) / 2;\\n                },\\n                variance: function (a, b) {\\n                    return ((b - a + 1) * (b - a + 1) - 1) / 12;\\n                },\\n                standardDeviation: function (a, b) {\\n                    return numpy.sqrt(this.variance(a, b));\\n                },\\n                skewness: function (a, b) {\\n                    return 0;\\n                },\\n                kurtosis: function (a, b) {\\n                    return ((-6 / 5) * ((b - a + 1) * (b - a + 1) + 1)) / ((b - a + 1) * (b - a + 1) - 1) + 3;\\n                },\\n                median: function (a, b) {\\n                    return dists.uniform.measurements.ppf(0.5, a, b);\\n                },\\n                mode: function (a, b) {\\n                    return undefined;\\n                },\\n            },\\n        }']\n"
     ]
    }
   ],
   "source": [
    "# Lista para almacenar las partes extraídas de cada archivo\n",
    "texto_final = \"const discreteDistributionsMeasurements = {\\n\"\n",
    "\n",
    "# Iterar a través de los archivos en el directorio\n",
    "for archivo in os.listdir(directorio):\n",
    "    print(archivo)\n",
    "    if archivo.endswith(\".js\"):  # Asegurarse de procesar solo archivos JavaScript\n",
    "        ruta_completa = os.path.join(directorio, archivo)\n",
    "        with open(ruta_completa, \"r\") as f:\n",
    "            contenido = f.read()\n",
    "            # Buscar el patrón en el contenido del archivo\n",
    "            coincidencias = re.findall(patron, contenido)\n",
    "            print(coincidencias)\n",
    "            if coincidencias:\n",
    "                parte_extraida = coincidencias[0]\n",
    "                # # Convertir la parte extraída en un diccionario válido\n",
    "                # parte_dict = ast.literal_eval(\"{\" + parte_extraida + \"}\")\n",
    "                texto_final += parte_extraida + \"\\n},\"\n"
   ]
  },
  {
   "cell_type": "code",
   "execution_count": 36,
   "metadata": {},
   "outputs": [],
   "source": [
    "def reemplazo_personalizado(match):\n",
    "    palabra = match.group(1)\n",
    "    return f\"discreteDistributions.{palabra}.ppf\"\n",
    "\n",
    "def reemplazo_personalizado_2(match):\n",
    "    variables = match.group(1)\n",
    "    return f\"return this.variance({variables}) !== undefined ? numpy.sqrt(this.variance({variables})!) : undefined;\"\n",
    "\n",
    "def reemplazo_personalizado_3(match):\n",
    "    variables = match.group(1)\n",
    "    return f\"this.standardDeviation({variables})!\""
   ]
  },
  {
   "cell_type": "code",
   "execution_count": 37,
   "metadata": {},
   "outputs": [
    {
     "data": {
      "text/plain": [
       "'const discreteDistributionsMeasurements = {\\n\\n    bernoulli: {\\n        measurements: {\\n            nonCentralMoments: function (k, p) {\\n                return undefined;\\n            },\\n            centralMoments: function (k, p) {\\n                return undefined;\\n            },\\n            stats: {\\n                mean: function (p) {\\n                    return p;\\n                },\\n                variance: function (p) {\\n                    return p*(1-p);\\n                },\\n                standardDeviation: function (p) {\\n                    return this.variance(p) !== undefined ? numpy.sqrt(this.variance(p)!) : undefined;\\n                },\\n                skewness: function (p) {\\n                    return (1-2*p)/numpy.sqrt(p*(1-p));\\n                },\\n                kurtosis: function (p) {\\n                    return (6*p*p-6*p+1)/(p*(1-p))+3;\\n                },\\n                median: function (p) {\\n                    return discreteDistributions.bernoulli.ppf(0.5, p);\\n                },\\n                mode: function (p) {\\n                    return p<0.5 ? 0 : 1;\\n                },\\n            },\\n        }\\n},\\n    binomial: {\\n        measurements: {\\n            nonCentralMoments: function (k, n, p) {\\n                return undefined;\\n            },\\n            centralMoments: function (k, n, p) {\\n                return undefined;\\n            },\\n            stats: {\\n                mean: function (n, p) {\\n                    return n * p;\\n                },\\n                variance: function (n, p) {\\n                    return n * p * (1 - p);\\n                },\\n                standardDeviation: function (n, p) {\\n                    return this.variance(n, p) !== undefined ? numpy.sqrt(this.variance(n, p)!) : undefined;\\n                },\\n                skewness: function (n, p) {\\n                    return (1 - p - p) / numpy.sqrt(n * p * (1 - p));\\n                },\\n                kurtosis: function (n, p) {\\n                    return (1 - 6 * p * (1 - p)) / (n * p * (1 - p)) + 3;\\n                },\\n                median: function (n, p) {\\n                    return discreteDistributions.binomial.ppf(0.5, n, p);\\n                },\\n                mode: function (n, p) {\\n                    return undefined;\\n                },\\n            },\\n        }\\n},\\n    geometric: {\\n        measurements: {\\n            nonCentralMoments: function (k, p) {\\n                return undefined;\\n            },\\n            centralMoments: function (k, p) {\\n                return undefined;\\n            },\\n            stats: {\\n                mean: function (p) {\\n                    return 1 / p;\\n                },\\n                variance: function (p) {\\n                    return (1 - p) / (p * p);\\n                },\\n                standardDeviation: function (p) {\\n                    return this.variance(p) !== undefined ? numpy.sqrt(this.variance(p)!) : undefined;\\n                },\\n                skewness: function (p) {\\n                    return (2 - p) / numpy.sqrt(1 - p);\\n                },\\n                kurtosis: function (p) {\\n                    return 3 + 6 + (p * p) / (1 - p);\\n                },\\n                median: function (p) {\\n                    return discreteDistributions.geometric.ppf(0.5, p);\\n                },\\n                mode: function (p) {\\n                    return 1.0;\\n                },\\n            },\\n        }\\n},\\n    hypergeometric: {\\n        measurements: {\\n            nonCentralMoments: function (k, N, K, n) {\\n                return undefined;\\n            },\\n            centralMoments: function (k, N, K, n) {\\n                return undefined;\\n            },\\n            stats: {\\n                mean: function (N, K, n) {\\n                    return n * K / N;\\n                },\\n                variance: function (N, K, n) {\\n                    return (n * K / N) * ((N - K) / N) * ((N - n) / (N - 1));\\n                },\\n                standardDeviation: function (N, K, n) {\\n                    return this.variance(N, K, n) !== undefined ? numpy.sqrt(this.variance(N, K, n)!) : undefined;\\n                },\\n                skewness: function (N, K, n) {\\n                    return ((N - 2 * K) * numpy.sqrt(N - 1) * (N - 2 * n)) / (numpy.sqrt(n * K * (N - K) * (N - n)) * (N - 2));\\n                },\\n                kurtosis: function (N, K, n) {\\n                    return 3 + (1 / (n * K * (N - K) * (N - n) * (N - 2) * (N - 3))) * ((N - 1) * N * N * (N * (N + 1) - 6 * K * (N - K) - 6 * n * (N - n)) + 6 * n * K * (N - K) * (N - n) * (5 * N - 6));\\n                },\\n                median: function (N, K, n) {\\n                    return discreteDistributions.hypergeometric.ppf(0.5, N, K, n);\\n                },\\n                mode: function (N, K, n) {\\n                    return Math.floor((n + 1) * (K + 1) / (N + 2));\\n                },\\n            },\\n        }\\n},\\n    logarithmic: {\\n        measurements: {\\n            nonCentralMoments: function (k, p) {\\n                return undefined;\\n            },\\n            centralMoments: function (k, p) {\\n                return undefined;\\n            },\\n            stats: {\\n                mean: function (p) {\\n                    return -p / ((1 - p) * numpy.log(1 - p));\\n                },\\n                variance: function (p) {\\n                    return (-p * (p + numpy.log(1 - p))) / ((1 - p) ** 2 * numpy.log(1 - p) ** 2);\\n                },\\n                standardDeviation: function (p) {\\n                    return this.variance(p) !== undefined ? numpy.sqrt(this.variance(p)!) : undefined;\\n                },\\n                skewness: function (p) {\\n                    return (\\n                        (-(2 * p ** 2 + 3 * p * numpy.log(1 - p) + (1 + p) * numpy.log(1 - p) ** 2) /\\n                            (numpy.log(1 - p) * (p + numpy.log(1 - p)) * numpy.sqrt(-p * (p + numpy.log(1 - p))))) *\\n                        numpy.log(1 - p)\\n                    );\\n                },\\n                kurtosis: function (p) {\\n                    return (\\n                        -(6 * p ** 3 + 12 * p ** 2 * numpy.log(1 - p) + p * (4 * p + 7) * numpy.log(1 - p) ** 2 + (p ** 2 + 4 * p + 1) * numpy.log(1 - p) ** 3) /\\n                        (p * (p + numpy.log(1 - p)) ** 2)\\n                    );\\n                },\\n                median: function (p) {\\n                    return discreteDistributions.logarithmic.ppf(0.5, p);\\n                },\\n                mode: function (p) {\\n                    return 1;\\n                },\\n            },\\n        }\\n},\\n    negative_binomial: {\\n        measurements: {\\n            nonCentralMoments: function (k, r, p) {\\n                return undefined;\\n            },\\n            centralMoments: function (k, r, p) {\\n                return undefined;\\n            },\\n            stats: {\\n                mean: function (r, p) {\\n                    return (r * (1 - p)) / p;\\n                },\\n                variance: function (r, p) {\\n                    return (r * (1 - p)) / (p * p);\\n                },\\n                standardDeviation: function (r, p) {\\n                    return this.variance(r, p) !== undefined ? numpy.sqrt(this.variance(r, p)!) : undefined;\\n                },\\n                skewness: function (r, p) {\\n                    return (2 - p) / numpy.sqrt(r * (1 - p));\\n                },\\n                kurtosis: function (r, p) {\\n                    return 6 / r + (p * p) / (r * (1 - p)) + 3;\\n                },\\n                median: function (r, p) {\\n                    return discreteDistributions.negative_binomial.ppf(0.5, r, p);\\n                },\\n                mode: function (r, p) {\\n                    return Math.floor(((r - 1) * (1 - p)) / p, 0);\\n                },\\n            },\\n        }\\n},\\n    poisson: {\\n        measurements: {\\n            nonCentralMoments: function (k, lambda) {\\n                return undefined;\\n            },\\n            centralMoments: function (k, lambda) {\\n                return undefined;\\n            },\\n            stats: {\\n                mean: function (lambda) {\\n                    return lambda;\\n                },\\n                variance: function (lambda) {\\n                    return lambda;\\n                },\\n                standardDeviation: function (lambda) {\\n                    return this.variance(lambda) !== undefined ? numpy.sqrt(this.variance(lambda)!) : undefined;\\n                },\\n                skewness: function (lambda) {\\n                    return lambda ** -0.5;\\n                },\\n                kurtosis: function (lambda) {\\n                    return 1 / lambda + 3;\\n                },\\n                median: function (lambda) {\\n                    return discreteDistributions.poisson.ppf(0.5, lambda);\\n                },\\n                mode: function (lambda) {\\n                    return Math.floor(lambda);\\n                },\\n            },\\n        }\\n},\\n    uniform: {\\n        measurements: {\\n            nonCentralMoments: function (k, a, b) {\\n                return undefined;\\n            },\\n            centralMoments: function (k, a, b) {\\n                return undefined;\\n            },\\n            stats: {\\n                mean: function (a, b) {\\n                    return (a + b) / 2;\\n                },\\n                variance: function (a, b) {\\n                    return ((b - a + 1) * (b - a + 1) - 1) / 12;\\n                },\\n                standardDeviation: function (a, b) {\\n                    return this.variance(a, b) !== undefined ? numpy.sqrt(this.variance(a, b)!) : undefined;\\n                },\\n                skewness: function (a, b) {\\n                    return 0;\\n                },\\n                kurtosis: function (a, b) {\\n                    return ((-6 / 5) * ((b - a + 1) * (b - a + 1) + 1)) / ((b - a + 1) * (b - a + 1) - 1) + 3;\\n                },\\n                median: function (a, b) {\\n                    return discreteDistributions.uniform.ppf(0.5, a, b);\\n                },\\n                mode: function (a, b) {\\n                    return undefined;\\n                },\\n            },\\n        }\\n},\\n};'"
      ]
     },
     "execution_count": 37,
     "metadata": {},
     "output_type": "execute_result"
    }
   ],
   "source": [
    "texto_final += \"\\n};\"\n",
    "texto_final = texto_final.replace(\"dists.\", \"discreteDistributionsMeasurements.\")\n",
    "texto_final = re.sub(r\"discreteDistributionsMeasurements\\.(\\w+)\\.measurements\\.ppf\", reemplazo_personalizado, texto_final)\n",
    "texto_final = re.sub(r\"return numpy.sqrt\\(this\\.variance\\((.*?)\\)\\);\", reemplazo_personalizado_2, texto_final)\n",
    "texto_final = re.sub(r\"this\\.standardDeviation\\((.*?)\\)\", reemplazo_personalizado_3, texto_final)\n",
    "texto_final = texto_final.replace(\"miu1\", \"miu1!\").replace(\"miu2\", \"miu2!\").replace(\"miu3\", \"miu3!\").replace(\"miu4\", \"miu4!\")\n",
    "texto_final = texto_final.replace(\"miu1! =\", \"miu1 =\").replace(\"miu2! =\", \"miu2 =\").replace(\"miu3! =\", \"miu3 =\").replace(\"miu4! =\", \"miu4 =\")\n",
    "texto_final = texto_final.replace(\"(t)\", \"(t: number)\")\n",
    "texto_final\n"
   ]
  },
  {
   "cell_type": "code",
   "execution_count": 38,
   "metadata": {},
   "outputs": [
    {
     "name": "stdout",
     "output_type": "stream",
     "text": [
      "Extracción y concatenación completadas.\n"
     ]
    }
   ],
   "source": [
    "# Guardar el resultado en un nuevo archivo\n",
    "archivo_salida = \"./discreteDistributionsMeasurements.ts\"\n",
    "with open(archivo_salida, \"w\") as f:\n",
    "    f.write(texto_final)\n",
    "\n",
    "print(\"Extracción y concatenación completadas.\")\n"
   ]
  }
 ],
 "metadata": {
  "kernelspec": {
   "display_name": "Python 3",
   "language": "python",
   "name": "python3"
  },
  "language_info": {
   "codemirror_mode": {
    "name": "ipython",
    "version": 3
   },
   "file_extension": ".py",
   "mimetype": "text/x-python",
   "name": "python",
   "nbconvert_exporter": "python",
   "pygments_lexer": "ipython3",
   "version": "3.10.10"
  },
  "orig_nbformat": 4
 },
 "nbformat": 4,
 "nbformat_minor": 2
}

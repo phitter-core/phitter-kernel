{
 "cells": [
  {
   "cell_type": "code",
   "execution_count": 42,
   "metadata": {},
   "outputs": [],
   "source": [
    "import openpyxl\n",
    "import openpyxl.styles\n",
    "import openpyxl.utils\n",
    "\n",
    "import openpyxl.worksheet.formula\n",
    "import re"
   ]
  },
  {
   "cell_type": "code",
   "execution_count": 43,
   "metadata": {},
   "outputs": [],
   "source": [
    "def obtener_maximo_valor_columna(workbook, num_hoja, letra_columna):\n",
    "    sheet = workbook[workbook.sheetnames[num_hoja]]\n",
    "    return max((c.row for c in sheet[letra_columna] if c.value is not None))"
   ]
  },
  {
   "cell_type": "code",
   "execution_count": 44,
   "metadata": {},
   "outputs": [],
   "source": [
    "file_name = \"beta.xlsx\"\n",
    "distribution_name = file_name.split(\".\")[0]"
   ]
  },
  {
   "cell_type": "code",
   "execution_count": 45,
   "metadata": {},
   "outputs": [],
   "source": [
    "workbook_template = openpyxl.load_workbook(f\"../excel-files/continuous/{file_name}\")\n",
    "sheet_0_template = workbook_template[workbook_template.sheetnames[0]]\n",
    "sheet_1_template = workbook_template[workbook_template.sheetnames[1]]\n",
    "sheet_2_template = workbook_template[workbook_template.sheetnames[2]]"
   ]
  },
  {
   "cell_type": "code",
   "execution_count": 46,
   "metadata": {},
   "outputs": [],
   "source": [
    "ppf_formula = sheet_0_template.cell(row=3, column=6).value\n",
    "pdf_formula = sheet_1_template.cell(row=3, column=6).value.text\n",
    "cdf_formula = sheet_2_template.cell(row=3, column=6).value.text\n",
    "\n",
    "mean_formula = sheet_0_template.cell(row=3, column=10).value\n",
    "variance_formula = sheet_0_template.cell(row=4, column=10).value\n",
    "standard_deviation_formula = sheet_0_template.cell(row=5, column=10).value\n",
    "skewness_formula = sheet_0_template.cell(row=6, column=10).value\n",
    "kurtosis_formula = sheet_0_template.cell(row=7, column=10).value\n",
    "median_formula = sheet_0_template.cell(row=8, column=10).value\n",
    "mode_formula = sheet_0_template.cell(row=9, column=10).value\n",
    "\n",
    "nc_µ1_formula = sheet_0_template.cell(row=4, column=13).value\n",
    "nc_µ2_formula = sheet_0_template.cell(row=5, column=13).value\n",
    "nc_µ3_formula = sheet_0_template.cell(row=6, column=13).value\n",
    "nc_µ4_formula = sheet_0_template.cell(row=7, column=13).value"
   ]
  },
  {
   "cell_type": "code",
   "execution_count": 104,
   "metadata": {},
   "outputs": [],
   "source": [
    "nc_µ4_formula"
   ]
  },
  {
   "cell_type": "code",
   "execution_count": 48,
   "metadata": {},
   "outputs": [],
   "source": [
    "n_params = obtener_maximo_valor_columna(workbook_template, 0, \"B\") - 2\n",
    "parameters = [sheet_0_template.cell(row=row, column=2).value for row in range(3, 3 + n_params)]"
   ]
  },
  {
   "cell_type": "code",
   "execution_count": 49,
   "metadata": {},
   "outputs": [
    {
     "data": {
      "text/plain": [
       "['alpha', 'beta', 'A', 'B']"
      ]
     },
     "execution_count": 49,
     "metadata": {},
     "output_type": "execute_result"
    }
   ],
   "source": [
    "parameters"
   ]
  },
  {
   "cell_type": "code",
   "execution_count": 102,
   "metadata": {},
   "outputs": [],
   "source": [
    "file = open(\"../continuousDistributions.ts\", \"r\", encoding='utf-8')\n",
    "\n",
    "# Patrón de expresión regular\n",
    "patron = r\"cdf: function\\s*\\((.*?)\\)\"\n",
    "\n",
    "d = {}\n",
    "for linea in file.readlines():\n",
    "    if len(linea) > 2:\n",
    "        if linea[-2] == \"{\" and \"function\" not in linea and \"else\" not in linea and \"if\" not in linea and \"const\" not in linea:\n",
    "            dist = linea.replace(\"\\n\", \"\").replace(\" \", \"\").replace(\":{\", \"\").replace(\"\\t\", \"\")\n",
    "    coincidencia = re.search(patron, linea)\n",
    "    if coincidencia:\n",
    "        argumentos = coincidencia.group(1).split(',')\n",
    "        argumentos = [arg.strip() for arg in argumentos]\n",
    "        argumentos = argumentos[1:]\n",
    "        # d[dist] = argumentos\n",
    "        d[dist] = dict(zip(argumentos, [f\"C{i+3}\" for i in range(len(argumentos))]))"
   ]
  },
  {
   "cell_type": "code",
   "execution_count": 103,
   "metadata": {},
   "outputs": [
    {
     "data": {
      "text/plain": [
       "{'alpha': {'alpha': 'C3', 'loc': 'C4', 'scale': 'C5'},\n",
       " 'arcsine': {'a': 'C3', 'b': 'C4'},\n",
       " 'argus': {'chi': 'C3', 'loc': 'C4', 'scale': 'C5'},\n",
       " 'beta': {'alpha': 'C3', 'beta': 'C4', 'A': 'C5', 'B': 'C6'},\n",
       " 'beta_prime': {'alpha': 'C3', 'beta': 'C4'},\n",
       " 'beta_prime_4p': {'alpha': 'C3', 'beta': 'C4', 'loc': 'C5', 'scale': 'C6'},\n",
       " 'bradford': {'c': 'C3', 'min': 'C4', 'max': 'C5'},\n",
       " 'burr': {'A': 'C3', 'B': 'C4', 'C': 'C5'},\n",
       " 'burr_4p': {'A': 'C3', 'B': 'C4', 'C': 'C5', 'loc': 'C6'},\n",
       " 'cauchy': {'x0': 'C3', 'gamma': 'C4'},\n",
       " 'chi_square': {'df': 'C3'},\n",
       " 'chi_square_3p': {'df': 'C3', 'loc': 'C4', 'scale': 'C5'},\n",
       " 'dagum': {'a': 'C3', 'b': 'C4', 'p': 'C5'},\n",
       " 'dagum_4p': {'a': 'C3', 'b': 'C4', 'p': 'C5', 'loc': 'C6'},\n",
       " 'erlang': {'k': 'C3', 'beta': 'C4'},\n",
       " 'erlang_3p': {'h': 'C3'},\n",
       " 'exponential': {'lambda': 'C3'},\n",
       " 'exponential_2p': {'lambda': 'C3', 'loc': 'C4'},\n",
       " 'f': {'df1': 'C3', 'df2': 'C4'},\n",
       " 'f_4p': {'gamma': 'C3', 'loc': 'C4', 'scale': 'C5'},\n",
       " 'folded_normal': {'miu': 'C3', 'sigma': 'C4'},\n",
       " 'frechet': {'alpha': 'C3', 'loc': 'C4', 'scale': 'C5'},\n",
       " 'gamma': {'alpha': 'C3', 'beta': 'C4'},\n",
       " 'gamma_3p': {'alpha': 'C3', 'beta': 'C4', 'loc': 'C5'},\n",
       " 'generalized_extreme_value': {'ξ': 'C3', 'miu': 'C4', 'sigma': 'C5'},\n",
       " 'generalized_gamma': {'a': 'C3', 'd': 'C4', 'p': 'C5'},\n",
       " 'generalized_gamma_4p': {'a': 'C3', 'd': 'C4', 'p': 'C5', 'loc': 'C6'},\n",
       " 'generalized_logistic': {'c': 'C3', 'loc': 'C4', 'scale': 'C5'},\n",
       " 'generalized_normal': {'miu': 'C3', 'alpha': 'C4', 'beta': 'C5'},\n",
       " 'generalized_pareto': {'c': 'C3', 'miu': 'C4', 'sigma': 'C5'},\n",
       " 'gibrat': {'loc': 'C3', 'scale': 'C4'},\n",
       " 'gumbel_left': {'miu': 'C3', 'sigma': 'C4'},\n",
       " 'gumbel_right': {'miu': 'C3', 'sigma': 'C4'},\n",
       " 'half_normal': {'miu': 'C3', 'sigma': 'C4'},\n",
       " 'hyperbolic_secant': {'miu': 'C3', 'sigma': 'C4'},\n",
       " 'inverse_gamma': {'alpha': 'C3', 'beta': 'C4'},\n",
       " 'inverse_gamma_3p': {'alpha': 'C3', 'beta': 'C4', 'loc': 'C5'},\n",
       " 'inverse_gaussian': {'miu': 'C3', 'lambda': 'C4'},\n",
       " 'inverse_gaussian_3p': {'miu': 'C3', 'lambda': 'C4', 'loc': 'C5'},\n",
       " 'johnson_sb': {'xi': 'C3', 'lambda': 'C4', 'gamma': 'C5', 'delta': 'C6'},\n",
       " 'johnson_su': {'xi': 'C3', 'lambda': 'C4', 'gamma': 'C5', 'delta': 'C6'},\n",
       " 'kumaraswamy': {'alpha': 'C3', 'beta': 'C4', 'min': 'C5', 'max': 'C6'},\n",
       " 'laplace': {'miu': 'C3', 'b': 'C4'},\n",
       " 'levy': {'miu': 'C3', 'c': 'C4'},\n",
       " 'loggamma': {'c': 'C3', 'miu': 'C4', 'sigma': 'C5'},\n",
       " 'logistic': {'miu': 'C3', 'sigma': 'C4'},\n",
       " 'loglogistic': {'alpha': 'C3', 'beta': 'C4'},\n",
       " 'loglogistic_3p': {'alpha': 'C3', 'beta': 'C4', 'loc': 'C5'},\n",
       " 'lognormal': {'miu': 'C3', 'sigma': 'C4'},\n",
       " 'maxwell': {'alpha': 'C3', 'loc': 'C4'},\n",
       " 'moyal': {'miu': 'C3', 'sigma': 'C4'},\n",
       " 'nakagami': {'m': 'C3', 'omega': 'C4'},\n",
       " 'NON_CENTRAL_CHI_SQUARE': {'lambda': 'C3', 'n': 'C4'},\n",
       " 'nc_f': {'lambda': 'C3', 'n1': 'C4', 'n2': 'C5'},\n",
       " 'NON_CENTRAL_T_STUDENT': {'lambda': 'C3', 'n': 'C4', 'loc': 'C5', 'scale': 'C6'},\n",
       " 'normal': {'miu': 'C3', 'sigma': 'C4'},\n",
       " 'pareto_first_kind': {'xm': 'C3', 'alpha': 'C4', 'loc': 'C5'},\n",
       " 'pareto_second_kind': {'xm': 'C3', 'alpha': 'C4', 'loc': 'C5'},\n",
       " 'pert': {'alpha': 'C3', 'a': 'C4', 'b': 'C5'},\n",
       " 'rayleigh': {'gamma': 'C3', 'sigma': 'C4'},\n",
       " 'reciprocal': {'a': 'C3', 'b': 'C4'},\n",
       " 'rice': {'v': 'C3', 'sigma': 'C4'},\n",
       " 'semicircular': {'loc': 'C3', 'R': 'C4'},\n",
       " 't_student': {'df': 'C3'},\n",
       " 't_student_3p': {'df': 'C3', 'loc': 'C4', 'scale': 'C5'},\n",
       " 'trapezoidal': {'a': 'C3', 'b': 'C4', 'c': 'C5', 'd': 'C6'},\n",
       " 'triangular': {'a': 'C3', 'b': 'C4'},\n",
       " 'weibull': {'alpha': 'C3', 'beta': 'C4'},\n",
       " 'weibull_3p': {'alpha': 'C3', 'beta': 'C4', 'loc': 'C5'}}"
      ]
     },
     "execution_count": 103,
     "metadata": {},
     "output_type": "execute_result"
    }
   ],
   "source": [
    "d"
   ]
  },
  {
   "cell_type": "code",
   "execution_count": null,
   "metadata": {},
   "outputs": [],
   "source": [
    "file = open(\"el_file.js\", \"w\")"
   ]
  },
  {
   "cell_type": "code",
   "execution_count": 26,
   "metadata": {},
   "outputs": [],
   "source": [
    "x = \"\"\"\n",
    "que es lo qie pasa\n",
    "te cocto en la terraza\n",
    "console.log(\"js\")\n",
    "\"\"\""
   ]
  },
  {
   "cell_type": "code",
   "execution_count": 27,
   "metadata": {},
   "outputs": [
    {
     "data": {
      "text/plain": [
       "59"
      ]
     },
     "execution_count": 27,
     "metadata": {},
     "output_type": "execute_result"
    }
   ],
   "source": [
    "file.write(x[1:-1])"
   ]
  },
  {
   "cell_type": "code",
   "execution_count": 28,
   "metadata": {},
   "outputs": [],
   "source": [
    "file.close()"
   ]
  }
 ],
 "metadata": {
  "kernelspec": {
   "display_name": "Python 3",
   "language": "python",
   "name": "python3"
  },
  "language_info": {
   "codemirror_mode": {
    "name": "ipython",
    "version": 3
   },
   "file_extension": ".py",
   "mimetype": "text/x-python",
   "name": "python",
   "nbconvert_exporter": "python",
   "pygments_lexer": "ipython3",
   "version": "3.10.10"
  },
  "orig_nbformat": 4
 },
 "nbformat": 4,
 "nbformat_minor": 2
}

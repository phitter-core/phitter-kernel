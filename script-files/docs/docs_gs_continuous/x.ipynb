{
 "cells": [
  {
   "cell_type": "code",
   "execution_count": 46,
   "metadata": {},
   "outputs": [],
   "source": [
    "import openpyxl\n",
    "import openpyxl.styles\n",
    "import openpyxl.utils\n",
    "\n",
    "import openpyxl.worksheet.formula\n",
    "import re"
   ]
  },
  {
   "cell_type": "code",
   "execution_count": 47,
   "metadata": {},
   "outputs": [],
   "source": [
    "file_name = \"bradford.xlsx\"\n",
    "distribution_name = file_name.split(\".\")[0]"
   ]
  },
  {
   "cell_type": "code",
   "execution_count": 48,
   "metadata": {},
   "outputs": [],
   "source": [
    "workbook_template = openpyxl.load_workbook(f\"../excel-files/{file_name}\")\n",
    "sheet_0_template = workbook_template[workbook_template.sheetnames[0]]\n",
    "sheet_1_template = workbook_template[workbook_template.sheetnames[1]]\n",
    "sheet_2_template = workbook_template[workbook_template.sheetnames[2]]"
   ]
  },
  {
   "cell_type": "code",
   "execution_count": 49,
   "metadata": {},
   "outputs": [],
   "source": [
    "def change_formula(formula: str | None):\n",
    "    if formula is None:\n",
    "        return None\n",
    "    cells = {\n",
    "        \"$C$3\": \"$D$6\",\n",
    "        \"$C$4\": \"$D$7\",\n",
    "        \"$C$5\": \"$D$8\",\n",
    "        \"$C$6\": \"$D$9\",\n",
    "        \"C3\": \"$D$6\",\n",
    "        \"C4\": \"$D$7\",\n",
    "        \"C5\": \"$D$8\",\n",
    "        \"C6\": \"$D$9\",\n",
    "        \"_xlfn.ANCHORARRAY(E3)\": \"G6\",\n",
    "        \"E3\": \"G6\",\n",
    "        \"M4\": \"$C$30\",\n",
    "        \"M5\": \"$C$31\",\n",
    "        \"M6\": \"$C$32\",\n",
    "        \"M7\": \"$C$33\",\n",
    "        \"L4\": \"B30\",\n",
    "        \"L5\": \"B31\",\n",
    "        \"L6\": \"B32\",\n",
    "        \"L7\": \"B33\",\n",
    "        \"J4\": \"$D$14\",\n",
    "    }\n",
    "    r = formula\n",
    "    for cell in cells.keys():\n",
    "        r = r.replace(cell, cells[cell])\n",
    "    return r"
   ]
  },
  {
   "cell_type": "code",
   "execution_count": 50,
   "metadata": {},
   "outputs": [],
   "source": [
    "ppf_formula = sheet_0_template.cell(row=3, column=6).value\n",
    "pdf_formula = sheet_1_template.cell(row=3, column=6).value.text\n",
    "cdf_formula = sheet_2_template.cell(row=3, column=6).value.text\n",
    "\n",
    "mean_formula = sheet_0_template.cell(row=3, column=10).value\n",
    "variance_formula = sheet_0_template.cell(row=4, column=10).value\n",
    "standard_deviation_formula = sheet_0_template.cell(row=5, column=10).value\n",
    "skewness_formula = sheet_0_template.cell(row=6, column=10).value\n",
    "kurtosis_formula = sheet_0_template.cell(row=7, column=10).value\n",
    "median_formula = sheet_0_template.cell(row=8, column=10).value\n",
    "mode_formula = sheet_0_template.cell(row=9, column=10).value\n",
    "\n",
    "nc_miu1_formula = sheet_0_template.cell(row=4, column=13).value\n",
    "nc_miu2_formula = sheet_0_template.cell(row=5, column=13).value\n",
    "nc_miu3_formula = sheet_0_template.cell(row=6, column=13).value\n",
    "nc_miu4_formula = sheet_0_template.cell(row=7, column=13).value\n"
   ]
  },
  {
   "cell_type": "code",
   "execution_count": 51,
   "metadata": {},
   "outputs": [],
   "source": [
    "if nc_miu1_formula is None:\n",
    "    workbook_file = openpyxl.load_workbook(\"./template_no_moments.xlsx\")\n",
    "else:\n",
    "    workbook_file = openpyxl.load_workbook(\"./template_moments.xlsx\")\n",
    "\n",
    "sheet_0_file = workbook_file[workbook_file.sheetnames[0]]\n",
    "sheet_1_file = workbook_file[workbook_file.sheetnames[1]]\n",
    "sheet_2_file = workbook_file[workbook_file.sheetnames[2]]\n",
    "sheet_3_file = workbook_file[workbook_file.sheetnames[3]]"
   ]
  },
  {
   "cell_type": "code",
   "execution_count": 52,
   "metadata": {},
   "outputs": [],
   "source": [
    "def obtener_maximo_valor_columna(workbook, num_hoja, letra_columna):\n",
    "    sheet = workbook[workbook.sheetnames[num_hoja]]\n",
    "    return max((c.row for c in sheet[letra_columna] if c.value is not None))"
   ]
  },
  {
   "cell_type": "code",
   "execution_count": 53,
   "metadata": {},
   "outputs": [],
   "source": [
    "n_params = obtener_maximo_valor_columna(workbook_template, 0, \"B\") - 2\n",
    "for row in range(3, 3 + n_params):\n",
    "    sheet_0_file.cell(row=row + 3, column=2).value = sheet_0_template.cell(row=row, column=2).value\n",
    "    sheet_0_file.cell(row=row + 3, column=3).value = \"R+\"\n",
    "    sheet_0_file.cell(row=row + 3, column=4).value = sheet_0_template.cell(row=row, column=3).value\n",
    "\n",
    "    # sheet_0_file.cell(row=row + 3, column=2).font = openpyxl.styles.Font(name=\"Roboto\", size=10)\n",
    "    # sheet_0_file.cell(row=row + 3, column=2).alignment = openpyxl.styles.Alignment(horizontal=\"center\")\n",
    "    # sheet_0_file.cell(row=row + 3, column=3).font = openpyxl.styles.Font(name=\"Roboto\", size=10, italic=True)\n",
    "    # sheet_0_file.cell(row=row + 3, column=3).alignment = openpyxl.styles.Alignment(horizontal=\"center\")\n",
    "    # sheet_0_file.cell(row=row + 3, column=4).font = openpyxl.styles.Font(name=\"Roboto\", size=10)\n",
    "    # sheet_0_file.cell(row=row + 3, column=4).alignment = openpyxl.styles.Alignment(horizontal=\"center\")\n"
   ]
  },
  {
   "cell_type": "code",
   "execution_count": 54,
   "metadata": {},
   "outputs": [],
   "source": [
    "for row in range(3, 3 + n_params):\n",
    "    for sheet_name in workbook_file.sheetnames[1:]:\n",
    "        sheet = workbook_file[sheet_name]\n",
    "        sheet.cell(row=row + 3, column=2).value = f\"='Random Generation'!B{row+3}\"\n",
    "        sheet.cell(row=row + 3, column=3).value = f\"='Random Generation'!C{row+3}\"\n",
    "        sheet.cell(row=row + 3, column=4).value = f\"='Random Generation'!D{row+3}\"\n",
    "\n",
    "        # sheet.cell(row=row + 3, column=2).font = openpyxl.styles.Font(name=\"Roboto\", size=10)\n",
    "        # sheet.cell(row=row + 3, column=2).alignment = openpyxl.styles.Alignment(horizontal=\"center\")\n",
    "        # sheet.cell(row=row + 3, column=3).font = openpyxl.styles.Font(name=\"Roboto\", size=10, italic=True)\n",
    "        # sheet.cell(row=row + 3, column=3).alignment = openpyxl.styles.Alignment(horizontal=\"center\")\n",
    "        # sheet.cell(row=row + 3, column=4).font = openpyxl.styles.Font(name=\"Roboto\", size=10)\n",
    "        # sheet.cell(row=row + 3, column=4).alignment = openpyxl.styles.Alignment(horizontal=\"center\")"
   ]
  },
  {
   "cell_type": "code",
   "execution_count": 55,
   "metadata": {},
   "outputs": [],
   "source": [
    "def integration_formula_replace(formula: str):\n",
    "    replacements = {\n",
    "        \"_xlfn.NORM.S.DIST\": \"DISTR.NORM.ESTAND.N\",\n",
    "        \"_xlfn.BETA.DIST\": \"DISTR.BETA.N\",\n",
    "        \"_xlfn.GAMMA\": \"GAMMA\",\n",
    "        \"SQRT\": \"RAIZ\",\n",
    "        \"_xlfn.LAMBDA\": \"LAMBDA\",\n",
    "        \"_xlfn.MAP\": \"MAP\",\n",
    "        \"_xlfn.T.DIST\": \"DISTR.T.N\",\n",
    "        \"TRUE\": \"VERDADERO\",\n",
    "        \"FALSE\": \"FALSO\",\n",
    "        \",\": \";\",\n",
    "        \"=\": \"\",\n",
    "        \"_xlfn.ANCHORARRAY(G6)\": \"x\",\n",
    "        \"G6\": \"x\",\n",
    "        \"_xlpm.x\": \"x\",\n",
    "        \"0.5\": \"0,5\",\n",
    "        \"1.5\": \"1,5\",\n",
    "        \"IF\": \"SI\",\n",
    "        \"GAMMALN\": \"GAMMA.LN\"\n",
    "    }\n",
    "    regex = re.compile(\"(%s)\" % \"|\".join(map(re.escape, replacements.keys())))\n",
    "    return regex.sub(lambda mo: replacements[mo.string[mo.start():mo.end()]], formula) "
   ]
  },
  {
   "cell_type": "code",
   "execution_count": 56,
   "metadata": {},
   "outputs": [],
   "source": [
    "parameters = [sheet_0_template.cell(row=row, column=2).value for row in range(3, 3 + n_params)]"
   ]
  },
  {
   "cell_type": "code",
   "execution_count": 57,
   "metadata": {},
   "outputs": [],
   "source": [
    "def snake_to_pascal(snake_str):\n",
    "    components = snake_str.split(\"_\")\n",
    "    pascal_str = \"\".join(x.title() for x in components)\n",
    "    return pascal_str\n"
   ]
  },
  {
   "cell_type": "code",
   "execution_count": 58,
   "metadata": {},
   "outputs": [],
   "source": [
    "DISTRIBUTION_NOTATION = f\"X~{snake_to_pascal(distribution_name)}({','.join(parameters)})\""
   ]
  },
  {
   "cell_type": "code",
   "execution_count": 59,
   "metadata": {},
   "outputs": [],
   "source": [
    "sheet_0_file[\"H6\"].value = change_formula(ppf_formula)\n",
    "sheet_1_file[\"H6\"].value = change_formula(pdf_formula)\n",
    "sheet_2_file[\"H6\"].value = change_formula(cdf_formula)\n",
    "sheet_3_file[\"I6\"].value = change_formula(ppf_formula).replace(\"G6\", \"H6\")\n",
    "sheet_0_file[\"D13\"].value = change_formula(mean_formula)\n",
    "sheet_0_file[\"D14\"].value = change_formula(variance_formula)\n",
    "sheet_0_file[\"D15\"].value = change_formula(standard_deviation_formula)\n",
    "sheet_0_file[\"D16\"].value = change_formula(skewness_formula)\n",
    "sheet_0_file[\"D17\"].value = change_formula(kurtosis_formula)\n",
    "sheet_0_file[\"D18\"].value = change_formula(median_formula)\n",
    "sheet_0_file[\"D19\"].value = change_formula(mode_formula)\n",
    "\n",
    "if nc_miu1_formula is None:\n",
    "    sheet_0_file[\"C30\"].value = f\"INTEGRATION_QUAD(LAMBDA(x;(x^B30)*({integration_formula_replace(change_formula(pdf_formula))}));MIN(H6:H10005);MAX(H6:H10005))\"\n",
    "    sheet_0_file[\"C31\"].value = f\"INTEGRATION_QUAD(LAMBDA(x;(x^B31)*({integration_formula_replace(change_formula(pdf_formula))}));MIN(H6:H10005);MAX(H6:H10005))\"\n",
    "    sheet_0_file[\"C32\"].value = f\"INTEGRATION_QUAD(LAMBDA(x;(x^B32)*({integration_formula_replace(change_formula(pdf_formula))}));MIN(H6:H10005);MAX(H6:H10005))\"\n",
    "    sheet_0_file[\"C33\"].value = f\"INTEGRATION_QUAD(LAMBDA(x;(x^B33)*({integration_formula_replace(change_formula(pdf_formula))}));MIN(H6:H10005);MAX(H6:H10005))\"\n",
    "else:\n",
    "    sheet_0_file[\"C30\"].value = change_formula(nc_miu1_formula)\n",
    "    sheet_0_file[\"C31\"].value = change_formula(nc_miu2_formula)\n",
    "    sheet_0_file[\"C32\"].value = change_formula(nc_miu3_formula)\n",
    "    sheet_0_file[\"C33\"].value = change_formula(nc_miu4_formula)\n",
    "\n",
    "sheet_0_file[\"H5\"].value = DISTRIBUTION_NOTATION\n",
    "sheet_1_file[\"G5\"].value = DISTRIBUTION_NOTATION\n",
    "sheet_2_file[\"G5\"].value = DISTRIBUTION_NOTATION\n",
    "sheet_3_file[\"G5\"].value = DISTRIBUTION_NOTATION\n",
    "\n",
    "sheet_0_file[\"F4\"].value = sheet_0_file[\"F4\"].value.replace(\"[D]\", distribution_name.upper().replace(\"_\", \" \"))\n",
    "sheet_1_file[\"F4\"].value = sheet_0_file[\"F4\"].value.replace(\"[D]\", distribution_name.upper().replace(\"_\", \" \"))\n",
    "sheet_2_file[\"F4\"].value = sheet_0_file[\"F4\"].value.replace(\"[D]\", distribution_name.upper().replace(\"_\", \" \"))\n",
    "sheet_3_file[\"F4\"].value = sheet_0_file[\"F4\"].value.replace(\"[D]\", distribution_name.upper().replace(\"_\", \" \"))\n",
    "\n",
    "# sheet_2_file[\"I6\"].value = \"=F6/COUNT($F$6:$F$10005)\"\n",
    "# sheet_3_file[\"H6\"].value = \"=(F6-1/2)/COUNT($F$6:$F$10005)\"\n",
    "\n",
    "sheet_1_file[\"G6\"].value = \"'=SORT('Random Generation'!H6:H10005)\"\n",
    "sheet_2_file[\"G6\"].value = \"'=SORT('Random Generation'!H6:H10005)\"\n",
    "sheet_3_file[\"G6\"].value = \"'=SORT('Random Generation'!H6:H10005)\""
   ]
  },
  {
   "cell_type": "code",
   "execution_count": 60,
   "metadata": {},
   "outputs": [],
   "source": [
    "workbook_file.save(f\"./{file_name}\")"
   ]
  }
 ],
 "metadata": {
  "kernelspec": {
   "display_name": "Python 3",
   "language": "python",
   "name": "python3"
  },
  "language_info": {
   "codemirror_mode": {
    "name": "ipython",
    "version": 3
   },
   "file_extension": ".py",
   "mimetype": "text/x-python",
   "name": "python",
   "nbconvert_exporter": "python",
   "pygments_lexer": "ipython3",
   "version": "3.10.10"
  },
  "orig_nbformat": 4
 },
 "nbformat": 4,
 "nbformat_minor": 2
}

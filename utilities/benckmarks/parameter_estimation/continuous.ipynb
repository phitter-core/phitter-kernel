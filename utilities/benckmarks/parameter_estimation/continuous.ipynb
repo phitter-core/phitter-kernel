{
 "cells": [
  {
   "cell_type": "markdown",
   "metadata": {},
   "source": [
    "<a target=\"_blank\" href=\"https://colab.research.google.com/github/phitterio/phitter-kernel/blob/main/utilities/benchmarks/parameter_estimation/continuous.ipynb\">\n",
    "  <img src=\"https://colab.research.google.com/assets/colab-badge.svg\" alt=\"Open In Colab\"/>\n",
    "</a>\n"
   ]
  },
  {
   "cell_type": "code",
   "execution_count": 1,
   "metadata": {},
   "outputs": [],
   "source": [
    "import pandas\n",
    "import time\n",
    "import os\n",
    "import sys"
   ]
  },
  {
   "cell_type": "code",
   "execution_count": 2,
   "metadata": {},
   "outputs": [],
   "source": [
    "if os.getenv(\"COLAB_RELEASE_TAG\"):\n",
    "   !pip install phitter --quiet\n",
    "else:\n",
    "   sys.path.append(\"../../../\")"
   ]
  },
  {
   "cell_type": "code",
   "execution_count": 3,
   "metadata": {},
   "outputs": [],
   "source": [
    "import phitter"
   ]
  },
  {
   "cell_type": "code",
   "execution_count": 4,
   "metadata": {},
   "outputs": [],
   "source": [
    "df_estimation_time = pandas.DataFrame()"
   ]
  },
  {
   "cell_type": "code",
   "execution_count": 5,
   "metadata": {},
   "outputs": [],
   "source": [
    "SAMPLE_SIZES = [100, 1000, 10000, 100000, 500000, 1000000]"
   ]
  },
  {
   "cell_type": "code",
   "execution_count": 6,
   "metadata": {},
   "outputs": [],
   "source": [
    "for distribution_name, distribution_class in phitter.continuous.ALL_CONTINUOUS_DISTRIBUTIONS.items():\n",
    "    for size in SAMPLE_SIZES:\n",
    "        sample = distribution_class(init_parameters_examples=True).sample(size)\n",
    "        continuous_measures = phitter.continuous.CONTINUOUS_MEASURES(sample)\n",
    "        ti = time.time()\n",
    "        distribution = distribution_class(continuous_measures)\n",
    "        tf = time.time() - ti\n",
    "        df_estimation_time.loc[distribution_name, size] = tf"
   ]
  },
  {
   "cell_type": "code",
   "execution_count": 7,
   "metadata": {},
   "outputs": [
    {
     "data": {
      "text/html": [
       "<div>\n",
       "<style scoped>\n",
       "    .dataframe tbody tr th:only-of-type {\n",
       "        vertical-align: middle;\n",
       "    }\n",
       "\n",
       "    .dataframe tbody tr th {\n",
       "        vertical-align: top;\n",
       "    }\n",
       "\n",
       "    .dataframe thead th {\n",
       "        text-align: right;\n",
       "    }\n",
       "</style>\n",
       "<table border=\"1\" class=\"dataframe\">\n",
       "  <thead>\n",
       "    <tr style=\"text-align: right;\">\n",
       "      <th></th>\n",
       "      <th>100</th>\n",
       "      <th>1000</th>\n",
       "      <th>10000</th>\n",
       "    </tr>\n",
       "  </thead>\n",
       "  <tbody>\n",
       "    <tr>\n",
       "      <th>alpha</th>\n",
       "      <td>0.069760</td>\n",
       "      <td>0.161597</td>\n",
       "      <td>0.201692</td>\n",
       "    </tr>\n",
       "    <tr>\n",
       "      <th>arcsine</th>\n",
       "      <td>0.000000</td>\n",
       "      <td>0.000000</td>\n",
       "      <td>0.000000</td>\n",
       "    </tr>\n",
       "    <tr>\n",
       "      <th>argus</th>\n",
       "      <td>0.067786</td>\n",
       "      <td>0.058949</td>\n",
       "      <td>0.082114</td>\n",
       "    </tr>\n",
       "    <tr>\n",
       "      <th>beta</th>\n",
       "      <td>0.047119</td>\n",
       "      <td>0.212288</td>\n",
       "      <td>0.194967</td>\n",
       "    </tr>\n",
       "    <tr>\n",
       "      <th>beta_prime</th>\n",
       "      <td>0.083478</td>\n",
       "      <td>0.163093</td>\n",
       "      <td>0.760968</td>\n",
       "    </tr>\n",
       "    <tr>\n",
       "      <th>...</th>\n",
       "      <td>...</td>\n",
       "      <td>...</td>\n",
       "      <td>...</td>\n",
       "    </tr>\n",
       "    <tr>\n",
       "      <th>t_student</th>\n",
       "      <td>0.000000</td>\n",
       "      <td>0.000000</td>\n",
       "      <td>0.000000</td>\n",
       "    </tr>\n",
       "    <tr>\n",
       "      <th>t_student_3p</th>\n",
       "      <td>0.287194</td>\n",
       "      <td>0.404932</td>\n",
       "      <td>1.394736</td>\n",
       "    </tr>\n",
       "    <tr>\n",
       "      <th>uniform</th>\n",
       "      <td>0.000000</td>\n",
       "      <td>0.000000</td>\n",
       "      <td>0.000000</td>\n",
       "    </tr>\n",
       "    <tr>\n",
       "      <th>weibull</th>\n",
       "      <td>0.000000</td>\n",
       "      <td>0.001000</td>\n",
       "      <td>0.001000</td>\n",
       "    </tr>\n",
       "    <tr>\n",
       "      <th>weibull_3p</th>\n",
       "      <td>0.007357</td>\n",
       "      <td>0.005900</td>\n",
       "      <td>0.005180</td>\n",
       "    </tr>\n",
       "  </tbody>\n",
       "</table>\n",
       "<p>73 rows × 3 columns</p>\n",
       "</div>"
      ],
      "text/plain": [
       "                 100       1000      10000\n",
       "alpha         0.069760  0.161597  0.201692\n",
       "arcsine       0.000000  0.000000  0.000000\n",
       "argus         0.067786  0.058949  0.082114\n",
       "beta          0.047119  0.212288  0.194967\n",
       "beta_prime    0.083478  0.163093  0.760968\n",
       "...                ...       ...       ...\n",
       "t_student     0.000000  0.000000  0.000000\n",
       "t_student_3p  0.287194  0.404932  1.394736\n",
       "uniform       0.000000  0.000000  0.000000\n",
       "weibull       0.000000  0.001000  0.001000\n",
       "weibull_3p    0.007357  0.005900  0.005180\n",
       "\n",
       "[73 rows x 3 columns]"
      ]
     },
     "execution_count": 7,
     "metadata": {},
     "output_type": "execute_result"
    }
   ],
   "source": [
    "df_estimation_time"
   ]
  },
  {
   "cell_type": "code",
   "execution_count": 8,
   "metadata": {},
   "outputs": [
    {
     "name": "stdout",
     "output_type": "stream",
     "text": [
      "<class 'pandas.core.frame.DataFrame'>\n",
      "Index: 73 entries, alpha to weibull_3p\n",
      "Data columns (total 3 columns):\n",
      " #   Column  Non-Null Count  Dtype  \n",
      "---  ------  --------------  -----  \n",
      " 0   100     73 non-null     float64\n",
      " 1   1000    73 non-null     float64\n",
      " 2   10000   73 non-null     float64\n",
      "dtypes: float64(3)\n",
      "memory usage: 4.3+ KB\n"
     ]
    }
   ],
   "source": [
    "df_estimation_time.info()"
   ]
  },
  {
   "cell_type": "code",
   "execution_count": 9,
   "metadata": {},
   "outputs": [
    {
     "name": "stdout",
     "output_type": "stream",
     "text": [
      "|                           |    100 |   1000 |   10000 |\n",
      "|:--------------------------|-------:|-------:|--------:|\n",
      "| alpha                     | 0.0698 | 0.1616 |  0.2017 |\n",
      "| arcsine                   | 0.0000 | 0.0000 |  0.0000 |\n",
      "| argus                     | 0.0678 | 0.0589 |  0.0821 |\n",
      "| beta                      | 0.0471 | 0.2123 |  0.1950 |\n",
      "| beta_prime                | 0.0835 | 0.1631 |  0.7610 |\n",
      "| beta_prime_4p             | 0.0499 | 0.0784 |  0.3798 |\n",
      "| bradford                  | 0.0000 | 0.0000 |  0.0000 |\n",
      "| burr                      | 0.1053 | 0.1693 |  0.9314 |\n",
      "| burr_4p                   | 0.0932 | 0.1870 |  0.9982 |\n",
      "| cauchy                    | 0.0105 | 0.0090 |  0.0389 |\n",
      "| chi_square                | 0.0000 | 0.0000 |  0.0000 |\n",
      "| chi_square_3p             | 0.0290 | 0.0384 |  0.2572 |\n",
      "| dagum                     | 0.3342 | 0.2159 |  1.0771 |\n",
      "| dagum_4p                  | 0.2336 | 0.3321 |  1.8844 |\n",
      "| erlang                    | 0.0000 | 0.0000 |  0.0000 |\n",
      "| erlang_3p                 | 0.0000 | 0.0000 |  0.0000 |\n",
      "| error_function            | 0.0000 | 0.0000 |  0.0000 |\n",
      "| exponential               | 0.0000 | 0.0000 |  0.0000 |\n",
      "| exponential_2p            | 0.0000 | 0.0000 |  0.0000 |\n",
      "| f                         | 0.0649 | 0.0841 |  0.2810 |\n",
      "| fatigue_life              | 0.0441 | 0.0726 |  0.1670 |\n",
      "| folded_normal             | 0.0030 | 0.0020 |  0.0020 |\n",
      "| frechet                   | 0.0392 | 0.1176 |  0.8619 |\n",
      "| f_4p                      | 0.7264 | 0.5511 |  0.8751 |\n",
      "| gamma                     | 0.0000 | 0.0000 |  0.0000 |\n",
      "| gamma_3p                  | 0.0000 | 0.0000 |  0.0000 |\n",
      "| generalized_extreme_value | 0.0629 | 0.0722 |  0.2093 |\n",
      "| generalized_gamma         | 0.0320 | 0.0254 |  0.0312 |\n",
      "| generalized_gamma_4p      | 0.0135 | 0.0085 |  0.0183 |\n",
      "| generalized_logistic      | 0.1085 | 0.1418 |  0.1118 |\n",
      "| generalized_normal        | 0.0172 | 0.0245 |  0.1171 |\n",
      "| generalized_pareto        | 0.2368 | 0.3113 |  0.7634 |\n",
      "| gibrat                    | 0.0329 | 0.0647 |  0.0456 |\n",
      "| gumbel_left               | 0.0000 | 0.0000 |  0.0000 |\n",
      "| gumbel_right              | 0.0000 | 0.0010 |  0.0000 |\n",
      "| half_normal               | 0.0000 | 0.0000 |  0.0000 |\n",
      "| hyperbolic_secant         | 0.0000 | 0.0000 |  0.0000 |\n",
      "| inverse_gamma             | 0.0279 | 0.0294 |  0.1006 |\n",
      "| inverse_gamma_3p          | 0.0540 | 0.0660 |  0.1840 |\n",
      "| inverse_gaussian          | 0.0000 | 0.0000 |  0.0000 |\n",
      "| inverse_gaussian_3p       | 0.0000 | 0.0000 |  0.0000 |\n",
      "| johnson_sb                | 0.2781 | 0.3172 |  1.0246 |\n",
      "| johnson_su                | 0.0063 | 0.0061 |  0.0010 |\n",
      "| kumaraswamy               | 0.0128 | 0.0162 |  0.0149 |\n",
      "| laplace                   | 0.0000 | 0.0000 |  0.0000 |\n",
      "| levy                      | 0.0087 | 0.0084 |  0.0166 |\n",
      "| loggamma                  | 0.0101 | 0.0075 |  0.0060 |\n",
      "| logistic                  | 0.0000 | 0.0003 |  0.0000 |\n",
      "| loglogistic               | 0.0295 | 0.1036 |  0.3807 |\n",
      "| loglogistic_3p            | 0.1435 | 0.1998 |  1.1451 |\n",
      "| lognormal                 | 0.0000 | 0.0000 |  0.0000 |\n",
      "| maxwell                   | 0.0000 | 0.0000 |  0.0000 |\n",
      "| moyal                     | 0.0000 | 0.0000 |  0.0000 |\n",
      "| nakagami                  | 0.0000 | 0.0000 |  0.0030 |\n",
      "| non_central_chi_square    | 0.0000 | 0.0000 |  0.0000 |\n",
      "| non_central_f             | 0.0267 | 0.0210 |  0.0292 |\n",
      "| non_central_t_student     | 0.2584 | 0.2283 |  0.3118 |\n",
      "| normal                    | 0.0000 | 0.0000 |  0.0000 |\n",
      "| pareto_first_kind         | 0.0010 | 0.0010 |  0.0040 |\n",
      "| pareto_second_kind        | 0.0821 | 0.1276 |  0.2173 |\n",
      "| pert                      | 0.0076 | 0.0051 |  0.0068 |\n",
      "| power_function            | 0.0041 | 0.0038 |  0.0049 |\n",
      "| rayleigh                  | 0.0000 | 0.0000 |  0.0000 |\n",
      "| reciprocal                | 0.0000 | 0.0000 |  0.0000 |\n",
      "| rice                      | 0.0020 | 0.0052 |  0.0051 |\n",
      "| semicircular              | 0.0000 | 0.0000 |  0.0000 |\n",
      "| trapezoidal               | 0.0124 | 0.0066 |  0.0114 |\n",
      "| triangular                | 0.0000 | 0.0000 |  0.0000 |\n",
      "| t_student                 | 0.0000 | 0.0000 |  0.0000 |\n",
      "| t_student_3p              | 0.2872 | 0.4049 |  1.3947 |\n",
      "| uniform                   | 0.0000 | 0.0000 |  0.0000 |\n",
      "| weibull                   | 0.0000 | 0.0010 |  0.0010 |\n",
      "| weibull_3p                | 0.0074 | 0.0059 |  0.0052 |\n"
     ]
    }
   ],
   "source": [
    "print(df_estimation_time.to_markdown(floatfmt=\".4f\"))"
   ]
  }
 ],
 "metadata": {
  "kernelspec": {
   "display_name": "Python 3",
   "language": "python",
   "name": "python3"
  },
  "language_info": {
   "codemirror_mode": {
    "name": "ipython",
    "version": 3
   },
   "file_extension": ".py",
   "mimetype": "text/x-python",
   "name": "python",
   "nbconvert_exporter": "python",
   "pygments_lexer": "ipython3",
   "version": "3.10.10"
  }
 },
 "nbformat": 4,
 "nbformat_minor": 2
}

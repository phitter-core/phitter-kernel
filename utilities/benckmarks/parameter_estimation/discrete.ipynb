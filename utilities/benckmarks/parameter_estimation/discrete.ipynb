{
 "cells": [
  {
   "cell_type": "markdown",
   "metadata": {},
   "source": [
    "<a target=\"_blank\" href=\"https://colab.research.google.com/github/phitterio/phitter-kernel/blob/main/utilities/benchmarks/parameter_estimation/discrete.ipynb\">\n",
    "  <img src=\"https://colab.research.google.com/assets/colab-badge.svg\" alt=\"Open In Colab\"/>\n",
    "</a>\n",
    "\n"
   ]
  },
  {
   "cell_type": "code",
   "execution_count": 1,
   "metadata": {},
   "outputs": [],
   "source": [
    "import pandas\n",
    "import time\n",
    "import os\n",
    "import sys"
   ]
  },
  {
   "cell_type": "code",
   "execution_count": 2,
   "metadata": {},
   "outputs": [],
   "source": [
    "if os.getenv(\"COLAB_RELEASE_TAG\"):\n",
    "   !pip install phitter --quiet\n",
    "else:\n",
    "   sys.path.append(\"../../../\")"
   ]
  },
  {
   "cell_type": "code",
   "execution_count": 3,
   "metadata": {},
   "outputs": [],
   "source": [
    "import phitter"
   ]
  },
  {
   "cell_type": "code",
   "execution_count": 4,
   "metadata": {},
   "outputs": [],
   "source": [
    "df_estimation_time = pandas.DataFrame()"
   ]
  },
  {
   "cell_type": "code",
   "execution_count": 5,
   "metadata": {},
   "outputs": [],
   "source": [
    "SAMPLE_SIZES = [100, 1000, 10000, 100000, 500000, 1000000]"
   ]
  },
  {
   "cell_type": "code",
   "execution_count": 6,
   "metadata": {},
   "outputs": [],
   "source": [
    "for distribution_name, distribution_class in phitter.discrete.ALL_DISCRETE_DISTRIBUTIONS.items():\n",
    "    for size in SAMPLE_SIZES:\n",
    "        sample = distribution_class(init_parameters_examples=True).sample(size)\n",
    "        discrete_measures = phitter.discrete.DISCRETE_MEASURES(sample)\n",
    "        ti = time.time()\n",
    "        distribution = distribution_class(discrete_measures)\n",
    "        tf = time.time() - ti\n",
    "        df_estimation_time.loc[distribution_name, size] = tf"
   ]
  },
  {
   "cell_type": "code",
   "execution_count": 7,
   "metadata": {},
   "outputs": [
    {
     "data": {
      "text/html": [
       "<div>\n",
       "<style scoped>\n",
       "    .dataframe tbody tr th:only-of-type {\n",
       "        vertical-align: middle;\n",
       "    }\n",
       "\n",
       "    .dataframe tbody tr th {\n",
       "        vertical-align: top;\n",
       "    }\n",
       "\n",
       "    .dataframe thead th {\n",
       "        text-align: right;\n",
       "    }\n",
       "</style>\n",
       "<table border=\"1\" class=\"dataframe\">\n",
       "  <thead>\n",
       "    <tr style=\"text-align: right;\">\n",
       "      <th></th>\n",
       "      <th>100</th>\n",
       "      <th>1000</th>\n",
       "      <th>10000</th>\n",
       "      <th>100000</th>\n",
       "      <th>500000</th>\n",
       "      <th>1000000</th>\n",
       "    </tr>\n",
       "  </thead>\n",
       "  <tbody>\n",
       "    <tr>\n",
       "      <th>bernoulli</th>\n",
       "      <td>0.0000</td>\n",
       "      <td>0.0000</td>\n",
       "      <td>0.0000</td>\n",
       "      <td>0.0000</td>\n",
       "      <td>0.0000</td>\n",
       "      <td>0.0000</td>\n",
       "    </tr>\n",
       "    <tr>\n",
       "      <th>binomial</th>\n",
       "      <td>0.0000</td>\n",
       "      <td>0.0000</td>\n",
       "      <td>0.0000</td>\n",
       "      <td>0.0000</td>\n",
       "      <td>0.0000</td>\n",
       "      <td>0.0000</td>\n",
       "    </tr>\n",
       "    <tr>\n",
       "      <th>geometric</th>\n",
       "      <td>0.0000</td>\n",
       "      <td>0.0000</td>\n",
       "      <td>0.0000</td>\n",
       "      <td>0.0000</td>\n",
       "      <td>0.0000</td>\n",
       "      <td>0.0000</td>\n",
       "    </tr>\n",
       "    <tr>\n",
       "      <th>hypergeometric</th>\n",
       "      <td>0.0050</td>\n",
       "      <td>0.0043</td>\n",
       "      <td>0.0035</td>\n",
       "      <td>0.0048</td>\n",
       "      <td>0.0050</td>\n",
       "      <td>0.0030</td>\n",
       "    </tr>\n",
       "    <tr>\n",
       "      <th>logarithmic</th>\n",
       "      <td>0.0030</td>\n",
       "      <td>0.0030</td>\n",
       "      <td>0.0045</td>\n",
       "      <td>0.0041</td>\n",
       "      <td>0.0030</td>\n",
       "      <td>0.0030</td>\n",
       "    </tr>\n",
       "    <tr>\n",
       "      <th>negative_binomial</th>\n",
       "      <td>0.0000</td>\n",
       "      <td>0.0000</td>\n",
       "      <td>0.0000</td>\n",
       "      <td>0.0000</td>\n",
       "      <td>0.0000</td>\n",
       "      <td>0.0000</td>\n",
       "    </tr>\n",
       "    <tr>\n",
       "      <th>poisson</th>\n",
       "      <td>0.0000</td>\n",
       "      <td>0.0000</td>\n",
       "      <td>0.0000</td>\n",
       "      <td>0.0000</td>\n",
       "      <td>0.0000</td>\n",
       "      <td>0.0000</td>\n",
       "    </tr>\n",
       "    <tr>\n",
       "      <th>uniform</th>\n",
       "      <td>0.0000</td>\n",
       "      <td>0.0000</td>\n",
       "      <td>0.0000</td>\n",
       "      <td>0.0000</td>\n",
       "      <td>0.0000</td>\n",
       "      <td>0.0000</td>\n",
       "    </tr>\n",
       "  </tbody>\n",
       "</table>\n",
       "</div>"
      ],
      "text/plain": [
       "                  100     1000    10000   100000  500000  1000000\n",
       "bernoulli          0.0000  0.0000  0.0000  0.0000  0.0000  0.0000\n",
       "binomial           0.0000  0.0000  0.0000  0.0000  0.0000  0.0000\n",
       "geometric          0.0000  0.0000  0.0000  0.0000  0.0000  0.0000\n",
       "hypergeometric     0.0050  0.0043  0.0035  0.0048  0.0050  0.0030\n",
       "logarithmic        0.0030  0.0030  0.0045  0.0041  0.0030  0.0030\n",
       "negative_binomial  0.0000  0.0000  0.0000  0.0000  0.0000  0.0000\n",
       "poisson            0.0000  0.0000  0.0000  0.0000  0.0000  0.0000\n",
       "uniform            0.0000  0.0000  0.0000  0.0000  0.0000  0.0000"
      ]
     },
     "execution_count": 7,
     "metadata": {},
     "output_type": "execute_result"
    }
   ],
   "source": [
    "df_estimation_time"
   ]
  },
  {
   "cell_type": "code",
   "execution_count": 8,
   "metadata": {},
   "outputs": [
    {
     "name": "stdout",
     "output_type": "stream",
     "text": [
      "|                   |    100 |   1000 |   10000 |   100000 |   500000 |   1000000 |\n",
      "|:------------------|-------:|-------:|--------:|---------:|---------:|----------:|\n",
      "| bernoulli         | 0.0000 | 0.0000 |  0.0000 |   0.0000 |   0.0000 |    0.0000 |\n",
      "| binomial          | 0.0000 | 0.0000 |  0.0000 |   0.0000 |   0.0000 |    0.0000 |\n",
      "| geometric         | 0.0000 | 0.0000 |  0.0000 |   0.0000 |   0.0000 |    0.0000 |\n",
      "| hypergeometric    | 0.0050 | 0.0043 |  0.0035 |   0.0048 |   0.0050 |    0.0030 |\n",
      "| logarithmic       | 0.0030 | 0.0030 |  0.0045 |   0.0041 |   0.0030 |    0.0030 |\n",
      "| negative_binomial | 0.0000 | 0.0000 |  0.0000 |   0.0000 |   0.0000 |    0.0000 |\n",
      "| poisson           | 0.0000 | 0.0000 |  0.0000 |   0.0000 |   0.0000 |    0.0000 |\n",
      "| uniform           | 0.0000 | 0.0000 |  0.0000 |   0.0000 |   0.0000 |    0.0000 |\n"
     ]
    }
   ],
   "source": [
    "print(df_estimation_time.to_markdown(floatfmt=\".4f\"))"
   ]
  }
 ],
 "metadata": {
  "kernelspec": {
   "display_name": "Python 3",
   "language": "python",
   "name": "python3"
  },
  "language_info": {
   "codemirror_mode": {
    "name": "ipython",
    "version": 3
   },
   "file_extension": ".py",
   "mimetype": "text/x-python",
   "name": "python",
   "nbconvert_exporter": "python",
   "pygments_lexer": "ipython3",
   "version": "3.10.10"
  }
 },
 "nbformat": 4,
 "nbformat_minor": 2
}

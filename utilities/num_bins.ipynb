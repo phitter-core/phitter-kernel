{
 "cells": [
  {
   "cell_type": "code",
   "execution_count": 1,
   "metadata": {},
   "outputs": [],
   "source": [
    "import math\n",
    "import scipy.stats\n",
    "import numpy"
   ]
  },
  {
   "cell_type": "code",
   "execution_count": 2,
   "metadata": {},
   "outputs": [],
   "source": [
    "def getData(direction):\n",
    "    sample_distribution_file = open(direction, \"r\")\n",
    "    data = [float(x.replace(\",\", \".\")) for x in sample_distribution_file.read().splitlines()]\n",
    "    return data"
   ]
  },
  {
   "cell_type": "code",
   "execution_count": 19,
   "metadata": {},
   "outputs": [],
   "source": [
    "path = \"../continuous/data/data_dagum_4P.txt\"\n",
    "data = getData(path)"
   ]
  },
  {
   "cell_type": "code",
   "execution_count": 4,
   "metadata": {},
   "outputs": [],
   "source": [
    "def num_bins_doane(data):\n",
    "    N = len(data)\n",
    "    skewness = scipy.stats.skew(data)\n",
    "    sigma_g1 = math.sqrt((6 * (N - 2)) / ((N + 1) * (N + 3)))\n",
    "    num_bins = 1 + math.log(N, 2) + math.log(1 + abs(skewness) / sigma_g1, 2)\n",
    "    return math.ceil(num_bins)\n",
    "\n",
    "def num_bins_freedman_diaconis(data):\n",
    "    iqr = numpy.percentile(data, 75) - numpy.percentile(data, 25)\n",
    "    bin_width = 2 * iqr / (len(data) ** (1/3))\n",
    "    num_bins = (max(data) - min(data)) / bin_width\n",
    "    return math.ceil(num_bins)\n",
    "\n",
    "\n",
    "def num_bins_scott(data):\n",
    "    sigma = numpy.std(data)\n",
    "    bin_width = 3.5 * sigma / (len(data) ** (1 / 3))\n",
    "    num_bins = (max(data) - min(data)) / bin_width\n",
    "    return math.ceil(num_bins)\n",
    "\n",
    "\n",
    "def num_bins_stone(data):\n",
    "    return math.ceil((2 * len(data)/3)  ** (1 / 3))\n",
    "\n",
    "\n",
    "def num_bins_rice(data):\n",
    "    return math.ceil(2 * (len(data) ** (1 / 3)))\n",
    "\n",
    "\n",
    "def num_bins_sturges(data):\n",
    "    return math.ceil(numpy.log2(len(data)) + 1)\n",
    "\n",
    "\n",
    "def num_bins_sqrt(data):\n",
    "    return math.ceil(numpy.sqrt(len(data)))\n"
   ]
  },
  {
   "cell_type": "code",
   "execution_count": 20,
   "metadata": {},
   "outputs": [
    {
     "name": "stdout",
     "output_type": "stream",
     "text": [
      "1\n"
     ]
    }
   ],
   "source": [
    "import numpy as np\n",
    "\n",
    "def leave_one_out_error(data, num_bins, left_out_index):\n",
    "    \"\"\"Calcula el error de dejar un dato fuera para un número específico de bins.\"\"\"\n",
    "    # Excluye el dato en left_out_index\n",
    "    data_without_left_out = np.delete(data, left_out_index)\n",
    "    \n",
    "    # Crea un histograma con el conjunto de datos excluyendo el dato\n",
    "    hist, bin_edges = np.histogram(data_without_left_out, bins=num_bins)\n",
    "    \n",
    "    # Encuentra el bin correspondiente al dato excluido\n",
    "    bin_index = np.digitize(data[left_out_index], bin_edges) - 1\n",
    "    bin_index = min(bin_index, len(hist) - 1)  # Asegura que el índice esté dentro de los límites\n",
    "    \n",
    "    # Estima la densidad para el dato excluido dividiendo el conteo del bin por el ancho del bin\n",
    "    estimated_density = hist[bin_index] / (bin_edges[bin_index+1] - bin_edges[bin_index])\n",
    "    \n",
    "    # Calcula el error cuadrático para el dato excluido\n",
    "    actual_density = 1  # dado que es un solo dato\n",
    "    squared_error = (estimated_density - actual_density) ** 2\n",
    "    \n",
    "    return squared_error\n",
    "\n",
    "def optimal_bins_cross_validation(data, max_bins=50):\n",
    "    \"\"\"Encuentra el número óptimo de bins utilizando validación cruzada leave-one-out.\"\"\"\n",
    "    total_errors = []\n",
    "    \n",
    "    # Prueba con diferentes números de bins\n",
    "    for num_bins in range(1, max_bins + 1):\n",
    "        total_error_for_bins = sum([leave_one_out_error(data, num_bins, i) for i in range(len(data))])\n",
    "        total_errors.append(total_error_for_bins)\n",
    "    \n",
    "    # Devuelve el número de bins que minimiza el error\n",
    "    return np.argmin(total_errors) + 1\n",
    "\n",
    "\n",
    "print(optimal_bins_cross_validation(data))  # Devuelve el número óptimo de bins para el conjunto de datos"
   ]
  },
  {
   "cell_type": "code",
   "execution_count": 5,
   "metadata": {},
   "outputs": [
    {
     "data": {
      "text/plain": [
       "67"
      ]
     },
     "execution_count": 5,
     "metadata": {},
     "output_type": "execute_result"
    }
   ],
   "source": [
    "## max(\"fd\", \"sturges\")\n",
    "len(numpy.histogram_bin_edges(data, bins=\"auto\"))"
   ]
  },
  {
   "cell_type": "markdown",
   "metadata": {},
   "source": [
    "##### **Freedman Diaconis Estimator**\n",
    "$$\n",
    "h = 2 \\frac{IQR}{n^{1/3}}\n",
    "$$"
   ]
  },
  {
   "cell_type": "code",
   "execution_count": 6,
   "metadata": {},
   "outputs": [
    {
     "data": {
      "text/plain": [
       "(66, 66)"
      ]
     },
     "execution_count": 6,
     "metadata": {},
     "output_type": "execute_result"
    }
   ],
   "source": [
    "len(numpy.histogram_bin_edges(data, bins=\"fd\")) - 1, num_bins_freedman_diaconis(data)"
   ]
  },
  {
   "cell_type": "markdown",
   "metadata": {},
   "source": [
    "##### **Doane**\n",
    "$$\n",
    "n_h = 1 + \\log_{2}(n) +\\log_{2}\\left(1 + \\frac{|g_1|}{\\sigma_{g_1}}\\right)\\\\\n",
    "g_1 = E\\left[\\left(\\frac{x - \\mu}{\\sigma}\\right)^3\\right]\\\\\n",
    "\\sigma_{g_1} = \\sqrt{\\frac{6(n - 2)}{(n + 1)(n + 3)}}\n",
    "$$"
   ]
  },
  {
   "cell_type": "code",
   "execution_count": 7,
   "metadata": {},
   "outputs": [
    {
     "data": {
      "text/plain": [
       "(18, 18)"
      ]
     },
     "execution_count": 7,
     "metadata": {},
     "output_type": "execute_result"
    }
   ],
   "source": [
    "len(numpy.histogram_bin_edges(data, bins=\"doane\")) - 1, num_bins_doane(data)"
   ]
  },
  {
   "cell_type": "markdown",
   "metadata": {},
   "source": [
    "##### **Scott**\n",
    "$$\n",
    "h = \\sigma \\sqrt[3]{\\frac{24 \\sqrt{\\pi}}{n}}\n",
    "$$"
   ]
  },
  {
   "cell_type": "code",
   "execution_count": 8,
   "metadata": {},
   "outputs": [
    {
     "data": {
      "text/plain": [
       "(39, 38)"
      ]
     },
     "execution_count": 8,
     "metadata": {},
     "output_type": "execute_result"
    }
   ],
   "source": [
    "len(numpy.histogram_bin_edges(data, bins=\"scott\")) - 1, num_bins_scott(data)"
   ]
  },
  {
   "cell_type": "markdown",
   "metadata": {},
   "source": [
    "##### **Stone**\n",
    "$$\n",
    "\n",
    "$$"
   ]
  },
  {
   "cell_type": "code",
   "execution_count": 9,
   "metadata": {},
   "outputs": [
    {
     "data": {
      "text/plain": [
       "(40, 12)"
      ]
     },
     "execution_count": 9,
     "metadata": {},
     "output_type": "execute_result"
    }
   ],
   "source": [
    "len(numpy.histogram_bin_edges(data, bins=\"stone\")) - 1, num_bins_stone(data)"
   ]
  },
  {
   "cell_type": "markdown",
   "metadata": {},
   "source": [
    "##### **Rice**\n",
    "$$\n",
    "n_h = 2n^{1/3}\n",
    "$$"
   ]
  },
  {
   "cell_type": "code",
   "execution_count": 10,
   "metadata": {},
   "outputs": [
    {
     "data": {
      "text/plain": [
       "(26, 26)"
      ]
     },
     "execution_count": 10,
     "metadata": {},
     "output_type": "execute_result"
    }
   ],
   "source": [
    "len(numpy.histogram_bin_edges(data, bins=\"rice\")) - 1, num_bins_rice(data)"
   ]
  },
  {
   "cell_type": "markdown",
   "metadata": {},
   "source": [
    "##### **Sturges**\n",
    "$$\n",
    "n_h = \\log _{2}(n) + 1\n",
    "$$"
   ]
  },
  {
   "cell_type": "code",
   "execution_count": 11,
   "metadata": {},
   "outputs": [
    {
     "data": {
      "text/plain": [
       "(13, 13)"
      ]
     },
     "execution_count": 11,
     "metadata": {},
     "output_type": "execute_result"
    }
   ],
   "source": [
    "len(numpy.histogram_bin_edges(data, bins=\"sturges\")) - 1, num_bins_sturges(data)"
   ]
  },
  {
   "cell_type": "markdown",
   "metadata": {},
   "source": [
    "##### **Sqrt**\n",
    "$$\n",
    "n_h = \\sqrt n\n",
    "$$"
   ]
  },
  {
   "cell_type": "code",
   "execution_count": 12,
   "metadata": {},
   "outputs": [
    {
     "data": {
      "text/plain": [
       "(47, 47)"
      ]
     },
     "execution_count": 12,
     "metadata": {},
     "output_type": "execute_result"
    }
   ],
   "source": [
    "len(numpy.histogram_bin_edges(data, bins=\"sqrt\")) - 1, num_bins_sqrt(data)"
   ]
  }
 ],
 "metadata": {
  "kernelspec": {
   "display_name": "Python 3",
   "language": "python",
   "name": "python3"
  },
  "language_info": {
   "codemirror_mode": {
    "name": "ipython",
    "version": 3
   },
   "file_extension": ".py",
   "mimetype": "text/x-python",
   "name": "python",
   "nbconvert_exporter": "python",
   "pygments_lexer": "ipython3",
   "version": "3.10.10"
  },
  "orig_nbformat": 4
 },
 "nbformat": 4,
 "nbformat_minor": 2
}
